{
  "nbformat": 4,
  "nbformat_minor": 5,
  "metadata": {
    "kernelspec": {
      "display_name": "Python 3",
      "language": "python",
      "name": "python3"
    },
    "language_info": {
      "codemirror_mode": {
        "name": "ipython",
        "version": 3
      },
      "file_extension": ".py",
      "mimetype": "text/x-python",
      "name": "python",
      "nbconvert_exporter": "python",
      "pygments_lexer": "ipython3",
      "version": "3.7.10"
    },
    "colab": {
      "name": "BifurcationMapParallel.ipynb",
      "provenance": [],
      "collapsed_sections": []
    }
  },
  "cells": [
    {
      "cell_type": "code",
      "metadata": {
        "colab": {
          "base_uri": "https://localhost:8080/"
        },
        "id": "DR94zkl0IUKs",
        "outputId": "bc838ca8-9eb7-4c77-a5c1-1546dbb919d3"
      },
      "source": [
        "!pip install mpi4py"
      ],
      "id": "DR94zkl0IUKs",
      "execution_count": 1,
      "outputs": [
        {
          "output_type": "stream",
          "name": "stdout",
          "text": [
            "Collecting mpi4py\n",
            "  Downloading mpi4py-3.1.3.tar.gz (2.5 MB)\n",
            "\u001b[K     |████████████████████████████████| 2.5 MB 5.1 MB/s \n",
            "\u001b[?25h  Installing build dependencies ... \u001b[?25l\u001b[?25hdone\n",
            "  Getting requirements to build wheel ... \u001b[?25l\u001b[?25hdone\n",
            "    Preparing wheel metadata ... \u001b[?25l\u001b[?25hdone\n",
            "Building wheels for collected packages: mpi4py\n",
            "  Building wheel for mpi4py (PEP 517) ... \u001b[?25l\u001b[?25hdone\n",
            "  Created wheel for mpi4py: filename=mpi4py-3.1.3-cp37-cp37m-linux_x86_64.whl size=2185319 sha256=fdea7a865ddb2cbfaf516cfada83187247bfb3a76591192f0cd669305646ded6\n",
            "  Stored in directory: /root/.cache/pip/wheels/7a/07/14/6a0c63fa2c6e473c6edc40985b7d89f05c61ff25ee7f0ad9ac\n",
            "Successfully built mpi4py\n",
            "Installing collected packages: mpi4py\n",
            "Successfully installed mpi4py-3.1.3\n"
          ]
        }
      ]
    },
    {
      "cell_type": "code",
      "metadata": {
        "colab": {
          "base_uri": "https://localhost:8080/"
        },
        "id": "6FVJF5NbISoD",
        "outputId": "e720c5ce-484f-4131-d099-9be73268d94f"
      },
      "source": [
        "%%writefile bifurcation.py\n",
        "from mpi4py import MPI\n",
        "import numpy as np\n",
        "import matplotlib.pyplot as plt\n",
        "\n",
        "def bifurcation(r, x):\n",
        "    return r * x * (1 - x)\n",
        "\n",
        "def main():\n",
        "    comm = MPI.COMM_WORLD\n",
        "    rank = comm.Get_rank()\n",
        "    size = comm.Get_size()\n",
        "\n",
        "    start = MPI.Wtime()\n",
        "    n = 1000000\n",
        "    last = 20\n",
        "    num_r_per_rank = n // size\n",
        "    r = np.linspace(2.5 + rank / size * (4 - 2.5), 2.5 + (rank+1) / size * (4 - 2.5), num_r_per_rank)\n",
        "    iterations = 10000\n",
        "    x = 1e-5 * np.ones(num_r_per_rank)\n",
        "\n",
        "    sendbuff_x = []\n",
        "    sendbuff_r = []\n",
        "\n",
        "\n",
        "    recvbuf_r = None\n",
        "    recvbuf_x = None\n",
        "\n",
        "    if rank == 0:\n",
        "        recvbuf_r = np.empty((last, num_r_per_rank * size ), dtype='d')\n",
        "        recvbuf_x = np.empty((last, num_r_per_rank * size ), dtype='d')\n",
        "\n",
        "    for i in range(iterations):\n",
        "        x = bifurcation(r, x)\n",
        "        if i >= (iterations - last):\n",
        "            sendbuff_x.append(x) #= x if sendbuff_x is None else np.vstack((sendbuff_x, x))\n",
        "            sendbuff_r.append(r) #= r if sendbuff_r is None else np.vstack((sendbuff_r, r))\n",
        "\n",
        "\n",
        "    comm.Gather(np.array(sendbuff_x), recvbuf_x, root = 0)\n",
        "    comm.Gather(np.array(sendbuff_r), recvbuf_r, root = 0)\n",
        "    end = MPI.Wtime()\n",
        "\n",
        "    if rank == 0:\n",
        "        print(f'Size is {size} time is {end - start}')\n",
        "        fig, (ax1) = plt.subplots(1, 1)\n",
        "        ax1.set_xlim(2.5, 4)\n",
        "        ax1.set_title(\"Bifurcation diagram\")\n",
        "        for r, x in zip(recvbuf_r, recvbuf_x):\n",
        "            ax1.plot(r, x, ',k', alpha=.25)\n",
        "        plt.tight_layout()\n",
        "        fig.savefig('bifurcation_map.png')\n",
        "    \n",
        "main()"
      ],
      "id": "6FVJF5NbISoD",
      "execution_count": 2,
      "outputs": [
        {
          "output_type": "stream",
          "name": "stdout",
          "text": [
            "Writing bifurcation.py\n"
          ]
        }
      ]
    },
    {
      "cell_type": "code",
      "metadata": {
        "colab": {
          "base_uri": "https://localhost:8080/"
        },
        "id": "kBL9ugfbS7VZ",
        "outputId": "31cea902-67f4-4a82-82f5-14e24fb3b17b"
      },
      "source": [
        "! mpirun --allow-run-as-root -np 1 python bifurcation.py\n",
        "! mpirun --allow-run-as-root -np 2 python bifurcation.py\n",
        "! mpirun --allow-run-as-root -np 3 python bifurcation.py\n",
        "! mpirun --allow-run-as-root -np 4 python bifurcation.py\n",
        "! mpirun --allow-run-as-root -np 5 python bifurcation.py\n",
        "! mpirun --allow-run-as-root -np 6 python bifurcation.py\n",
        "! mpirun --allow-run-as-root -np 7 python bifurcation.py\n",
        "! mpirun --allow-run-as-root -np 8 python bifurcation.py"
      ],
      "id": "kBL9ugfbS7VZ",
      "execution_count": 3,
      "outputs": [
        {
          "output_type": "stream",
          "name": "stdout",
          "text": [
            "Size is 1 time is 42.359537354999986\n",
            "Size is 2 time is 37.26429525399999\n",
            "Size is 3 time is 36.67619556100004\n",
            "Size is 4 time is 38.45385159800003\n",
            "Size is 5 time is 36.39114715599999\n",
            "Size is 6 time is 36.28174171499995\n",
            "Size is 7 time is 36.124017202999994\n",
            "Size is 8 time is 35.676010249\n"
          ]
        }
      ]
    },
    {
      "cell_type": "code",
      "metadata": {
        "colab": {
          "base_uri": "https://localhost:8080/",
          "height": 497
        },
        "id": "NuB57CNMP2H4",
        "outputId": "6092c877-ec64-427e-bcde-49c626f472e8"
      },
      "source": [
        "from PIL import Image\n",
        "Image.open('bifurcation_map.png')"
      ],
      "id": "NuB57CNMP2H4",
      "execution_count": 4,
      "outputs": [
        {
          "output_type": "execute_result",
          "data": {
            "image/png": "[encoded data removed]",
            "text/plain": [
              "<PIL.PngImagePlugin.PngImageFile image mode=RGBA size=640x480 at 0x7FE58EEA0C10>"
            ]
          },
          "metadata": {},
          "execution_count": 4
        }
      ]
    },
    {
      "cell_type": "code",
      "metadata": {
        "id": "acting-office",
        "colab": {
          "base_uri": "https://localhost:8080/",
          "height": 513
        },
        "outputId": "20b7a8d7-8175-4007-ddc7-531239f82ac0"
      },
      "source": [
        "import matplotlib.pyplot as plt\n",
        "times = [42.359537354999986,\n",
        "37.26429525399999,36.67619556100004,38.45385159800003,36.39114715599999,36.28174171499995,36.124017202999994,\n",
        "35.676010249]\n",
        "\n",
        "\n",
        "plt.figure(figsize = (8, 8))\n",
        "plt.plot([i for i in range(1, len(times)+1)], [times[0] / time for time in times])\n",
        "plt.xlabel('Number of processes')\n",
        "plt.ylabel('Speedup')\n",
        "plt.title('Speedup dependency for Bifurcation Map')\n",
        "plt.show()"
      ],
      "id": "acting-office",
      "execution_count": 6,
      "outputs": [
        {
          "output_type": "display_data",
          "data": {
            "image/png": "[encoded data removed]",
            "text/plain": [
              "<Figure size 576x576 with 1 Axes>"
            ]
          },
          "metadata": {
            "needs_background": "light"
          }
        }
      ]
    },
    {
      "cell_type": "code",
      "metadata": {
        "id": "APNOoPFltUtb"
      },
      "source": [
        ""
      ],
      "id": "APNOoPFltUtb",
      "execution_count": null,
      "outputs": []
    },
    {
      "cell_type": "code",
      "metadata": {
        "id": "86bgxYcyx3zS"
      },
      "source": [
        ""
      ],
      "id": "86bgxYcyx3zS",
      "execution_count": null,
      "outputs": []
    },
    {
      "cell_type": "code",
      "metadata": {
        "id": "2YlHK0-TyCcr"
      },
      "source": [
        ""
      ],
      "id": "2YlHK0-TyCcr",
      "execution_count": null,
      "outputs": []
    }
  ]
}