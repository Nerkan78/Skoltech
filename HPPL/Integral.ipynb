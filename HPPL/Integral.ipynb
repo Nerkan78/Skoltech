{
  "nbformat": 4,
  "nbformat_minor": 0,
  "metadata": {
    "colab": {
      "name": "Integral.ipynb",
      "provenance": []
    },
    "kernelspec": {
      "display_name": "Python 3",
      "language": "python",
      "name": "python3"
    },
    "language_info": {
      "codemirror_mode": {
        "name": "ipython",
        "version": 3
      },
      "file_extension": ".py",
      "mimetype": "text/x-python",
      "name": "python",
      "nbconvert_exporter": "python",
      "pygments_lexer": "ipython3",
      "version": "3.7.0"
    },
    "widgets": {
      "application/vnd.jupyter.widget-state+json": {
        "82eca753d3a349f28e0015608273cc83": {
          "model_module": "@jupyter-widgets/controls",
          "model_name": "HBoxModel",
          "model_module_version": "1.5.0",
          "state": {
            "_view_name": "HBoxView",
            "_dom_classes": [],
            "_model_name": "HBoxModel",
            "_view_module": "@jupyter-widgets/controls",
            "_model_module_version": "1.5.0",
            "_view_count": null,
            "_view_module_version": "1.5.0",
            "box_style": "",
            "layout": "IPY_MODEL_29b5f7858ff94a8e92c0100d5bdd2854",
            "_model_module": "@jupyter-widgets/controls",
            "children": [
              "IPY_MODEL_25d12514d5a14b74881bb8e8ab89da43",
              "IPY_MODEL_22d01405146f4170b92ff7c45cc298f9",
              "IPY_MODEL_1ca58f58fe9145ecbcf55fd0b59b3c3a"
            ]
          }
        },
        "29b5f7858ff94a8e92c0100d5bdd2854": {
          "model_module": "@jupyter-widgets/base",
          "model_name": "LayoutModel",
          "model_module_version": "1.2.0",
          "state": {
            "_view_name": "LayoutView",
            "grid_template_rows": null,
            "right": null,
            "justify_content": null,
            "_view_module": "@jupyter-widgets/base",
            "overflow": null,
            "_model_module_version": "1.2.0",
            "_view_count": null,
            "flex_flow": null,
            "width": null,
            "min_width": null,
            "border": null,
            "align_items": null,
            "bottom": null,
            "_model_module": "@jupyter-widgets/base",
            "top": null,
            "grid_column": null,
            "overflow_y": null,
            "overflow_x": null,
            "grid_auto_flow": null,
            "grid_area": null,
            "grid_template_columns": null,
            "flex": null,
            "_model_name": "LayoutModel",
            "justify_items": null,
            "grid_row": null,
            "max_height": null,
            "align_content": null,
            "visibility": null,
            "align_self": null,
            "height": null,
            "min_height": null,
            "padding": null,
            "grid_auto_rows": null,
            "grid_gap": null,
            "max_width": null,
            "order": null,
            "_view_module_version": "1.2.0",
            "grid_template_areas": null,
            "object_position": null,
            "object_fit": null,
            "grid_auto_columns": null,
            "margin": null,
            "display": null,
            "left": null
          }
        },
        "25d12514d5a14b74881bb8e8ab89da43": {
          "model_module": "@jupyter-widgets/controls",
          "model_name": "HTMLModel",
          "model_module_version": "1.5.0",
          "state": {
            "_view_name": "HTMLView",
            "style": "IPY_MODEL_3f021dd3bb694859b1c63b5d909290ce",
            "_dom_classes": [],
            "description": "",
            "_model_name": "HTMLModel",
            "placeholder": "​",
            "_view_module": "@jupyter-widgets/controls",
            "_model_module_version": "1.5.0",
            "value": "100%",
            "_view_count": null,
            "_view_module_version": "1.5.0",
            "description_tooltip": null,
            "_model_module": "@jupyter-widgets/controls",
            "layout": "IPY_MODEL_dadaae8f5780442b94935a7e39164d55"
          }
        },
        "22d01405146f4170b92ff7c45cc298f9": {
          "model_module": "@jupyter-widgets/controls",
          "model_name": "FloatProgressModel",
          "model_module_version": "1.5.0",
          "state": {
            "_view_name": "ProgressView",
            "style": "IPY_MODEL_9ec79549c0984808b573e14f377525a3",
            "_dom_classes": [],
            "description": "",
            "_model_name": "FloatProgressModel",
            "bar_style": "success",
            "max": 9,
            "_view_module": "@jupyter-widgets/controls",
            "_model_module_version": "1.5.0",
            "value": 9,
            "_view_count": null,
            "_view_module_version": "1.5.0",
            "orientation": "horizontal",
            "min": 0,
            "description_tooltip": null,
            "_model_module": "@jupyter-widgets/controls",
            "layout": "IPY_MODEL_a49b1c9079c642c28295f7910e759aa0"
          }
        },
        "1ca58f58fe9145ecbcf55fd0b59b3c3a": {
          "model_module": "@jupyter-widgets/controls",
          "model_name": "HTMLModel",
          "model_module_version": "1.5.0",
          "state": {
            "_view_name": "HTMLView",
            "style": "IPY_MODEL_4df03ff411164761ab22f1dede687a1a",
            "_dom_classes": [],
            "description": "",
            "_model_name": "HTMLModel",
            "placeholder": "​",
            "_view_module": "@jupyter-widgets/controls",
            "_model_module_version": "1.5.0",
            "value": " 9/9 [00:07&lt;00:00,  1.12s/it]",
            "_view_count": null,
            "_view_module_version": "1.5.0",
            "description_tooltip": null,
            "_model_module": "@jupyter-widgets/controls",
            "layout": "IPY_MODEL_633152658f834600a1f5b2b7b45840c5"
          }
        },
        "3f021dd3bb694859b1c63b5d909290ce": {
          "model_module": "@jupyter-widgets/controls",
          "model_name": "DescriptionStyleModel",
          "model_module_version": "1.5.0",
          "state": {
            "_view_name": "StyleView",
            "_model_name": "DescriptionStyleModel",
            "description_width": "",
            "_view_module": "@jupyter-widgets/base",
            "_model_module_version": "1.5.0",
            "_view_count": null,
            "_view_module_version": "1.2.0",
            "_model_module": "@jupyter-widgets/controls"
          }
        },
        "dadaae8f5780442b94935a7e39164d55": {
          "model_module": "@jupyter-widgets/base",
          "model_name": "LayoutModel",
          "model_module_version": "1.2.0",
          "state": {
            "_view_name": "LayoutView",
            "grid_template_rows": null,
            "right": null,
            "justify_content": null,
            "_view_module": "@jupyter-widgets/base",
            "overflow": null,
            "_model_module_version": "1.2.0",
            "_view_count": null,
            "flex_flow": null,
            "width": null,
            "min_width": null,
            "border": null,
            "align_items": null,
            "bottom": null,
            "_model_module": "@jupyter-widgets/base",
            "top": null,
            "grid_column": null,
            "overflow_y": null,
            "overflow_x": null,
            "grid_auto_flow": null,
            "grid_area": null,
            "grid_template_columns": null,
            "flex": null,
            "_model_name": "LayoutModel",
            "justify_items": null,
            "grid_row": null,
            "max_height": null,
            "align_content": null,
            "visibility": null,
            "align_self": null,
            "height": null,
            "min_height": null,
            "padding": null,
            "grid_auto_rows": null,
            "grid_gap": null,
            "max_width": null,
            "order": null,
            "_view_module_version": "1.2.0",
            "grid_template_areas": null,
            "object_position": null,
            "object_fit": null,
            "grid_auto_columns": null,
            "margin": null,
            "display": null,
            "left": null
          }
        },
        "9ec79549c0984808b573e14f377525a3": {
          "model_module": "@jupyter-widgets/controls",
          "model_name": "ProgressStyleModel",
          "model_module_version": "1.5.0",
          "state": {
            "_view_name": "StyleView",
            "_model_name": "ProgressStyleModel",
            "description_width": "",
            "_view_module": "@jupyter-widgets/base",
            "_model_module_version": "1.5.0",
            "_view_count": null,
            "_view_module_version": "1.2.0",
            "bar_color": null,
            "_model_module": "@jupyter-widgets/controls"
          }
        },
        "a49b1c9079c642c28295f7910e759aa0": {
          "model_module": "@jupyter-widgets/base",
          "model_name": "LayoutModel",
          "model_module_version": "1.2.0",
          "state": {
            "_view_name": "LayoutView",
            "grid_template_rows": null,
            "right": null,
            "justify_content": null,
            "_view_module": "@jupyter-widgets/base",
            "overflow": null,
            "_model_module_version": "1.2.0",
            "_view_count": null,
            "flex_flow": null,
            "width": null,
            "min_width": null,
            "border": null,
            "align_items": null,
            "bottom": null,
            "_model_module": "@jupyter-widgets/base",
            "top": null,
            "grid_column": null,
            "overflow_y": null,
            "overflow_x": null,
            "grid_auto_flow": null,
            "grid_area": null,
            "grid_template_columns": null,
            "flex": null,
            "_model_name": "LayoutModel",
            "justify_items": null,
            "grid_row": null,
            "max_height": null,
            "align_content": null,
            "visibility": null,
            "align_self": null,
            "height": null,
            "min_height": null,
            "padding": null,
            "grid_auto_rows": null,
            "grid_gap": null,
            "max_width": null,
            "order": null,
            "_view_module_version": "1.2.0",
            "grid_template_areas": null,
            "object_position": null,
            "object_fit": null,
            "grid_auto_columns": null,
            "margin": null,
            "display": null,
            "left": null
          }
        },
        "4df03ff411164761ab22f1dede687a1a": {
          "model_module": "@jupyter-widgets/controls",
          "model_name": "DescriptionStyleModel",
          "model_module_version": "1.5.0",
          "state": {
            "_view_name": "StyleView",
            "_model_name": "DescriptionStyleModel",
            "description_width": "",
            "_view_module": "@jupyter-widgets/base",
            "_model_module_version": "1.5.0",
            "_view_count": null,
            "_view_module_version": "1.2.0",
            "_model_module": "@jupyter-widgets/controls"
          }
        },
        "633152658f834600a1f5b2b7b45840c5": {
          "model_module": "@jupyter-widgets/base",
          "model_name": "LayoutModel",
          "model_module_version": "1.2.0",
          "state": {
            "_view_name": "LayoutView",
            "grid_template_rows": null,
            "right": null,
            "justify_content": null,
            "_view_module": "@jupyter-widgets/base",
            "overflow": null,
            "_model_module_version": "1.2.0",
            "_view_count": null,
            "flex_flow": null,
            "width": null,
            "min_width": null,
            "border": null,
            "align_items": null,
            "bottom": null,
            "_model_module": "@jupyter-widgets/base",
            "top": null,
            "grid_column": null,
            "overflow_y": null,
            "overflow_x": null,
            "grid_auto_flow": null,
            "grid_area": null,
            "grid_template_columns": null,
            "flex": null,
            "_model_name": "LayoutModel",
            "justify_items": null,
            "grid_row": null,
            "max_height": null,
            "align_content": null,
            "visibility": null,
            "align_self": null,
            "height": null,
            "min_height": null,
            "padding": null,
            "grid_auto_rows": null,
            "grid_gap": null,
            "max_width": null,
            "order": null,
            "_view_module_version": "1.2.0",
            "grid_template_areas": null,
            "object_position": null,
            "object_fit": null,
            "grid_auto_columns": null,
            "margin": null,
            "display": null,
            "left": null
          }
        },
        "ad586727bdf943d2b267bd30907a9a12": {
          "model_module": "@jupyter-widgets/controls",
          "model_name": "HBoxModel",
          "model_module_version": "1.5.0",
          "state": {
            "_view_name": "HBoxView",
            "_dom_classes": [],
            "_model_name": "HBoxModel",
            "_view_module": "@jupyter-widgets/controls",
            "_model_module_version": "1.5.0",
            "_view_count": null,
            "_view_module_version": "1.5.0",
            "box_style": "",
            "layout": "IPY_MODEL_9ff1ddaf27c64153ae254a61a21e7cd5",
            "_model_module": "@jupyter-widgets/controls",
            "children": [
              "IPY_MODEL_c7186a90afeb4e4a8b5a35f8f020a859",
              "IPY_MODEL_4ddf0e200de649d687fc8d2268a69e64",
              "IPY_MODEL_4891cec7c5a54a8c802f4199c095f40b"
            ]
          }
        },
        "9ff1ddaf27c64153ae254a61a21e7cd5": {
          "model_module": "@jupyter-widgets/base",
          "model_name": "LayoutModel",
          "model_module_version": "1.2.0",
          "state": {
            "_view_name": "LayoutView",
            "grid_template_rows": null,
            "right": null,
            "justify_content": null,
            "_view_module": "@jupyter-widgets/base",
            "overflow": null,
            "_model_module_version": "1.2.0",
            "_view_count": null,
            "flex_flow": null,
            "width": null,
            "min_width": null,
            "border": null,
            "align_items": null,
            "bottom": null,
            "_model_module": "@jupyter-widgets/base",
            "top": null,
            "grid_column": null,
            "overflow_y": null,
            "overflow_x": null,
            "grid_auto_flow": null,
            "grid_area": null,
            "grid_template_columns": null,
            "flex": null,
            "_model_name": "LayoutModel",
            "justify_items": null,
            "grid_row": null,
            "max_height": null,
            "align_content": null,
            "visibility": null,
            "align_self": null,
            "height": null,
            "min_height": null,
            "padding": null,
            "grid_auto_rows": null,
            "grid_gap": null,
            "max_width": null,
            "order": null,
            "_view_module_version": "1.2.0",
            "grid_template_areas": null,
            "object_position": null,
            "object_fit": null,
            "grid_auto_columns": null,
            "margin": null,
            "display": null,
            "left": null
          }
        },
        "c7186a90afeb4e4a8b5a35f8f020a859": {
          "model_module": "@jupyter-widgets/controls",
          "model_name": "HTMLModel",
          "model_module_version": "1.5.0",
          "state": {
            "_view_name": "HTMLView",
            "style": "IPY_MODEL_9883af55ad9e419ca030388c7a3ea459",
            "_dom_classes": [],
            "description": "",
            "_model_name": "HTMLModel",
            "placeholder": "​",
            "_view_module": "@jupyter-widgets/controls",
            "_model_module_version": "1.5.0",
            "value": "100%",
            "_view_count": null,
            "_view_module_version": "1.5.0",
            "description_tooltip": null,
            "_model_module": "@jupyter-widgets/controls",
            "layout": "IPY_MODEL_a371390e683648b2ae168f0ded286b45"
          }
        },
        "4ddf0e200de649d687fc8d2268a69e64": {
          "model_module": "@jupyter-widgets/controls",
          "model_name": "FloatProgressModel",
          "model_module_version": "1.5.0",
          "state": {
            "_view_name": "ProgressView",
            "style": "IPY_MODEL_85f7c511a3bf4ed4ab6d63cc77a90378",
            "_dom_classes": [],
            "description": "",
            "_model_name": "FloatProgressModel",
            "bar_style": "success",
            "max": 40,
            "_view_module": "@jupyter-widgets/controls",
            "_model_module_version": "1.5.0",
            "value": 40,
            "_view_count": null,
            "_view_module_version": "1.5.0",
            "orientation": "horizontal",
            "min": 0,
            "description_tooltip": null,
            "_model_module": "@jupyter-widgets/controls",
            "layout": "IPY_MODEL_2f1a3f0739444a5285186c888ede8a3b"
          }
        },
        "4891cec7c5a54a8c802f4199c095f40b": {
          "model_module": "@jupyter-widgets/controls",
          "model_name": "HTMLModel",
          "model_module_version": "1.5.0",
          "state": {
            "_view_name": "HTMLView",
            "style": "IPY_MODEL_e72aeabc92a2482794a6ee7a63843afe",
            "_dom_classes": [],
            "description": "",
            "_model_name": "HTMLModel",
            "placeholder": "​",
            "_view_module": "@jupyter-widgets/controls",
            "_model_module_version": "1.5.0",
            "value": " 40/40 [00:15&lt;00:00, 257.13it/s]",
            "_view_count": null,
            "_view_module_version": "1.5.0",
            "description_tooltip": null,
            "_model_module": "@jupyter-widgets/controls",
            "layout": "IPY_MODEL_89422470f2514c84a1b8fe9e54239b97"
          }
        },
        "9883af55ad9e419ca030388c7a3ea459": {
          "model_module": "@jupyter-widgets/controls",
          "model_name": "DescriptionStyleModel",
          "model_module_version": "1.5.0",
          "state": {
            "_view_name": "StyleView",
            "_model_name": "DescriptionStyleModel",
            "description_width": "",
            "_view_module": "@jupyter-widgets/base",
            "_model_module_version": "1.5.0",
            "_view_count": null,
            "_view_module_version": "1.2.0",
            "_model_module": "@jupyter-widgets/controls"
          }
        },
        "a371390e683648b2ae168f0ded286b45": {
          "model_module": "@jupyter-widgets/base",
          "model_name": "LayoutModel",
          "model_module_version": "1.2.0",
          "state": {
            "_view_name": "LayoutView",
            "grid_template_rows": null,
            "right": null,
            "justify_content": null,
            "_view_module": "@jupyter-widgets/base",
            "overflow": null,
            "_model_module_version": "1.2.0",
            "_view_count": null,
            "flex_flow": null,
            "width": null,
            "min_width": null,
            "border": null,
            "align_items": null,
            "bottom": null,
            "_model_module": "@jupyter-widgets/base",
            "top": null,
            "grid_column": null,
            "overflow_y": null,
            "overflow_x": null,
            "grid_auto_flow": null,
            "grid_area": null,
            "grid_template_columns": null,
            "flex": null,
            "_model_name": "LayoutModel",
            "justify_items": null,
            "grid_row": null,
            "max_height": null,
            "align_content": null,
            "visibility": null,
            "align_self": null,
            "height": null,
            "min_height": null,
            "padding": null,
            "grid_auto_rows": null,
            "grid_gap": null,
            "max_width": null,
            "order": null,
            "_view_module_version": "1.2.0",
            "grid_template_areas": null,
            "object_position": null,
            "object_fit": null,
            "grid_auto_columns": null,
            "margin": null,
            "display": null,
            "left": null
          }
        },
        "85f7c511a3bf4ed4ab6d63cc77a90378": {
          "model_module": "@jupyter-widgets/controls",
          "model_name": "ProgressStyleModel",
          "model_module_version": "1.5.0",
          "state": {
            "_view_name": "StyleView",
            "_model_name": "ProgressStyleModel",
            "description_width": "",
            "_view_module": "@jupyter-widgets/base",
            "_model_module_version": "1.5.0",
            "_view_count": null,
            "_view_module_version": "1.2.0",
            "bar_color": null,
            "_model_module": "@jupyter-widgets/controls"
          }
        },
        "2f1a3f0739444a5285186c888ede8a3b": {
          "model_module": "@jupyter-widgets/base",
          "model_name": "LayoutModel",
          "model_module_version": "1.2.0",
          "state": {
            "_view_name": "LayoutView",
            "grid_template_rows": null,
            "right": null,
            "justify_content": null,
            "_view_module": "@jupyter-widgets/base",
            "overflow": null,
            "_model_module_version": "1.2.0",
            "_view_count": null,
            "flex_flow": null,
            "width": null,
            "min_width": null,
            "border": null,
            "align_items": null,
            "bottom": null,
            "_model_module": "@jupyter-widgets/base",
            "top": null,
            "grid_column": null,
            "overflow_y": null,
            "overflow_x": null,
            "grid_auto_flow": null,
            "grid_area": null,
            "grid_template_columns": null,
            "flex": null,
            "_model_name": "LayoutModel",
            "justify_items": null,
            "grid_row": null,
            "max_height": null,
            "align_content": null,
            "visibility": null,
            "align_self": null,
            "height": null,
            "min_height": null,
            "padding": null,
            "grid_auto_rows": null,
            "grid_gap": null,
            "max_width": null,
            "order": null,
            "_view_module_version": "1.2.0",
            "grid_template_areas": null,
            "object_position": null,
            "object_fit": null,
            "grid_auto_columns": null,
            "margin": null,
            "display": null,
            "left": null
          }
        },
        "e72aeabc92a2482794a6ee7a63843afe": {
          "model_module": "@jupyter-widgets/controls",
          "model_name": "DescriptionStyleModel",
          "model_module_version": "1.5.0",
          "state": {
            "_view_name": "StyleView",
            "_model_name": "DescriptionStyleModel",
            "description_width": "",
            "_view_module": "@jupyter-widgets/base",
            "_model_module_version": "1.5.0",
            "_view_count": null,
            "_view_module_version": "1.2.0",
            "_model_module": "@jupyter-widgets/controls"
          }
        },
        "89422470f2514c84a1b8fe9e54239b97": {
          "model_module": "@jupyter-widgets/base",
          "model_name": "LayoutModel",
          "model_module_version": "1.2.0",
          "state": {
            "_view_name": "LayoutView",
            "grid_template_rows": null,
            "right": null,
            "justify_content": null,
            "_view_module": "@jupyter-widgets/base",
            "overflow": null,
            "_model_module_version": "1.2.0",
            "_view_count": null,
            "flex_flow": null,
            "width": null,
            "min_width": null,
            "border": null,
            "align_items": null,
            "bottom": null,
            "_model_module": "@jupyter-widgets/base",
            "top": null,
            "grid_column": null,
            "overflow_y": null,
            "overflow_x": null,
            "grid_auto_flow": null,
            "grid_area": null,
            "grid_template_columns": null,
            "flex": null,
            "_model_name": "LayoutModel",
            "justify_items": null,
            "grid_row": null,
            "max_height": null,
            "align_content": null,
            "visibility": null,
            "align_self": null,
            "height": null,
            "min_height": null,
            "padding": null,
            "grid_auto_rows": null,
            "grid_gap": null,
            "max_width": null,
            "order": null,
            "_view_module_version": "1.2.0",
            "grid_template_areas": null,
            "object_position": null,
            "object_fit": null,
            "grid_auto_columns": null,
            "margin": null,
            "display": null,
            "left": null
          }
        }
      }
    }
  },
  "cells": [
    {
      "cell_type": "markdown",
      "metadata": {
        "id": "kcFfSYq6d9IO"
      },
      "source": [
        "1. Compute the value analytically (1 point)\n",
        "\n",
        "2. Compute the integral using trapezoidal rule (1 point)\n",
        "\n",
        "3. Parallelize using MPI. You should be able to choose any number of MPI processes regardless of the number of discretization points. (2 points)\n",
        "\n",
        "4. Plot the speedup vs number of processors (1 point)\n",
        "\n",
        "5. Plot integration error vs the discretization size (1 point)"
      ]
    },
    {
      "cell_type": "markdown",
      "metadata": {
        "id": "_Fi6feo_eFaX"
      },
      "source": [
        " $\\int_{0}^{1} x^3 + 4x \\,dx = (\\frac{1}{4}x^4 + \\frac{4x^2}{2})|_0^1 = 2.25$"
      ]
    },
    {
      "cell_type": "code",
      "metadata": {
        "colab": {
          "base_uri": "https://localhost:8080/"
        },
        "id": "8bCbATYmVlCu",
        "outputId": "6d34f869-d3a8-4bcb-bfc9-ceed2d69dba6"
      },
      "source": [
        "! pip install mpi4py"
      ],
      "execution_count": 6,
      "outputs": [
        {
          "output_type": "stream",
          "name": "stdout",
          "text": [
            "Requirement already satisfied: mpi4py in /usr/local/lib/python3.7/dist-packages (3.1.3)\n"
          ]
        }
      ]
    },
    {
      "cell_type": "code",
      "metadata": {
        "colab": {
          "base_uri": "https://localhost:8080/"
        },
        "id": "YE7dZPaEgPHH",
        "outputId": "b91503e2-ae65-4cf0-b28d-b73464225fb8"
      },
      "source": [
        "import numpy as np\n",
        "\n",
        "def trapezoidal_rule(func, a, b, points_number=10000):\n",
        "    xs = np.linspace(a, b, points_number)\n",
        "    dx = xs[1] - xs[0]\n",
        "    return (func(xs[1:-1]).sum() + (func(xs[0]) + func(xs[-1])) / 2) * dx\n",
        "\n",
        "def func(x):\n",
        "    return  x ** 3 + 4 * x\n",
        "\n",
        "print(f'By trapezoidal rule values is {trapezoidal_rule(func, 0, 1, 1000)}')"
      ],
      "execution_count": 7,
      "outputs": [
        {
          "output_type": "stream",
          "name": "stdout",
          "text": [
            "By trapezoidal rule values is 2.250000250500751\n"
          ]
        }
      ]
    },
    {
      "cell_type": "code",
      "metadata": {
        "colab": {
          "base_uri": "https://localhost:8080/"
        },
        "id": "eP7StMlETHgn",
        "outputId": "a7801d87-a0b9-459d-88f3-20f43d57c779"
      },
      "source": [
        "%%writefile integral.py\n",
        "\n",
        "from mpi4py import MPI\n",
        "import numpy as np\n",
        "\n",
        "def trapezoidal_rule(func, a, b, points_number=10000):\n",
        "    xs = np.linspace(a, b, points_number)\n",
        "    dx = xs[1] - xs[0]\n",
        "    return (func(xs[1:-1]).sum() + (func(xs[0]) + func(xs[-1])) / 2) * dx\n",
        "\n",
        "def func(x):\n",
        "    return  x ** 3 + 4 * x\n",
        "\n",
        "def main():\n",
        "    comm = MPI.COMM_WORLD\n",
        "    size = comm.Get_size()\n",
        "    rank = comm.Get_rank()\n",
        "    \n",
        "    a = 0\n",
        "    b = 1\n",
        "    points_number = 10000\n",
        "\n",
        "    points_per_rank = list(map(len, np.array_split(np.ones(points_number), size)))[rank]\n",
        "    \n",
        "    a_rank = a + (b - a) / size * rank\n",
        "    b_rank = a_rank + (b - a) / size\n",
        "    start = MPI.Wtime()\n",
        "    partial_integral = np.zeros(1)\n",
        "    partial_integral[0] = trapezoidal_rule(func, a_rank, b_rank, points_per_rank)\n",
        "    \n",
        "    integral = None\n",
        "    end = MPI.Wtime()\n",
        "    if rank == 0:\n",
        "        integral = np.zeros(1)\n",
        "    comm.Reduce(partial_integral, integral, op=MPI.SUM, root=0)\n",
        "\n",
        "    if rank == 0:\n",
        "        print(f'Size is {size} time is {end - start}')\n",
        "        print(f'Integral is {integral}')\n",
        "\n",
        "main()"
      ],
      "execution_count": 8,
      "outputs": [
        {
          "output_type": "stream",
          "name": "stdout",
          "text": [
            "Overwriting integral.py\n"
          ]
        }
      ]
    },
    {
      "cell_type": "code",
      "metadata": {
        "colab": {
          "base_uri": "https://localhost:8080/"
        },
        "id": "7tEDorcWAFWn",
        "outputId": "914e8775-d142-49fe-e4b5-1b5e7bd05629"
      },
      "source": [
        "!mpirun  --allow-run-as-root  -n $n python3 integral.py "
      ],
      "execution_count": 9,
      "outputs": [
        {
          "output_type": "stream",
          "name": "stdout",
          "text": [
            "Size is 9 time is 0.00023752999999260282\n",
            "Integral is [2.25]\n"
          ]
        }
      ]
    },
    {
      "cell_type": "code",
      "metadata": {
        "colab": {
          "base_uri": "https://localhost:8080/",
          "height": 355,
          "referenced_widgets": [
            "82eca753d3a349f28e0015608273cc83",
            "29b5f7858ff94a8e92c0100d5bdd2854",
            "25d12514d5a14b74881bb8e8ab89da43",
            "22d01405146f4170b92ff7c45cc298f9",
            "1ca58f58fe9145ecbcf55fd0b59b3c3a",
            "3f021dd3bb694859b1c63b5d909290ce",
            "dadaae8f5780442b94935a7e39164d55",
            "9ec79549c0984808b573e14f377525a3",
            "a49b1c9079c642c28295f7910e759aa0",
            "4df03ff411164761ab22f1dede687a1a",
            "633152658f834600a1f5b2b7b45840c5"
          ]
        },
        "id": "4lm4EpNwTHgn",
        "outputId": "a0192b4f-0252-4507-c1b5-447376f4a10d"
      },
      "source": [
        "from tqdm.notebook import tqdm\n",
        "import numpy as np\n",
        "import matplotlib.pyplot as plt\n",
        "\n",
        "processes = np.arange(1, 10, 1)\n",
        "    \n",
        "for n in tqdm(processes):\n",
        "    !mpirun  --allow-run-as-root  -n $n python3 integral.py \n"
      ],
      "execution_count": 10,
      "outputs": [
        {
          "output_type": "display_data",
          "data": {
            "application/vnd.jupyter.widget-view+json": {
              "model_id": "82eca753d3a349f28e0015608273cc83",
              "version_minor": 0,
              "version_major": 2
            },
            "text/plain": [
              "  0%|          | 0/9 [00:00<?, ?it/s]"
            ]
          },
          "metadata": {}
        },
        {
          "output_type": "stream",
          "name": "stdout",
          "text": [
            "Size is 1 time is 0.0009366730000124335\n",
            "Integral is [2.25]\n",
            "Size is 2 time is 0.0005594739999992271\n",
            "Integral is [2.25]\n",
            "Size is 3 time is 0.0004443809999941095\n",
            "Integral is [2.25]\n",
            "Size is 4 time is 0.0003478389999997944\n",
            "Integral is [2.25]\n",
            "Size is 5 time is 0.007413080999981503\n",
            "Integral is [2.25]\n",
            "Size is 6 time is 0.0002902310000081343\n",
            "Integral is [2.25]\n",
            "Size is 7 time is 0.0010813700000085191\n",
            "Integral is [2.25]\n",
            "Size is 8 time is 0.00023322000001257948\n",
            "Integral is [2.25]\n",
            "Size is 9 time is 0.00023913100000072518\n",
            "Integral is [2.25]\n"
          ]
        }
      ]
    },
    {
      "cell_type": "code",
      "metadata": {
        "id": "zYS2toXeAIbt"
      },
      "source": [
        "times = [0.0009366730000124335 ,\n",
        "0.0005594739999992271 ,\n",
        "0.0004443809999941095 ,\n",
        "0.0003478389999997944 ,\n",
        "0.007413080999981503  ,\n",
        "0.0002902310000081343 ,\n",
        "0.0010813700000085191 ,\n",
        "0.00023322000001257948,\n",
        "0.00023913100000072518]"
      ],
      "execution_count": 11,
      "outputs": []
    },
    {
      "cell_type": "code",
      "metadata": {
        "colab": {
          "base_uri": "https://localhost:8080/",
          "height": 295
        },
        "id": "iTVhh-tvjHaH",
        "outputId": "0f1f8182-0206-47d0-cade-7113a8663dff"
      },
      "source": [
        "plt.plot(processes, [times[0] / time for time in times])\n",
        "plt.xlabel('Number of processes')\n",
        "plt.ylabel('Speedup')\n",
        "plt.title('Speedup dependency for Integral')\n",
        "plt.show()"
      ],
      "execution_count": 12,
      "outputs": [
        {
          "output_type": "display_data",
          "data": {
            "image/png": "[encoded data removed]",
            "text/plain": [
              "<Figure size 432x288 with 1 Axes>"
            ]
          },
          "metadata": {
            "needs_background": "light"
          }
        }
      ]
    },
    {
      "cell_type": "code",
      "metadata": {
        "id": "_RTSSZz7THgo"
      },
      "source": [
        ""
      ],
      "execution_count": null,
      "outputs": []
    },
    {
      "cell_type": "code",
      "metadata": {
        "colab": {
          "base_uri": "https://localhost:8080/",
          "height": 49,
          "referenced_widgets": [
            "ad586727bdf943d2b267bd30907a9a12",
            "9ff1ddaf27c64153ae254a61a21e7cd5",
            "c7186a90afeb4e4a8b5a35f8f020a859",
            "4ddf0e200de649d687fc8d2268a69e64",
            "4891cec7c5a54a8c802f4199c095f40b",
            "9883af55ad9e419ca030388c7a3ea459",
            "a371390e683648b2ae168f0ded286b45",
            "85f7c511a3bf4ed4ab6d63cc77a90378",
            "2f1a3f0739444a5285186c888ede8a3b",
            "e72aeabc92a2482794a6ee7a63843afe",
            "89422470f2514c84a1b8fe9e54239b97"
          ]
        },
        "id": "ARRVkftzTHgp",
        "outputId": "0e1c8031-967b-48e2-899a-b5ed049775f6"
      },
      "source": [
        "discrete_grid = np.logspace(1, 8, 40).astype('int')\n",
        "\n",
        "errors = []\n",
        "for points_number in tqdm(discrete_grid):\n",
        "    errors.append(abs(2.25 - trapezoidal_rule(func, 0, 1, points_number)))"
      ],
      "execution_count": 17,
      "outputs": [
        {
          "output_type": "display_data",
          "data": {
            "application/vnd.jupyter.widget-view+json": {
              "model_id": "ad586727bdf943d2b267bd30907a9a12",
              "version_minor": 0,
              "version_major": 2
            },
            "text/plain": [
              "  0%|          | 0/40 [00:00<?, ?it/s]"
            ]
          },
          "metadata": {}
        }
      ]
    },
    {
      "cell_type": "code",
      "metadata": {
        "colab": {
          "base_uri": "https://localhost:8080/",
          "height": 299
        },
        "id": "87Nv0Y_yTHgp",
        "outputId": "ce4b6dd5-5aed-4329-88e3-2eb9488ca170"
      },
      "source": [
        "plt.plot(discrete_grid, errors)\n",
        "plt.xlabel('Discretization level')\n",
        "plt.ylabel('Error')\n",
        "plt.title('Error dependency for Integral')\n",
        "\n",
        "plt.yscale('log')\n",
        "plt.xscale('log')"
      ],
      "execution_count": 18,
      "outputs": [
        {
          "output_type": "display_data",
          "data": {
            "image/png": "[encoded data removed]",
            "text/plain": [
              "<Figure size 432x288 with 1 Axes>"
            ]
          },
          "metadata": {
            "needs_background": "light"
          }
        }
      ]
    },
    {
      "cell_type": "code",
      "metadata": {
        "id": "gFO0G5oqBhT4"
      },
      "source": [
        ""
      ],
      "execution_count": null,
      "outputs": []
    }
  ]
}