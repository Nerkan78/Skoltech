{
  "nbformat": 4,
  "nbformat_minor": 0,
  "metadata": {
    "kernelspec": {
      "display_name": "Python 3",
      "language": "python",
      "name": "python3"
    },
    "language_info": {
      "codemirror_mode": {
        "name": "ipython",
        "version": 3
      },
      "file_extension": ".py",
      "mimetype": "text/x-python",
      "name": "python",
      "nbconvert_exporter": "python",
      "pygments_lexer": "ipython3",
      "version": "3.7.0"
    },
    "colab": {
      "name": "8Vayser.ipynb",
      "provenance": [],
      "collapsed_sections": []
    },
    "widgets": {
      "application/vnd.jupyter.widget-state+json": {
        "f6a00283f87e4579a3d56220edb0efae": {
          "model_module": "@jupyter-widgets/controls",
          "model_name": "HBoxModel",
          "model_module_version": "1.5.0",
          "state": {
            "_view_name": "HBoxView",
            "_dom_classes": [],
            "_model_name": "HBoxModel",
            "_view_module": "@jupyter-widgets/controls",
            "_model_module_version": "1.5.0",
            "_view_count": null,
            "_view_module_version": "1.5.0",
            "box_style": "",
            "layout": "IPY_MODEL_425cee6f53e54a40bcd2d9ecb1cff0b0",
            "_model_module": "@jupyter-widgets/controls",
            "children": [
              "IPY_MODEL_eaca0d8510ac47769ba8245cc935a8f3",
              "IPY_MODEL_74f385bc7ab248b28ea37265de31e1fa",
              "IPY_MODEL_93e2f5786f58413d8a708cf5ada69df0"
            ]
          }
        },
        "425cee6f53e54a40bcd2d9ecb1cff0b0": {
          "model_module": "@jupyter-widgets/base",
          "model_name": "LayoutModel",
          "model_module_version": "1.2.0",
          "state": {
            "_view_name": "LayoutView",
            "grid_template_rows": null,
            "right": null,
            "justify_content": null,
            "_view_module": "@jupyter-widgets/base",
            "overflow": null,
            "_model_module_version": "1.2.0",
            "_view_count": null,
            "flex_flow": null,
            "width": null,
            "min_width": null,
            "border": null,
            "align_items": null,
            "bottom": null,
            "_model_module": "@jupyter-widgets/base",
            "top": null,
            "grid_column": null,
            "overflow_y": null,
            "overflow_x": null,
            "grid_auto_flow": null,
            "grid_area": null,
            "grid_template_columns": null,
            "flex": null,
            "_model_name": "LayoutModel",
            "justify_items": null,
            "grid_row": null,
            "max_height": null,
            "align_content": null,
            "visibility": null,
            "align_self": null,
            "height": null,
            "min_height": null,
            "padding": null,
            "grid_auto_rows": null,
            "grid_gap": null,
            "max_width": null,
            "order": null,
            "_view_module_version": "1.2.0",
            "grid_template_areas": null,
            "object_position": null,
            "object_fit": null,
            "grid_auto_columns": null,
            "margin": null,
            "display": null,
            "left": null
          }
        },
        "eaca0d8510ac47769ba8245cc935a8f3": {
          "model_module": "@jupyter-widgets/controls",
          "model_name": "HTMLModel",
          "model_module_version": "1.5.0",
          "state": {
            "_view_name": "HTMLView",
            "style": "IPY_MODEL_fb700c1cae714cd9b4e1cb1ade47afd2",
            "_dom_classes": [],
            "description": "",
            "_model_name": "HTMLModel",
            "placeholder": "​",
            "_view_module": "@jupyter-widgets/controls",
            "_model_module_version": "1.5.0",
            "value": "100%",
            "_view_count": null,
            "_view_module_version": "1.5.0",
            "description_tooltip": null,
            "_model_module": "@jupyter-widgets/controls",
            "layout": "IPY_MODEL_1c5922195b7649eca60a869fa5959ae2"
          }
        },
        "74f385bc7ab248b28ea37265de31e1fa": {
          "model_module": "@jupyter-widgets/controls",
          "model_name": "FloatProgressModel",
          "model_module_version": "1.5.0",
          "state": {
            "_view_name": "ProgressView",
            "style": "IPY_MODEL_9e959330a72a47619b9f834715323bd5",
            "_dom_classes": [],
            "description": "",
            "_model_name": "FloatProgressModel",
            "bar_style": "success",
            "max": 9,
            "_view_module": "@jupyter-widgets/controls",
            "_model_module_version": "1.5.0",
            "value": 9,
            "_view_count": null,
            "_view_module_version": "1.5.0",
            "orientation": "horizontal",
            "min": 0,
            "description_tooltip": null,
            "_model_module": "@jupyter-widgets/controls",
            "layout": "IPY_MODEL_33149e3149f1457c8771e0c7b2cc563e"
          }
        },
        "93e2f5786f58413d8a708cf5ada69df0": {
          "model_module": "@jupyter-widgets/controls",
          "model_name": "HTMLModel",
          "model_module_version": "1.5.0",
          "state": {
            "_view_name": "HTMLView",
            "style": "IPY_MODEL_ede72ef43bf24454a6a5c979d68ff687",
            "_dom_classes": [],
            "description": "",
            "_model_name": "HTMLModel",
            "placeholder": "​",
            "_view_module": "@jupyter-widgets/controls",
            "_model_module_version": "1.5.0",
            "value": " 9/9 [08:04&lt;00:00, 67.44s/it]",
            "_view_count": null,
            "_view_module_version": "1.5.0",
            "description_tooltip": null,
            "_model_module": "@jupyter-widgets/controls",
            "layout": "IPY_MODEL_f799844700d545e4a0a3b42ecb134204"
          }
        },
        "fb700c1cae714cd9b4e1cb1ade47afd2": {
          "model_module": "@jupyter-widgets/controls",
          "model_name": "DescriptionStyleModel",
          "model_module_version": "1.5.0",
          "state": {
            "_view_name": "StyleView",
            "_model_name": "DescriptionStyleModel",
            "description_width": "",
            "_view_module": "@jupyter-widgets/base",
            "_model_module_version": "1.5.0",
            "_view_count": null,
            "_view_module_version": "1.2.0",
            "_model_module": "@jupyter-widgets/controls"
          }
        },
        "1c5922195b7649eca60a869fa5959ae2": {
          "model_module": "@jupyter-widgets/base",
          "model_name": "LayoutModel",
          "model_module_version": "1.2.0",
          "state": {
            "_view_name": "LayoutView",
            "grid_template_rows": null,
            "right": null,
            "justify_content": null,
            "_view_module": "@jupyter-widgets/base",
            "overflow": null,
            "_model_module_version": "1.2.0",
            "_view_count": null,
            "flex_flow": null,
            "width": null,
            "min_width": null,
            "border": null,
            "align_items": null,
            "bottom": null,
            "_model_module": "@jupyter-widgets/base",
            "top": null,
            "grid_column": null,
            "overflow_y": null,
            "overflow_x": null,
            "grid_auto_flow": null,
            "grid_area": null,
            "grid_template_columns": null,
            "flex": null,
            "_model_name": "LayoutModel",
            "justify_items": null,
            "grid_row": null,
            "max_height": null,
            "align_content": null,
            "visibility": null,
            "align_self": null,
            "height": null,
            "min_height": null,
            "padding": null,
            "grid_auto_rows": null,
            "grid_gap": null,
            "max_width": null,
            "order": null,
            "_view_module_version": "1.2.0",
            "grid_template_areas": null,
            "object_position": null,
            "object_fit": null,
            "grid_auto_columns": null,
            "margin": null,
            "display": null,
            "left": null
          }
        },
        "9e959330a72a47619b9f834715323bd5": {
          "model_module": "@jupyter-widgets/controls",
          "model_name": "ProgressStyleModel",
          "model_module_version": "1.5.0",
          "state": {
            "_view_name": "StyleView",
            "_model_name": "ProgressStyleModel",
            "description_width": "",
            "_view_module": "@jupyter-widgets/base",
            "_model_module_version": "1.5.0",
            "_view_count": null,
            "_view_module_version": "1.2.0",
            "bar_color": null,
            "_model_module": "@jupyter-widgets/controls"
          }
        },
        "33149e3149f1457c8771e0c7b2cc563e": {
          "model_module": "@jupyter-widgets/base",
          "model_name": "LayoutModel",
          "model_module_version": "1.2.0",
          "state": {
            "_view_name": "LayoutView",
            "grid_template_rows": null,
            "right": null,
            "justify_content": null,
            "_view_module": "@jupyter-widgets/base",
            "overflow": null,
            "_model_module_version": "1.2.0",
            "_view_count": null,
            "flex_flow": null,
            "width": null,
            "min_width": null,
            "border": null,
            "align_items": null,
            "bottom": null,
            "_model_module": "@jupyter-widgets/base",
            "top": null,
            "grid_column": null,
            "overflow_y": null,
            "overflow_x": null,
            "grid_auto_flow": null,
            "grid_area": null,
            "grid_template_columns": null,
            "flex": null,
            "_model_name": "LayoutModel",
            "justify_items": null,
            "grid_row": null,
            "max_height": null,
            "align_content": null,
            "visibility": null,
            "align_self": null,
            "height": null,
            "min_height": null,
            "padding": null,
            "grid_auto_rows": null,
            "grid_gap": null,
            "max_width": null,
            "order": null,
            "_view_module_version": "1.2.0",
            "grid_template_areas": null,
            "object_position": null,
            "object_fit": null,
            "grid_auto_columns": null,
            "margin": null,
            "display": null,
            "left": null
          }
        },
        "ede72ef43bf24454a6a5c979d68ff687": {
          "model_module": "@jupyter-widgets/controls",
          "model_name": "DescriptionStyleModel",
          "model_module_version": "1.5.0",
          "state": {
            "_view_name": "StyleView",
            "_model_name": "DescriptionStyleModel",
            "description_width": "",
            "_view_module": "@jupyter-widgets/base",
            "_model_module_version": "1.5.0",
            "_view_count": null,
            "_view_module_version": "1.2.0",
            "_model_module": "@jupyter-widgets/controls"
          }
        },
        "f799844700d545e4a0a3b42ecb134204": {
          "model_module": "@jupyter-widgets/base",
          "model_name": "LayoutModel",
          "model_module_version": "1.2.0",
          "state": {
            "_view_name": "LayoutView",
            "grid_template_rows": null,
            "right": null,
            "justify_content": null,
            "_view_module": "@jupyter-widgets/base",
            "overflow": null,
            "_model_module_version": "1.2.0",
            "_view_count": null,
            "flex_flow": null,
            "width": null,
            "min_width": null,
            "border": null,
            "align_items": null,
            "bottom": null,
            "_model_module": "@jupyter-widgets/base",
            "top": null,
            "grid_column": null,
            "overflow_y": null,
            "overflow_x": null,
            "grid_auto_flow": null,
            "grid_area": null,
            "grid_template_columns": null,
            "flex": null,
            "_model_name": "LayoutModel",
            "justify_items": null,
            "grid_row": null,
            "max_height": null,
            "align_content": null,
            "visibility": null,
            "align_self": null,
            "height": null,
            "min_height": null,
            "padding": null,
            "grid_auto_rows": null,
            "grid_gap": null,
            "max_width": null,
            "order": null,
            "_view_module_version": "1.2.0",
            "grid_template_areas": null,
            "object_position": null,
            "object_fit": null,
            "grid_auto_columns": null,
            "margin": null,
            "display": null,
            "left": null
          }
        }
      }
    }
  },
  "cells": [
    {
      "cell_type": "code",
      "metadata": {
        "colab": {
          "base_uri": "https://localhost:8080/"
        },
        "id": "wkSEAdimw4qZ",
        "outputId": "94300915-2c58-4a6b-fd94-43344c04e4d6"
      },
      "source": [
        "! pip install mpi4py"
      ],
      "execution_count": 7,
      "outputs": [
        {
          "output_type": "stream",
          "name": "stdout",
          "text": [
            "Requirement already satisfied: mpi4py in /usr/local/lib/python3.7/dist-packages (3.1.3)\n",
            "\u001b[31mERROR: Operation cancelled by user\u001b[0m\n"
          ]
        }
      ]
    },
    {
      "cell_type": "code",
      "metadata": {
        "colab": {
          "base_uri": "https://localhost:8080/"
        },
        "id": "-fXFkF5OxSXs",
        "outputId": "809db49f-66cd-43b5-ed4f-76449b3ac7b5"
      },
      "source": [
        "! pip install memory_profiler"
      ],
      "execution_count": 8,
      "outputs": [
        {
          "output_type": "stream",
          "name": "stdout",
          "text": [
            "Traceback (most recent call last):\n",
            "  File \"/usr/local/bin/pip3\", line 5, in <module>\n",
            "    from pip._internal.cli.main import main\n",
            "  File \"/usr/local/lib/python3.7/dist-packages/pip/_internal/cli/main.py\", line 9, in <module>\n",
            "    from pip._internal.cli.autocompletion import autocomplete\n",
            "  File \"/usr/local/lib/python3.7/dist-packages/pip/_internal/cli/autocompletion.py\", line 10, in <module>\n",
            "    from pip._internal.cli.main_parser import create_main_parser\n",
            "  File \"/usr/local/lib/python3.7/dist-packages/pip/_internal/cli/main_parser.py\", line 8, in <module>\n",
            "    from pip._internal.cli import cmdoptions\n",
            "  File \"/usr/local/lib/python3.7/dist-packages/pip/_internal/cli/cmdoptions.py\", line 23, in <module>\n",
            "    from pip._internal.cli.parser import ConfigOptionParser\n",
            "  File \"/usr/local/lib/python3.7/dist-packages/pip/_internal/cli/parser.py\", line 12, in <module>\n",
            "    from pip._internal.configuration import Configuration, ConfigurationError\n",
            "  File \"/usr/local/lib/python3.7/dist-packages/pip/_internal/configuration.py\", line 21, in <module>\n",
            "    from pip._internal.exceptions import (\n",
            "  File \"/usr/local/lib/python3.7/dist-packages/pip/_internal/exceptions.py\", line 7, in <module>\n",
            "    from pip._vendor.pkg_resources import Distribution\n",
            "  File \"/usr/local/lib/python3.7/dist-packages/pip/_vendor/pkg_resources/__init__.py\", line 31, in <module>\n",
            "    import pkgutil\n",
            "  File \"/usr/lib/python3.7/pkgutil.py\", line 22, in <module>\n",
            "    ModuleInfo = namedtuple('ModuleInfo', 'module_finder name ispkg')\n",
            "  File \"/usr/lib/python3.7/collections/__init__.py\", line 397, in namedtuple\n",
            "    exec(s, namespace)\n",
            "  File \"<string>\", line 1, in <module>\n",
            "KeyboardInterrupt\n",
            "Requirement already satisfied: memory_profiler in /usr/local/lib/python3.7/dist-packages (0.58.0)\n",
            "Requirement already satisfied: psutil in /usr/local/lib/python3.7/dist-packages (from memory_profiler) (5.4.8)\n"
          ]
        }
      ]
    },
    {
      "cell_type": "markdown",
      "metadata": {
        "id": "MNNSYccrxOVq"
      },
      "source": [
        "1. The number of MPI processors can be chosen arbitrarily, not depending on the picture width (2 points)\n",
        "\n",
        "2. Plot the speedup vs number of processors (2 points)\n",
        "\n",
        "3. Plot memory consumption vs number of processors (2 points)"
      ]
    },
    {
      "cell_type": "code",
      "metadata": {
        "colab": {
          "base_uri": "https://localhost:8080/"
        },
        "id": "Uh3lT6GsPeur",
        "outputId": "04aa9bd9-8acb-49f1-d9f0-8c558c490980"
      },
      "source": [
        "%%writefile shift.py\n",
        "\n",
        "import numpy as np\n",
        "from mpi4py import MPI\n",
        "import argparse\n",
        "from memory_profiler import profile\n",
        "import cv2\n",
        "\n",
        "def shift():\n",
        "    comm = MPI.COMM_WORLD\n",
        "    size = comm.Get_size()\n",
        "    rank = comm.Get_rank()\n",
        "    \n",
        "    pars = argparse.ArgumentParser()\n",
        "    pars.add_argument('direction', type=str)\n",
        "    pars.add_argument('n_iter', type=int)\n",
        "\n",
        "\n",
        "    args = pars.parse_args()\n",
        "    n_iter = args.n_iter\n",
        "    direction = args.direction\n",
        "\n",
        "    if rank == 0:\n",
        "        img = cv2.cvtColor(cv2.imread('cat.jpg'), cv2.COLOR_BGR2GRAY)\n",
        "        # img = cv2.imread('cat.jpg')\n",
        "        height, width = img.shape[:2]\n",
        "    else:\n",
        "        img = None\n",
        "        height, width = None, None\n",
        "    \n",
        "    width = comm.bcast(width, root=0)\n",
        "    height = comm.bcast(height, root=0)\n",
        "    if rank == 0:\n",
        "        history = []\n",
        "\n",
        "    start = MPI.Wtime()\n",
        "    if direction in ['up', 'down']:\n",
        "        rows_per_rank = np.array_split(np.arange(height), size)[rank]\n",
        "        local_image = np.empty((len(rows_per_rank), width))\n",
        "        if img is not None:\n",
        "            img_array = np.array_split(img, size)\n",
        "        else:\n",
        "            img_array = None\n",
        "        local_image = comm.scatter(img_array, root = 0)\n",
        "\n",
        "        for i in range(n_iter):\n",
        "            prev_rank = (rank - 1 if rank > 0 else size-1)\n",
        "            next_rank = ((rank + 1) % size)\n",
        "\n",
        "            first_line = local_image[0].copy()\n",
        "            last_line = local_image[-1].copy()\n",
        "\n",
        "            first_line_buffer = np.empty(first_line.shape, dtype=first_line.dtype)\n",
        "            last_line_buffer = np.empty(last_line.shape, dtype=last_line.dtype)\n",
        "\n",
        "            if direction == 'up':\n",
        "                local_image = np.roll(local_image, -1, 0)\n",
        "                comm.Sendrecv(first_line, dest=prev_rank, recvbuf=last_line_buffer, source=next_rank)\n",
        "                local_image[-1] = last_line_buffer.copy()\n",
        "            else:\n",
        "                local_image = np.roll(local_image, 1, 0)\n",
        "                comm.Sendrecv(last_line, dest=next_rank, recvbuf=first_line_buffer, source=prev_rank)\n",
        "                local_image[0] = first_line_buffer.copy()\n",
        "\n",
        "            if rank == 0:\n",
        "                cur_image = np.empty(width * height, dtype=local_image.dtype)\n",
        "            else:\n",
        "                cur_image = None\n",
        "            sendcounts = np.array(comm.gather(len(local_image.flatten()), root=0))\n",
        "\n",
        "            comm.Gatherv(local_image.flatten(), (cur_image,sendcounts) , root=0)\n",
        "            if rank == 0:\n",
        "                cv2.imwrite('shifted_image.jpg', cur_image.reshape((height, width )))\n",
        "                history.append(cur_image.reshape((height, width )))\n",
        "\n",
        "    elif direction in ['left', 'right']:\n",
        "        cols_per_rank = np.array_split(np.arange(width), size)[rank]\n",
        "        local_image = np.empty((height, len(cols_per_rank)))\n",
        "        if img is not None:\n",
        "            img = np.array_split(img.T, size)\n",
        "        local_image = comm.scatter(img, root = 0).T\n",
        "\n",
        "        for i in range(n_iter):\n",
        "            prev_rank = (rank - 1 if rank > 0 else size-1)\n",
        "            next_rank = ((rank + 1) % size)\n",
        "\n",
        "            first_col = local_image[:, 0].copy()\n",
        "            last_col = local_image[:, -1].copy()\n",
        "\n",
        "            first_col_buffer = np.empty(first_col.shape, dtype=first_col.dtype)\n",
        "            last_col_buffer = np.empty(last_col.shape, dtype=last_col.dtype)\n",
        "\n",
        "\n",
        "            if direction == 'left':\n",
        "                local_image = np.roll(local_image, -1, 1)\n",
        "                comm.Sendrecv(first_col, dest=prev_rank, recvbuf=last_col_buffer, source=next_rank)\n",
        "                local_image[:, -1] = last_col_buffer.copy()\n",
        "            else:\n",
        "                local_image = np.roll(local_image, 1, 1)\n",
        "                comm.Sendrecv(last_col, dest=next_rank, recvbuf=first_col_buffer, source=prev_rank)\n",
        "                local_image[:, 0] = first_col_buffer.copy()\n",
        "        \n",
        "        \n",
        "\n",
        "\n",
        "            if rank == 0:\n",
        "                cur_image = np.empty(width * height, dtype=local_image.dtype)\n",
        "            else:\n",
        "                cur_image = None\n",
        "            sendcounts = np.array(comm.gather(len(local_image.flatten()), root=0))\n",
        "\n",
        "            comm.Gatherv(local_image.transpose((1, 0)).flatten(), (cur_image,sendcounts) , root=0)\n",
        "            if rank == 0:\n",
        "                cur_image = cur_image.reshape((height, width )).transpose((1, 0))\n",
        "                cv2.imwrite('shifted_image.jpg', cur_image)\n",
        "                history.append(cur_image)\n",
        "    end = MPI.Wtime()\n",
        "    if rank == 0:\n",
        "        print(f'size is {size} time is {end - start}')\n",
        "        np.save('shifted.npy', history) \n",
        "        \n",
        "if __name__ == '__main__':\n",
        "    shift()"
      ],
      "execution_count": 2,
      "outputs": [
        {
          "output_type": "stream",
          "name": "stdout",
          "text": [
            "Overwriting shift.py\n"
          ]
        }
      ]
    },
    {
      "cell_type": "code",
      "metadata": {
        "id": "swmuVlM4Rc4D",
        "colab": {
          "base_uri": "https://localhost:8080/"
        },
        "outputId": "92a69cdb-d378-4a07-b4f4-f4960a9c9f34"
      },
      "source": [
        "! mpirun --allow-run-as-root -np 4 python shift.py 'up' 100"
      ],
      "execution_count": 3,
      "outputs": [
        {
          "output_type": "stream",
          "name": "stdout",
          "text": [
            "size is 4 time is 2.846856126001512\n"
          ]
        }
      ]
    },
    {
      "cell_type": "code",
      "metadata": {
        "colab": {
          "base_uri": "https://localhost:8080/",
          "height": 286
        },
        "id": "ffk23LwpE8Ol",
        "outputId": "1c37e618-3879-4102-8647-e286aa8e33bc"
      },
      "source": [
        "import matplotlib.pyplot as plt\n",
        "import cv2\n",
        "img = cv2.imread('shifted_image.jpg')\n",
        "plt.imshow(img)"
      ],
      "execution_count": 5,
      "outputs": [
        {
          "output_type": "execute_result",
          "data": {
            "text/plain": [
              "<matplotlib.image.AxesImage at 0x7f74f9d23c90>"
            ]
          },
          "metadata": {},
          "execution_count": 5
        },
        {
          "output_type": "display_data",
          "data": {
            "image/png": "[encoded data removed]",
            "text/plain": [
              "<Figure size 432x288 with 1 Axes>"
            ]
          },
          "metadata": {
            "needs_background": "light"
          }
        }
      ]
    },
    {
      "cell_type": "code",
      "metadata": {
        "id": "FKpqDgmCL121"
      },
      "source": [
        "import numpy as np\n",
        "shifted = np.load('shifted.npy')\n",
        "shifted = [cv2.cvtColor(img, cv2.COLOR_GRAY2BGR) for img in shifted]"
      ],
      "execution_count": 8,
      "outputs": []
    },
    {
      "cell_type": "code",
      "metadata": {
        "id": "Sm26xRRTT5jW",
        "colab": {
          "base_uri": "https://localhost:8080/"
        },
        "outputId": "28552617-20a9-465d-d21a-5e4b412a4880"
      },
      "source": [
        "from moviepy.editor import ImageSequenceClip\n",
        "clip = ImageSequenceClip(shifted, fps=20)\n",
        "clip.write_gif('shifted.gif', fps=20)"
      ],
      "execution_count": 9,
      "outputs": [
        {
          "output_type": "stream",
          "name": "stdout",
          "text": [
            "\n",
            "[MoviePy] Building file shifted.gif with imageio\n"
          ]
        },
        {
          "output_type": "stream",
          "name": "stderr",
          "text": [
            "100%|██████████| 100/100 [00:33<00:00,  3.03it/s]\n"
          ]
        }
      ]
    },
    {
      "cell_type": "code",
      "metadata": {
        "id": "hKZTdOgLSPVD"
      },
      "source": [
        ""
      ],
      "execution_count": null,
      "outputs": []
    },
    {
      "cell_type": "code",
      "metadata": {
        "colab": {
          "base_uri": "https://localhost:8080/",
          "height": 316
        },
        "id": "OUIYKO6eMPAl",
        "outputId": "30ab1d01-ab0c-468b-d76c-cfe9dbe83fef"
      },
      "source": [
        "from IPython.display import display, Image\n",
        "Image('test.gif', embed=True)"
      ],
      "execution_count": 10,
      "outputs": [
        {
          "output_type": "error",
          "ename": "ValueError",
          "evalue": "ignored",
          "traceback": [
            "\u001b[0;31m---------------------------------------------------------------------------\u001b[0m",
            "\u001b[0;31mValueError\u001b[0m                                Traceback (most recent call last)",
            "\u001b[0;32m<ipython-input-10-401a78b214cc>\u001b[0m in \u001b[0;36m<module>\u001b[0;34m()\u001b[0m\n\u001b[1;32m      1\u001b[0m \u001b[0;32mfrom\u001b[0m \u001b[0mIPython\u001b[0m\u001b[0;34m.\u001b[0m\u001b[0mdisplay\u001b[0m \u001b[0;32mimport\u001b[0m \u001b[0mdisplay\u001b[0m\u001b[0;34m,\u001b[0m \u001b[0mImage\u001b[0m\u001b[0;34m\u001b[0m\u001b[0;34m\u001b[0m\u001b[0m\n\u001b[0;32m----> 2\u001b[0;31m \u001b[0mImage\u001b[0m\u001b[0;34m(\u001b[0m\u001b[0;34m'test.gif'\u001b[0m\u001b[0;34m,\u001b[0m \u001b[0membed\u001b[0m\u001b[0;34m=\u001b[0m\u001b[0;32mTrue\u001b[0m\u001b[0;34m)\u001b[0m\u001b[0;34m\u001b[0m\u001b[0;34m\u001b[0m\u001b[0m\n\u001b[0m",
            "\u001b[0;32m/usr/local/lib/python3.7/dist-packages/IPython/core/display.py\u001b[0m in \u001b[0;36m__init__\u001b[0;34m(self, data, url, filename, format, embed, width, height, retina, unconfined, metadata)\u001b[0m\n\u001b[1;32m   1013\u001b[0m \u001b[0;34m\u001b[0m\u001b[0m\n\u001b[1;32m   1014\u001b[0m         \u001b[0;32mif\u001b[0m \u001b[0mself\u001b[0m\u001b[0;34m.\u001b[0m\u001b[0membed\u001b[0m \u001b[0;32mand\u001b[0m \u001b[0mself\u001b[0m\u001b[0;34m.\u001b[0m\u001b[0mformat\u001b[0m \u001b[0;32mnot\u001b[0m \u001b[0;32min\u001b[0m \u001b[0mself\u001b[0m\u001b[0;34m.\u001b[0m\u001b[0m_ACCEPTABLE_EMBEDDINGS\u001b[0m\u001b[0;34m:\u001b[0m\u001b[0;34m\u001b[0m\u001b[0;34m\u001b[0m\u001b[0m\n\u001b[0;32m-> 1015\u001b[0;31m             \u001b[0;32mraise\u001b[0m \u001b[0mValueError\u001b[0m\u001b[0;34m(\u001b[0m\u001b[0;34m\"Cannot embed the '%s' image format\"\u001b[0m \u001b[0;34m%\u001b[0m \u001b[0;34m(\u001b[0m\u001b[0mself\u001b[0m\u001b[0;34m.\u001b[0m\u001b[0mformat\u001b[0m\u001b[0;34m)\u001b[0m\u001b[0;34m)\u001b[0m\u001b[0;34m\u001b[0m\u001b[0;34m\u001b[0m\u001b[0m\n\u001b[0m\u001b[1;32m   1016\u001b[0m         \u001b[0mself\u001b[0m\u001b[0;34m.\u001b[0m\u001b[0mwidth\u001b[0m \u001b[0;34m=\u001b[0m \u001b[0mwidth\u001b[0m\u001b[0;34m\u001b[0m\u001b[0;34m\u001b[0m\u001b[0m\n\u001b[1;32m   1017\u001b[0m         \u001b[0mself\u001b[0m\u001b[0;34m.\u001b[0m\u001b[0mheight\u001b[0m \u001b[0;34m=\u001b[0m \u001b[0mheight\u001b[0m\u001b[0;34m\u001b[0m\u001b[0;34m\u001b[0m\u001b[0m\n",
            "\u001b[0;31mValueError\u001b[0m: Cannot embed the 'gif' image format"
          ]
        }
      ]
    },
    {
      "cell_type": "markdown",
      "metadata": {
        "id": "X6gZ3ZuDUFXH"
      },
      "source": [
        "Unfortunately I didn't realise how to attach gif in notebook but you can find it in applied materials"
      ]
    },
    {
      "cell_type": "code",
      "metadata": {
        "colab": {
          "base_uri": "https://localhost:8080/",
          "height": 202,
          "referenced_widgets": [
            "f6a00283f87e4579a3d56220edb0efae",
            "425cee6f53e54a40bcd2d9ecb1cff0b0",
            "eaca0d8510ac47769ba8245cc935a8f3",
            "74f385bc7ab248b28ea37265de31e1fa",
            "93e2f5786f58413d8a708cf5ada69df0",
            "fb700c1cae714cd9b4e1cb1ade47afd2",
            "1c5922195b7649eca60a869fa5959ae2",
            "9e959330a72a47619b9f834715323bd5",
            "33149e3149f1457c8771e0c7b2cc563e",
            "ede72ef43bf24454a6a5c979d68ff687",
            "f799844700d545e4a0a3b42ecb134204"
          ]
        },
        "id": "s0EYn24uWASd",
        "outputId": "4142e7e3-4022-485c-d5e5-46a003f7e590"
      },
      "source": [
        "from tqdm.notebook import tqdm\n",
        "processes = np.arange(1, 10, 1)\n",
        "\n",
        "for n in tqdm(processes):\n",
        "    ! mpirun --allow-run-as-root -np $n python shift.py 'up' 100"
      ],
      "execution_count": 11,
      "outputs": [
        {
          "output_type": "display_data",
          "data": {
            "application/vnd.jupyter.widget-view+json": {
              "model_id": "f6a00283f87e4579a3d56220edb0efae",
              "version_minor": 0,
              "version_major": 2
            },
            "text/plain": [
              "  0%|          | 0/9 [00:01<?, ?it/s]"
            ]
          },
          "metadata": {}
        },
        {
          "output_type": "stream",
          "name": "stdout",
          "text": [
            "size is 1 time is 2.103085414000816\n",
            "size is 2 time is 2.3507190450000053\n",
            "size is 3 time is 2.5552045660006115\n",
            "size is 4 time is 5.603734937998524\n",
            "size is 5 time is 4.836687850998715\n",
            "size is 6 time is 13.055221378999704\n",
            "size is 7 time is 18.52375163099714\n",
            "size is 8 time is 8.360722086999886\n",
            "size is 9 time is 11.155296895001811\n"
          ]
        }
      ]
    },
    {
      "cell_type": "code",
      "metadata": {
        "id": "XGY0fUrLXsVL"
      },
      "source": [
        "times = [2.103085414000816 ,\n",
        "2.3507190450000053,\n",
        "2.5552045660006115,\n",
        "5.603734937998524 ,\n",
        "4.836687850998715 ,\n",
        "13.055221378999704,\n",
        "18.52375163099714 ,\n",
        "8.360722086999886 , 11.155296895001811]"
      ],
      "execution_count": 12,
      "outputs": []
    },
    {
      "cell_type": "code",
      "metadata": {
        "colab": {
          "base_uri": "https://localhost:8080/",
          "height": 295
        },
        "id": "AqLymUErwckj",
        "outputId": "e589ad78-b4fb-49f2-c517-3a6e84f89a79"
      },
      "source": [
        "plt.plot(processes, [times[0] / time for time in times])\n",
        "plt.xlabel('Number of processes')\n",
        "plt.ylabel('Speedup')\n",
        "plt.title('Speedup dependency for Integral')\n",
        "plt.show()"
      ],
      "execution_count": 13,
      "outputs": [
        {
          "output_type": "display_data",
          "data": {
            "image/png": "[encoded data removed]",
            "text/plain": [
              "<Figure size 432x288 with 1 Axes>"
            ]
          },
          "metadata": {
            "needs_background": "light"
          }
        }
      ]
    },
    {
      "cell_type": "code",
      "metadata": {
        "colab": {
          "base_uri": "https://localhost:8080/"
        },
        "id": "qmgHCbSTYA8d",
        "outputId": "f7de7f7b-3b58-47a7-d58d-968d007de068"
      },
      "source": [
        "!mpiexec  --allow-run-as-root -n 1  python3 -m mprof run --include-children shift.py 'left' 300"
      ],
      "execution_count": 14,
      "outputs": [
        {
          "output_type": "stream",
          "name": "stdout",
          "text": [
            "mprof.py: Sampling memory every 0.1s\n",
            "running new process\n",
            "running as a Python program...\n",
            "size is 1 time is 9.403272698000364\n"
          ]
        }
      ]
    },
    {
      "cell_type": "code",
      "metadata": {
        "id": "-1YWf88vYBRR"
      },
      "source": [
        ""
      ],
      "execution_count": null,
      "outputs": []
    }
  ]
}