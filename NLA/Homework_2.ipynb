{
 "cells": [
  {
   "cell_type": "markdown",
   "metadata": {
    "id": "t9v1vX4-OGIT"
   },
   "source": [
    "# Problem set 2 (45 + 50 + 33 + 15 = 143 pts)"
   ]
  },
  {
   "cell_type": "markdown",
   "metadata": {
    "id": "FOMNJ4TcOGIV"
   },
   "source": [
    "## Problem 1 (LU decomposition) 45 pts\n"
   ]
  },
  {
   "cell_type": "markdown",
   "metadata": {
    "id": "pYHDl6ppOGIV"
   },
   "source": [
    "### 1. LU  for band matrices and Cholesky decomposition (13 pts)\n",
    "\n",
    "The complexity to find an LU decomposition of a dense $n\\times n$ matrix is $\\mathcal{O}(n^3)$.\n",
    "Significant reduction in complexity can be achieved if the matrix has a certain structure, e.g. it is sparse. \n",
    "In the following task we consider an important example of $LU$ for a special type of matrices –– band matrices with top left entry equal to 1 and the bandwidth $m$ equal to 3 or 5 which called tridiagonal and pentadiagonal respectively. The bands may be ```[1, 2, 1]``` and ```[1, 1, 2, 1, 1]``` respectively\n",
    "\n",
    "- (4 pts) Write a function ```band_lu(diag_broadcast, n)``` which computes LU decomposition for tridiagonal or pentadiagonal matrix with top left entry equal to 1 with given diagonal bands. \n",
    "For example, input parametres ```(diag_broadcast = [1,2,1], n = 4)``` mean that we need to find LU decomposition for the triangular matrix of the form:\n",
    "\n",
    "$$A = \\begin{pmatrix}\n",
    "1 & 1 & 0 & 0\\\\\n",
    "1 & 2 & 1 & 0 \\\\\n",
    "0 & 1 & 2 & 1 \\\\\n",
    "0 & 0 & 1 & 2 \\\\\n",
    "\\end{pmatrix}.$$\n",
    "\n",
    "Provide the extensive testing of the implemented function that will works correctly for large $n$,  e.g. $n=100$.\n",
    "As an output it is considered to make ```L``` and ```U``` - 2D arrays representing diagonals in factors $L$ (```L[0]``` keeps first lower diagonal, ```L[1]``` keeps second lower, ...), and $U$ (```U[:,0]``` keeps main diagonal, ```U[:,1]``` keeps first upper, ...)."
   ]
  },
  {
   "cell_type": "code",
   "execution_count": 1,
   "metadata": {},
   "outputs": [],
   "source": [
    "from tqdm.notebook import tqdm\n",
    "import scipy\n",
    "from scipy import linalg\n",
    "from scipy.sparse import diags # can be used with broadcasting of scalars if desired dimensions are large\n",
    "import numpy as np\n",
    "import warnings\n",
    "warnings.filterwarnings(\"ignore\")\n",
    "import matplotlib.pyplot as plt\n"
   ]
  },
  {
   "cell_type": "code",
   "execution_count": 2,
   "metadata": {},
   "outputs": [],
   "source": [
    "from scipy.sparse import diags # can be used with broadcasting of scalars if desired dimensions are large\n",
    "import numpy as np\n",
    "\n",
    "# INPUT : diag_broadcast - list of diagonals value to broadcast,length equal to 3 or 5; n - integer, band matrix shape.\n",
    "# OUTPUT : L - 2D np.ndarray, L.shape[0] depends on bandwidth, L.shape[1] = n-1, do not store main diagonal, where all ones;                  add zeros to the right side of rows to handle with changing length of diagonals.\n",
    "#          U - 2D np.ndarray, U.shape[0] = n, U.shape[1] depends on bandwidth;\n",
    "#              add zeros to the bottom of columns to handle with changing length of diagonals.\n",
    "def band_lu(diag_broadcast, n):\n",
    "    if(len(diag_broadcast) == 3):\n",
    "        L = np.zeros(n-1)\n",
    "        U = np.zeros((2, n))\n",
    "        U[0][0] = diag_broadcast[1]\n",
    "        for i in range(1, n):\n",
    "            L[i-1] = diag_broadcast[0] / (U[0][i-1])\n",
    "            U[0][i] = diag_broadcast[1] - L[i-1] * diag_broadcast[2]\n",
    "        below_diag = np.zeros(n-1)\n",
    "        below_diag[0:n-1].fill(diag_broadcast[2])\n",
    "        U[1][:n-1].fill(diag_broadcast[2])\n",
    "        return L, U\n",
    "    \n",
    "    elif(len(diag_broadcast) == 5):\n",
    "        L = np.zeros((2, n-1))\n",
    "        U = np.zeros((3, n))\n",
    "        U[0][0] = diag_broadcast[2]\n",
    "        U[1][0] = diag_broadcast[3]\n",
    "        U[2][0] = diag_broadcast[4]\n",
    "        L[0][0] = diag_broadcast[1] / (U[0][0])\n",
    "        U[0][1] = diag_broadcast[2] - L[0][0] * U[1][0]\n",
    "        U[1][1] = diag_broadcast[3] - L[0][0] * U[2][0]\n",
    "        U[2,:] = diag_broadcast[4]\n",
    "        for i in range(2, n):\n",
    "            L[1][i-2] = diag_broadcast[0] / (U[0][i-2] + 1e-9)\n",
    "            L[0][i-1] = (diag_broadcast[1] - L[1][i-2] * U[1][i-2]) / (U[0][i-1])\n",
    "            U[0][i] = diag_broadcast[2] - L[0][i-1] * U[1][i-1] - L[1][i-2] * U[2][i-2]\n",
    "            U[1][i] = diag_broadcast[3] - L[0][i-1] * U[2][i-1]\n",
    "\n",
    "        return L, U\n",
    "    else:\n",
    "        raise NotImplementedError()\n",
    "\n"
   ]
  },
  {
   "cell_type": "markdown",
   "metadata": {
    "id": "pYHDl6ppOGIV"
   },
   "source": [
    "- (2 pts) Compare execution time of the band LU decomposition using standard function from ```scipy```, i.e. which takes the whole matrix and does not know about its special structure, and band decomposition of yours implementation. Comment on the results."
   ]
  },
  {
   "cell_type": "code",
   "execution_count": 3,
   "metadata": {},
   "outputs": [
    {
     "data": {
      "application/vnd.jupyter.widget-view+json": {
       "model_id": "4abf6596938d4a85bcbb708c64b25b41",
       "version_major": 2,
       "version_minor": 0
      },
      "text/plain": [
       "  0%|          | 0/20 [00:00<?, ?it/s]"
      ]
     },
     "metadata": {},
     "output_type": "display_data"
    }
   ],
   "source": [
    "from tqdm.notebook import tqdm\n",
    "import scipy\n",
    "\n",
    "\n",
    "diag_broadcast_5 = [1, 1, 2, 1, 1]\n",
    "diag_broadcast_3 = [1, 2, 1]\n",
    "our_time_3 = []\n",
    "scipy_time_3 = []\n",
    "our_time_5 = []\n",
    "scipy_time_5 = []\n",
    "n_range = np.linspace(10, 1000, 20, dtype=int)\n",
    "\n",
    "for n in tqdm(n_range):\n",
    "    diag = np.ones(n)\n",
    "    A = np.diag(2*diag) + np.diag(diag[1:], -1) + np.diag(diag[1:], 1)\n",
    "    \n",
    "    our_time = %timeit -oq band_lu(diag_broadcast_3, n)\n",
    "    our_time_3.append(our_time.average)\n",
    "    scipy_time = %timeit -oq scipy.linalg.lu(A)\n",
    "    scipy_time_3.append(scipy_time.average)\n",
    "    \n",
    "    A = np.diag(2*diag) + np.diag(diag[1:], -1) + np.diag(diag[1:], 1) + np.diag(diag[2:], -2) + np.diag(diag[2:], 2)\n",
    "    our_time = %timeit -oq band_lu(diag_broadcast_5, n)\n",
    "    our_time_5.append(our_time.average)\n",
    "    scipy_time = %timeit -oq scipy.linalg.lu(A)\n",
    "    scipy_time_5.append(scipy_time.average)"
   ]
  },
  {
   "cell_type": "code",
   "execution_count": 4,
   "metadata": {},
   "outputs": [
    {
     "data": {
      "image/png": "[encoded data removed]",
      "text/plain": [
       "<Figure size 864x864 with 2 Axes>"
      ]
     },
     "metadata": {
      "needs_background": "light"
     },
     "output_type": "display_data"
    }
   ],
   "source": [
    "fig, axes = plt.subplots(ncols=2, figsize = (12, 12))\n",
    "axes[0].plot(n_range, our_time_3, label='our')\n",
    "axes[0].plot(n_range, scipy_time_3, label='scipy')\n",
    "axes[0].set_title('Time comparison for tridiagonal matrix')\n",
    "axes[0].set_xlabel('Matrix size')\n",
    "axes[0].set_ylabel('Time')\n",
    "axes[0].legend()\n",
    "\n",
    "axes[1].plot(n_range, our_time_5, label='our')\n",
    "axes[1].plot(n_range, scipy_time_5, label='scipy')\n",
    "axes[1].set_title('Time comparison for pentadiagonal matrix')\n",
    "axes[1].set_xlabel('Matrix size')\n",
    "axes[1].set_ylabel('Time')\n",
    "axes[1].legend()\n",
    "\n",
    "plt.show()"
   ]
  },
  {
   "cell_type": "markdown",
   "metadata": {
    "id": "pYHDl6ppOGIV"
   },
   "source": [
    "- (7 pts) Write a function ```cholesky(n)``` for computing Cholesky decomposition. It should take the the single argument - the matrix that will be factorized and return the single output - lower-triangular factor $L$. Think about the efficiency of your implementation and if necessary update it to achieve the best performance (eliminate Python loops, where it is possible and so on). Explicitly describe the difference with LU decomposition that reduces the complexity from $2n^3/3$ for LU to $n^3/3$ for Cholesky. \n",
    "Test the implemented function on the Pascal matrix of given size $n$ for $n = 5, 10, 50$. \n",
    "Pascal matrix is square matrix of the following form (here for $n=4$)\n",
    "$$P = \\begin{pmatrix}\n",
    "1 & 1 & 1 & 1\\\\\n",
    "1 & 2 & 3 & 4 \\\\\n",
    "1 & 3 & 6 & 10 \\\\\n",
    "1 & 4 & 10 & 20 \\\\\n",
    "\\end{pmatrix}.$$\n",
    "\n",
    "    [Here](https://en.wikipedia.org/wiki/Pascal_matrix) you can find more details about such matrices and analytical form for factor $L$ from Cholesky decomposition. Compare the result of your implementation with analytical expression in terms of some matrix norm of difference.  "
   ]
  },
  {
   "cell_type": "code",
   "execution_count": 5,
   "metadata": {},
   "outputs": [],
   "source": [
    "def cholesky(A):\n",
    "    n = A.shape[0]\n",
    "    M = A.copy()\n",
    "    L = np.zeros_like(A)\n",
    "    for i in range(n):\n",
    "#         assert M[i, i] > 0\n",
    "        L[i, i] = M[i, i] ** 0.5\n",
    "        L[i, i + 1:] = M[i, i + 1:] / L[i, i]\n",
    "        for j in range(i + 1, n):\n",
    "            M[j, j:] = M[j, j:] - L[i, j] * L[i, j:]\n",
    "            \n",
    "    return L.T\n",
    "def construct_pascal_triangle(n, type_ = np.float64):\n",
    "    L = np.zeros((n, n), dtype=type_)\n",
    "    L[:, 0] = 1\n",
    "    for i in range(1,n):\n",
    "        for j in range(1,i+1):\n",
    "            L[i][j] = L[i-1][j] + L[i-1][j-1]\n",
    "    return L"
   ]
  },
  {
   "cell_type": "code",
   "execution_count": 6,
   "metadata": {},
   "outputs": [
    {
     "name": "stdout",
     "output_type": "stream",
     "text": [
      "For matrix size 5 norm difference between analytical and calculated cholesky factor is 0.00000\n",
      "For matrix size 10 norm difference between analytical and calculated cholesky factor is 0.00000\n",
      "For matrix size 50 norm difference between analytical and calculated cholesky factor is nan\n"
     ]
    }
   ],
   "source": [
    "for n in (5, 10, 50):\n",
    "    L = construct_pascal_triangle(n)\n",
    "    A = L @ L.T\n",
    "    L_ch = cholesky(A)\n",
    "    print(f'For matrix size {n} norm difference between analytical and calculated cholesky factor is {np.linalg.norm(L - L_ch) :.5f}')"
   ]
  },
  {
   "cell_type": "code",
   "execution_count": 7,
   "metadata": {},
   "outputs": [
    {
     "name": "stdout",
     "output_type": "stream",
     "text": [
      "object\n",
      "[[1 1 1 ... 1 1 1]\n",
      " [1 2 3 ... 48 49 50]\n",
      " [1 3 6 ... 1176 1225 1275]\n",
      " ...\n",
      " [1 48 1176 ... 1625701140345170250548615520 3217533506933149454210801550\n",
      "  6303739115624129542943611200]\n",
      " [1 49 1225 ... 3217533506933149454210801550 6435067013866298908421603100\n",
      "  12738806129490428451365214300]\n",
      " [1 50 1275 ... 6303739115624129542943611200\n",
      "  12738806129490428451365214300 25477612258980856902730428600]]\n"
     ]
    }
   ],
   "source": [
    "n = 50\n",
    "A_scipy = scipy.linalg.pascal(n)\n",
    "print(A_scipy.dtype)\n",
    "L = construct_pascal_triangle(n, object)\n",
    "A = L @ L.T\n",
    "L_ch = cholesky(A)\n",
    "print(A)"
   ]
  },
  {
   "cell_type": "code",
   "execution_count": 8,
   "metadata": {},
   "outputs": [
    {
     "data": {
      "text/plain": [
       "array([[1.0, 0, 0, ..., 0, 0, 0],\n",
       "       [1.0, 1.0, 0, ..., 0, 0, 0],\n",
       "       [1.0, 2.0, 1.0, ..., 0, 0, 0],\n",
       "       ...,\n",
       "       [1.0, 52.0, 1326.0, ...,\n",
       "        (232113074.73238137+0.0014545331293367852j), 0, 0],\n",
       "       [1.0, 53.0, 1378.0, ...,\n",
       "        (6892201888.920579-0.006866527448147046j),\n",
       "        (0.02805146777181772+3566472708.843164j), 0],\n",
       "       [1.0, 54.0, 1431.0, ..., (86419719989.17107-0.23173246863224062j),\n",
       "        (0.40671331537182653+58317644538.87579j),\n",
       "        (0.030214055428055636+2688889778.933233j)]], dtype=object)"
      ]
     },
     "execution_count": 8,
     "metadata": {},
     "output_type": "execute_result"
    }
   ],
   "source": [
    "n = 55\n",
    "L = construct_pascal_triangle(n, object)\n",
    "A = L @ L.T\n",
    "L_ch = cholesky(A)\n",
    "L_ch"
   ]
  },
  {
   "cell_type": "markdown",
   "metadata": {},
   "source": [
    "Since Cholesky factorization is $A = LL^*$ and LU is $A = LU$ then we don't need to estimate matrix $U$ in Cholesky factorization and therefore need two times less operations asymptotically.\n",
    "\n",
    "During computing cholesky factorization for large $n$ occures square root of negative values. "
   ]
  },
  {
   "cell_type": "markdown",
   "metadata": {
    "id": "_iM6NwHQOGId"
   },
   "source": [
    "### 2. Stability of LU (8 pts)\n",
    "\n",
    "* (4 pts) Show, that for these  matrices $A$ and $B$ LU decomposition fails. Why does it happen?\n",
    "\n",
    "\n",
    "\n",
    "$\n",
    "A = \\begin{pmatrix}\n",
    "0 & 1 \\\\\n",
    "2 & 3\n",
    "\\end{pmatrix}.$ \n",
    "\n",
    "$B = \\begin{pmatrix}\n",
    "1 & 1 & 0\\\\\n",
    "1 & 1 & 2 \\\\\n",
    "1 & 2 & 1\n",
    "\\end{pmatrix}.$ \n",
    "\n",
    "* (4 pts) In the LU decomposition, a pivot position is a position of the element that identifies the row and column that will be eliminated in the current step. For example, first pivot in LU is usually the left top element. What value of $c$ leads to zero in the second pivot position? What $c$ produces zero in the third pivot position? What modification of LU should we use in order to address the possible zeros in pivot position?\n",
    "\n",
    "$A = \\begin{pmatrix}\n",
    "1 & c & 0\\\\\n",
    "2 & 4 & 1 \\\\\n",
    "3 & 5 & 1\n",
    "\\end{pmatrix}.$ "
   ]
  },
  {
   "cell_type": "markdown",
   "metadata": {
    "id": "CmkB9hxwOGId"
   },
   "source": [
    "### Solution\n",
    "* \n",
    "$$\n",
    "A = \\begin{pmatrix}\n",
    "0 & 1 \\\\\n",
    "2 & 3\n",
    "\\end{pmatrix} = \\begin{pmatrix}\n",
    "1 & 0 \\\\\n",
    "a & 1\n",
    "\\end{pmatrix} \\begin{pmatrix}\n",
    "b & c \\\\\n",
    "0 & d\n",
    "\\end{pmatrix} = \\begin{pmatrix}\n",
    "b & c \\\\\n",
    "ab & ac+ d\n",
    "\\end{pmatrix}\n",
    "$$ \n",
    "    We can see that at the same time $b=0$ and $ab=2$ which is not possible. The LU decomposition fails becasue $A$ is not strict regular - the first leading minor (0) is singular.\n",
    "    \n",
    "$$\n",
    "B = \\begin{pmatrix}\n",
    "1 & 1 & 0\\\\\n",
    "1 & 1 & 2 \\\\\n",
    "1 & 2 & 1\n",
    "\\end{pmatrix} = \\begin{pmatrix}\n",
    "1 & 0 & 0\\\\\n",
    "a & 1 & 0 \\\\\n",
    "b & c & 1\n",
    "\\end{pmatrix}\\begin{pmatrix}\n",
    "d & e & f\\\\\n",
    "0 & g & h \\\\\n",
    "0 & 0 & i\n",
    "\\end{pmatrix} = \\begin{pmatrix}\n",
    "d & e & f\\\\\n",
    "ad & ae+g & af+h \\\\\n",
    "bd & be + cg & bf + ch +i\n",
    "\\end{pmatrix} \\\\\n",
    "d = 1 \\\\\n",
    "e = 1 \\\\\n",
    "ad = 1 \\Rightarrow a = 1 \\\\\n",
    "ae + g = 1 \\Rightarrow g = 0 \\\\\n",
    "bd = 1 \\Rightarrow b = 1\\\\\n",
    "be + cg = 1 + 0 = 2\n",
    "$$\n",
    "    We can see that at the same time $g=0$ and $cg=1$ which is not possible. The LU decomposition fails becasue $A$ is not strict regular - the second leading minor $\\begin{pmatrix}\n",
    "1 & 1 \\\\\n",
    "1 & 1 \\\\\n",
    "\\end{pmatrix}$  is singular.\n",
    "\n",
    "* \n",
    "$$\n",
    "A = \\begin{pmatrix}\n",
    "1 & c & 0\\\\\n",
    "2 & 4 & 1 \\\\\n",
    "3 & 5 & 1\n",
    "\\end{pmatrix} \\rightarrow  \\begin{pmatrix}\n",
    "1 & c & 0\\\\\n",
    "0 & 4 - 2c & 1 \\\\\n",
    "0 & 5 - 3c & 1\n",
    "\\end{pmatrix}. \n",
    "$$ \n",
    "    To make second pivot $0$ c must be equal $2$\n",
    "$$\n",
    "\\begin{pmatrix}\n",
    "1 & c & 0\\\\\n",
    "0 & 4 - 2c & 1 \\\\\n",
    "0 & 5 - 3c & 1\n",
    "\\end{pmatrix} \\rightarrow \\begin{pmatrix}\n",
    "1 & c & 0\\\\\n",
    "0 & 4 - 2c & 1 \\\\\n",
    "0 & 5 - 3c - a(4-2c) & 1 - a\n",
    "\\end{pmatrix}\\rightarrow \\begin{cases}\n",
    "5 - 3c - a(4-2c) = 0 \\\\\n",
    "1 - a = 0\n",
    "\\end{cases}\n",
    "\\rightarrow \\begin{cases}\n",
    "a=1\\\\\n",
    "c=1\n",
    "\\end{cases}\n",
    "$$\n",
    "    To make third pivot $0$ c must be equal $1$\n",
    "\n",
    "    To address possible zeros in pivot positions we can apply PLU decomposition. The P matrix is permutation matrix, which we use to permute rows to pose elements with highest value on pivot positions."
   ]
  },
  {
   "cell_type": "markdown",
   "metadata": {
    "id": "YFc3BR_TOGIj"
   },
   "source": [
    "### 3. Implementation of PLU decomposition (14 pts)\n",
    "\n",
    "As you have noticed before, LU decomposition may fail. In order to make it stable, we can use LU decomposition with pivoting  (PLU).\n",
    "\n",
    "We want to find such permutation matrix $P$ that LU decomposition of $PA$ exists\n",
    "\n",
    "$$ PA = LU $$\n",
    "\n",
    "- (7 pts) Implement efficiently PLU decomposition (without loops and with appropriate level of BLAS operations).  Also, pay attention to the way of permutation matrix storage.\n",
    "\n",
    "- (4 pts ) Compare your function for computing PLU with built-in function on matrices of such type ```(mirror_diag = [1,2,1], n = 4)```. (Bandwidth and matrix size may vary). So, you can pass them as dense 2D NumPy array and do not tune your implementation to this special structure. Compare them in terms of running time (use ```%timeit``` magic) for range of dimensions to recover the asymptotic rate of time increasing and in terms of acuracy. We expect you plot the running time vs matrix dimension for built-in function and your implementation. So you should get the plot with two lines.\n",
    "Consider additionally one of the pathological examples from above, where LU fails, but PLU has to work.\n",
    "\n",
    "\n",
    "$$A = \\begin{pmatrix}\n",
    "0 & 0 & 1 & 1 \\\\\n",
    " 0 &1 & 2 & 1  \\\\\n",
    " 1 & 2 & 1  & 0\\\\\n",
    "1 & 2  & 0 & 0  \\\\\n",
    "\\end{pmatrix}.$$\n",
    "\n",
    "\n",
    "- (3 pts) Discuss the obtained results and explain how is it possible to accelerate computing the PLU factorization. \n",
    "\n",
    "NumPy or JAX are both ok in this problem, but please use the single library for all implementations. "
   ]
  },
  {
   "cell_type": "code",
   "execution_count": 9,
   "metadata": {
    "id": "32HpfOPMOGIg"
   },
   "outputs": [],
   "source": [
    "import numpy as np\n",
    "def PLU(A):\n",
    "    n= A.shape[0]\n",
    "    P = np.eye(n)\n",
    "    L = np.eye(n)\n",
    "    U = A.copy()\n",
    "    P = np.eye(n)\n",
    "    L = np.zeros((n,n))\n",
    "    for i in range(0, n - 1):\n",
    "        idx = np.argmax(abs(U[i:,i]))\n",
    "        idx = idx + i \n",
    "        if idx != i:\n",
    "            P_tmp = np.eye(n)\n",
    "            P_tmp[[idx,i],i:n] = P_tmp[[i,idx],i:n]\n",
    "            U[[idx,i],i:n] = U[[i,idx],i:n] \n",
    "            P = np.dot(P_tmp,P)\n",
    "            L = np.dot(P_tmp,L)\n",
    "        L_tmp = np.eye(n)\n",
    "        for j in range(i+1,n):\n",
    "            L_tmp[j,i] = -(U[j,i] / U[i,i])\n",
    "            L[j,i] = (U[j,i] / U[i,i])\n",
    "        U = np.dot(L_tmp,U)\n",
    "    np.fill_diagonal(L, 1)\n",
    "    return P.T, L, U\n",
    "\n"
   ]
  },
  {
   "cell_type": "code",
   "execution_count": 253,
   "metadata": {},
   "outputs": [
    {
     "data": {
      "application/vnd.jupyter.widget-view+json": {
       "model_id": "8fa3059cf55b4c22b71ca9216be52118",
       "version_major": 2,
       "version_minor": 0
      },
      "text/plain": [
       "  0%|          | 0/20 [00:00<?, ?it/s]"
      ]
     },
     "metadata": {},
     "output_type": "display_data"
    }
   ],
   "source": [
    "from tqdm.notebook import tqdm\n",
    "import scipy\n",
    "\n",
    "our_times = []\n",
    "scipy_times = []\n",
    "n_range = np.linspace(10, 1000, 20, dtype=int)\n",
    "\n",
    "for n in tqdm(n_range):\n",
    "    diag = np.ones(n)\n",
    "    A = np.diag(2*diag) + np.diag(-diag[1:], -1) + np.diag(-diag[1:], 1)\n",
    "    A = A[::-1]\n",
    "    \n",
    "    P1, L1, U1 = scipy.linalg.lu(A)\n",
    "    P2, L2, U2 = PLU(A)\n",
    "    assert np.isclose(L1, L2, 1e-9).all()\n",
    "    assert np.isclose(U1, U2, 1e-9).all()\n",
    "    assert np.isclose(P1, P2, 1e-9).all()\n",
    "    assert np.isclose(P2 @ L2 @ U2, A, 1e-9).all()\n",
    "    \n",
    "    \n",
    "    our_time = %timeit -oq PLU(A)\n",
    "    our_times.append(our_time.average)\n",
    "    scipy_time = %timeit -oq scipy.linalg.lu(A)\n",
    "    scipy_times.append(scipy_time.average)\n",
    "    \n"
   ]
  },
  {
   "cell_type": "code",
   "execution_count": 255,
   "metadata": {},
   "outputs": [
    {
     "data": {
      "image/png": "[encoded data removed]",
      "text/plain": [
       "<Figure size 864x864 with 1 Axes>"
      ]
     },
     "metadata": {
      "needs_background": "light"
     },
     "output_type": "display_data"
    }
   ],
   "source": [
    "fig, axes = plt.subplots(ncols=1, figsize = (12, 12))\n",
    "axes.plot(n_range, our_times, label='our')\n",
    "axes.plot(n_range, scipy_times, label='scipy')\n",
    "axes.set_title('Time comparison for mirrored tridiagonal matrix')\n",
    "axes.set_xlabel('Matrix size')\n",
    "axes.set_ylabel('Time')\n",
    "axes.legend()\n",
    "\n",
    "plt.show()"
   ]
  },
  {
   "cell_type": "markdown",
   "metadata": {},
   "source": [
    "Well, not as efficient as desired, but still working"
   ]
  },
  {
   "cell_type": "code",
   "execution_count": 259,
   "metadata": {},
   "outputs": [
    {
     "name": "stdout",
     "output_type": "stream",
     "text": [
      "PLU decomposition is \n",
      " P = [[0. 1.]\n",
      " [1. 0.]] \n",
      " L =  [[1. 0.]\n",
      " [0. 1.]] \n",
      " U = [[2. 3.]\n",
      " [0. 1.]]\n"
     ]
    }
   ],
   "source": [
    "A = np.array([[0, 1], [2, 3]])\n",
    "P, L, U = PLU(A)\n",
    "assert np.isclose(P @ L @ U, A, 1e-9).all()\n",
    "print(f'PLU decomposition is \\n P = {P} \\n L =  {L} \\n U = {U}')"
   ]
  },
  {
   "cell_type": "markdown",
   "metadata": {
    "id": "EQwdRJSIOGIg"
   },
   "source": [
    "### 4. Block LU (10 pts)\n",
    "\n",
    "Let $A = \\begin{bmatrix} A_{11} & A_{12} \\\\ A_{21} & A_{22} \\end{bmatrix}$ be a block matrix. The goal is to solve the linear system\n",
    "\n",
    "$$\n",
    "     \\begin{bmatrix} A_{11} & A_{12} \\\\ A_{21} & A_{22} \\end{bmatrix} \\begin{bmatrix} u_1 \\\\ u_2 \\end{bmatrix} = \\begin{bmatrix} f_1 \\\\ f_2 \\end{bmatrix}.\n",
    "$$\n",
    "\n",
    "* (2 pts) Using block elimination find matrix $S$ and right-hand side $\\hat{f_2}$ so that $u_2$ can be found from $S u_2 = \\hat{f_2}$. Note that the matrix $S$ is called <span style=\"color:red\">Schur complement</span> of the block $A_{11}$.\n",
    "* (4 pts) Using Schur complement properties prove that \n",
    "\n",
    "$$\\det(X+AB) = \\det(X)\\det(I+BX^{-1}A), $$\n",
    "\n",
    "\n",
    "where $X$ - nonsingular square matrix.\n",
    "* (4 pts) Let matrix $F \\in \\mathbb{R}^{m \\times n}$ and $G \\in \\mathbb{R}^{n \\times m}$. Prove that \n",
    "\n",
    "$$\\det(I_m - FG) = \\det(I_n - GF).$$"
   ]
  },
  {
   "cell_type": "markdown",
   "metadata": {
    "id": "4RBDYAWUOGIj"
   },
   "source": [
    "### Solution\n",
    "* \n",
    "$$\n",
    "f_1 = A_{11}u_1 + A_{12}u_2 \\Longrightarrow u_1 = A_{11}^{-1}(f_1 - A_{12}u_2) \\\\\\;\\\\\n",
    "A_{21}u_1 + A_{22}u_2 = A_{21}A_{11}^{-1}(f_1 - A_{12}u_2) + A_{22}u_2 = f_2 \\\\\\;\\\\\n",
    "(A_{22} - A_{21}A_{11}^{-1}A_{12})u_2 = f_2 - A_{21}A_{11}^{-1}f_1 \\\\\\;\\\\\n",
    "$$  \n",
    "\n",
    "    Then\n",
    "$$\n",
    "S = A_{22} - A_{21}A_{11}^{-1}A_{12}, \\;\\;\\;\\; \\hat{f}_2 = f_2 - A_{21}A_{11}^{-1}f_1\n",
    "$$  \n",
    "\n",
    "* Let $W = \\begin{bmatrix} X & A \\\\ -B & I \\end{bmatrix}$. According to Schyr complement property $\\displaystyle \\det(W)=\\det(X)\\det (W / X) =\\det(I)\\det (W / I) .$  Then :\n",
    "  \n",
    "$$\n",
    "\\det W = \\det(X) \\cdot \\det(I + BX^{-1}A) = \\det (I)\\cdot \\det(X + AI^{-1}B) = \\det(X + AB)\n",
    "$$\n",
    "* Дуе $W = \\begin{bmatrix} I_m & F \\\\ G & I_n \\end{bmatrix} .$ Then, according to Schur complement properties:\n",
    "\n",
    "$$\n",
    "\\det(I_m)\\cdot\\det(I_n - FG) = \\det(I_n)\\cdot(I_m - GF) \\Longrightarrow \\; \\det(I_m - FG) = \\det(I_n -GF)\n",
    "$$  "
   ]
  },
  {
   "cell_type": "markdown",
   "metadata": {},
   "source": [
    "## Problem 2 (eigenvalues)  (50 pts)\n",
    "\n",
    "### 1. Theoretical tasks (15 pts)\n",
    "\n",
    "* (2 pts) Prove that eigenvectors that correspond to distinct eigenvalues are linearly independent."
   ]
  },
  {
   "cell_type": "markdown",
   "metadata": {},
   "source": [
    "### Solution\n",
    "Let $\\lambda$ and $\\mu$ be distinct eigenvalues of $A$ and $x$ and $kx$ - their corresponding linearly dependent eigenvectors, $k \\neq 0$. Then \n",
    "$$\n",
    "\\mu kx = A kx = kAx = k \\lambda x\n",
    "$$\n",
    "Since $k \\neq 0$ and x is nonzero, then $\\lambda = \\mu$ which contradicts the assumption."
   ]
  },
  {
   "cell_type": "markdown",
   "metadata": {},
   "source": [
    "* (3 pts) $A$ is a matrix such that $a_{i,j} \\ge 0$ and $\\sum_{j}a_{i,j} = 1$ (sum of the elements in each row is 1). Prove that $A$ has an eigenvalue $\\lambda=1$ and that any eigenvalue $\\lambda_i$: $|\\lambda_i| \\le 1$."
   ]
  },
  {
   "cell_type": "markdown",
   "metadata": {},
   "source": [
    "### Solution\n",
    "Let $x$ be $(1, \\cdots, 1)^\\top$. Then $Ax = (\\sum_{j}a_{1,j}, \\cdots , \\sum_{j}a_{n,j}) ^\\top = x \\Rightarrow 1$ is eigenvalue of A\n",
    "\n",
    "Let $m = \\operatorname{argmax}_j |x_j|$ and assume there is $|\\lambda| > 1$. Then $|\\lambda x_m| = |Ax|_m  = |\\sum_{j}a_{m,j}x_j| \\leq \\sum_{j}a_{m,j}|x_j| \\leq \\sum_{j}a_{m,j}|x_m| = |x_m| < |\\lambda| |x_m| = |\\lambda x_m|$\n",
    "\n",
    "So we got that $|\\lambda x_m| < |\\lambda x_m|$. Contradiction."
   ]
  },
  {
   "cell_type": "markdown",
   "metadata": {},
   "source": [
    "* (5 pts) Prove that normal matrix is Hermitian iff its eigenvalues are real. Prove that normal matrix is unitary iff its eigenvalues satisfy $|\\lambda| = 1$. "
   ]
  },
  {
   "cell_type": "markdown",
   "metadata": {},
   "source": [
    "### Solution\n",
    "* Normal $\\rightarrow$ Hermittian\n",
    "    $$\n",
    "    A = U \\Lambda U^*\n",
    "    $$\n",
    "\n",
    "    Eigenvalues are real $\\Rightarrow \\Lambda^* = \\Lambda$\n",
    "\n",
    "$$\n",
    "A^* = (U \\Lambda U^*)^*  = U \\Lambda^* U^* = U \\Lambda U^* = A\n",
    "$$\n",
    "\n",
    "* Hermittian $\\rightarrow$ Normal\n",
    "$$\n",
    "A = A^* \\Rightarrow AA^* = A^* A\n",
    "$$\n",
    "\n",
    "* Normal $\\rightarrow$ Unitary\n",
    "\n",
    "$$\n",
    "A = U \\Lambda U^*,\n",
    "$$\n",
    "    where $U$ is an unitary matrix\n",
    "\n",
    "$$\n",
    "A^* = (U \\Lambda U^*)^*  = U \\Lambda^* U^* \\\\ \n",
    "AA^* = U \\Lambda U^* U \\Lambda^* U^* =U \\Lambda \\Lambda^* U^*\n",
    "$$\n",
    "\n",
    "$\\Lambda \\Lambda^* = \\Lambda^* \\Lambda$ - diagonal matrix with diagonal $(|\\lambda_1|, |\\lambda_2|, ..., |\\lambda_n|) = (1, ..., 1) \\Rightarrow \\Lambda \\Lambda^* = I$\n",
    "\n",
    "$$\n",
    "AA^* = U \\Lambda \\Lambda^* U^* = UU^* = I\\\\\n",
    "A^*A = U \\Lambda^* U^* U \\Lambda^* U^* = U \\Lambda^* \\Lambda U^* = UU^* = I \\\\\n",
    "AA^* = A^*A = I\n",
    "$$\n",
    "\n",
    "* Unitary  $\\rightarrow$ Normal\n",
    "\n",
    "    A - unitary.\n",
    "    $$\n",
    "     AA^* =  I = A^*A\n",
    "    $$"
   ]
  },
  {
   "cell_type": "markdown",
   "metadata": {},
   "source": [
    "* (5 pts) The following problem illustrates instability of the Jordan form. Find theoretically the eigenvalues of the perturbed Jordan block (there is only one $\\varepsilon$ - in the left lower corner):\n",
    "\n",
    "$$\n",
    "    J(\\varepsilon) = \n",
    "    \\begin{bmatrix} \n",
    "     \\lambda & 1 & & & 0 \\\\ \n",
    "     0 & \\lambda & 1 & & \\\\ \n",
    "     & 0 & \\ddots & \\ddots & \\\\ \n",
    "     & & 0 & \\lambda & 1 \\\\ \n",
    "     \\varepsilon & & & 0 & \\lambda  \\\\ \n",
    "    \\end{bmatrix}_{n\\times n}\n",
    "$$\n",
    "\n",
    "   Comment how eigenvalues of $J(0)$ are perturbed for large $n$."
   ]
  },
  {
   "cell_type": "markdown",
   "metadata": {},
   "source": [
    "$$\n",
    "|J - \\mu I| = (\\lambda - \\mu)^n + (-1)^{n+1}\\varepsilon = 0 \\\\\n",
    " (\\lambda - \\mu)^n = (-1)^n\\varepsilon \\\\\n",
    " (\\mu - \\lambda)^n = \\varepsilon \\\\ \n",
    " (\\mu - \\lambda) = (\\pm 1)^{n} \\varepsilon^{\\frac{1}{n}} \\\\\n",
    " \\mu = (\\pm 1)^{n+1} \\varepsilon^{\\frac{1}{n}} + \\lambda\n",
    "$$\n",
    "\n",
    "With $n \\to \\infty$ and small $\\varepsilon < 1$ $\\varepsilon ^ \\frac{1}{n} \\to 1$\n",
    "\n",
    "So for large $n$ adding small $\\varepsilon$ leads to perturbation from $\\lambda$ to $\\lambda \\pm 1$."
   ]
  },
  {
   "cell_type": "markdown",
   "metadata": {
    "id": "xWcyqKyrOGIp"
   },
   "source": [
    "### 2. PageRank (35 pts)\n",
    "\n",
    "\n",
    "#### Damping factor importance\n",
    "\n",
    "* (5 pts) Write the function ```pagerank_matrix(G)``` that takes an adjacency matrix $G$ (in both sparse and dense formats) as an input and outputs the corresponding PageRank matrix $A$."
   ]
  },
  {
   "cell_type": "code",
   "execution_count": 4,
   "metadata": {
    "id": "2jktwIc8OGIp"
   },
   "outputs": [],
   "source": [
    "# INPUT:  G - np.ndarray or sparse matrix\n",
    "# OUTPUT: A - np.ndarray (of size G.shape) or sparse matrix\n",
    "def pagerank_matrix(G):\n",
    "    N = G.shape[0]\n",
    "    if isinstance(G, np.ndarray):\n",
    "        col_sum = G.sum(axis=0)\n",
    "        \n",
    "        A = G / col_sum\n",
    "        A = np.where(np.isnan(A), 1 / N, A)\n",
    "\n",
    "    elif isinstance(G, scipy.sparse.csr.csr_matrix):\n",
    "\n",
    "        col_sum = G.sum(axis=0).A1\n",
    "\n",
    "        diag_col_sum = scipy.sparse.diags(np.nan_to_num(1/col_sum))\n",
    "\n",
    "        ones = scipy.sparse.diags((1-np.ones(N, dtype=bool) * G.astype(bool)).astype(float))\n",
    "\n",
    "        A = G @ diag_col_sum + ones\n",
    "    else:\n",
    "        raise NotImplementedError\n",
    "    return A"
   ]
  },
  {
   "cell_type": "markdown",
   "metadata": {
    "id": "BtVmgGnYOGIs"
   },
   "source": [
    "* (3 pts) Find PageRank matrix $A$ that corresponds to the following graph: <img src=\"graph.png\" width='250'>\n",
    "What is its largest eigenvalue? What multiplicity does it have?"
   ]
  },
  {
   "cell_type": "markdown",
   "metadata": {},
   "source": [
    "To obtain correct PageRank matrix for directed graph we should transpose adjacency matrix. Otherwise $L(j)$ would be number of ingoing, not outgoing links."
   ]
  },
  {
   "cell_type": "code",
   "execution_count": 25,
   "metadata": {},
   "outputs": [
    {
     "name": "stdout",
     "output_type": "stream",
     "text": [
      "PageRank matrix \n",
      "[[0.  0.  0.5 0.  0. ]\n",
      " [1.  0.  0.5 0.  0. ]\n",
      " [0.  1.  0.  0.  0. ]\n",
      " [0.  0.  0.  0.  1. ]\n",
      " [0.  0.  0.  1.  0. ]]\n",
      "Eigenvalues [-0.5+0.5j -0.5-0.5j  1. +0.j   1. +0.j  -1. +0.j ]\n"
     ]
    }
   ],
   "source": [
    "G = np.array([[0, 0, 1, 0, 0],\n",
    "             [1, 0, 1, 0 ,0],\n",
    "             [0, 1, 0, 0, 0],\n",
    "             [0, 0, 0, 0, 1],\n",
    "             [0, 0, 0, 1 ,0]])\n",
    "A = pagerank_matrix(G)\n",
    "print(f'PageRank matrix \\n{A}')\n",
    "print(f'Eigenvalues {np.linalg.eigvals(A)}')"
   ]
  },
  {
   "cell_type": "markdown",
   "metadata": {},
   "source": [
    "The largest eigenvalue is $1$ with multipicity $2$"
   ]
  },
  {
   "cell_type": "markdown",
   "metadata": {
    "id": "BtVmgGnYOGIs"
   },
   "source": [
    "* (5 pts) Implement the power method for a given matrix $A$, an initial guess $x_0$ and a number of iterations ```num_iter```. It should be organized as a function ```power_method(A, x0, num_iter)``` that outputs approximation to eigenvector $x$, eigenvalue $\\lambda$ and history of residuals $\\{\\|Ax_k - \\lambda_k x_k\\|_2\\}$. Make sure that the method converges to the correct solution on a matrix $\\begin{bmatrix} 2 & -1 \\\\ -1 & 2 \\end{bmatrix}$ which is known to have the largest eigenvalue equal to $3$."
   ]
  },
  {
   "cell_type": "code",
   "execution_count": 5,
   "metadata": {},
   "outputs": [],
   "source": [
    "# INPUT:  A - np.ndarray (2D), x0 - np.ndarray (1D), num_iter - integer (positive)\n",
    "# OUTPUT: x - np.ndarray (of size x0), l - float, res - np.ndarray (of size num_iter + 1 [include initial guess])\n",
    "def power_method(A, x0, num_iter): # 5 pts\n",
    "    \n",
    "    res = []\n",
    "    x_old = x0.copy()\n",
    "    \n",
    "    for i in range(num_iter):\n",
    "        x_new = (A @ x_old) / np.linalg.norm(A @ x_old)\n",
    "        \n",
    "        l = A @ x_new @ x_new\n",
    "        \n",
    "        res.append(np.linalg.norm(A @ x_new - l * x_new))\n",
    "        \n",
    "        x_old = x_new.copy()\n",
    "        \n",
    "    return x_new, l, res"
   ]
  },
  {
   "cell_type": "code",
   "execution_count": 13,
   "metadata": {},
   "outputs": [
    {
     "data": {
      "image/png": "[encoded data removed]",
      "text/plain": [
       "<Figure size 576x576 with 1 Axes>"
      ]
     },
     "metadata": {
      "needs_background": "light"
     },
     "output_type": "display_data"
    },
    {
     "name": "stdout",
     "output_type": "stream",
     "text": [
      "Largest eigenvalue is 3.0\n"
     ]
    }
   ],
   "source": [
    "A = np.array([[2, -1],[-1,2]])\n",
    "x0 = np.array([10.,21.])\n",
    "num_iter = 20\n",
    "\n",
    "x, l, res = power_method(A, x0, num_iter)\n",
    "plt.figure(figsize=(8, 8))\n",
    "plt.plot(res)\n",
    "plt.xlabel('Iteration')\n",
    "plt.ylabel('Residual')\n",
    "plt.title('History of residuals')\n",
    "plt.show()\n",
    "print(f'Largest eigenvalue is {l}')"
   ]
  },
  {
   "cell_type": "markdown",
   "metadata": {},
   "source": [
    "* (2 pts) Run the power method for the graph presented above and plot residuals $\\|Ax_k - \\lambda_k x_k\\|_2$ as a function of $k$ for ```num_iter=100``` and random initial guess ```x0```.  Explain the absence of convergence. \n",
    "\n"
   ]
  },
  {
   "cell_type": "code",
   "execution_count": 14,
   "metadata": {},
   "outputs": [
    {
     "data": {
      "image/png": "[encoded data removed]",
      "text/plain": [
       "<Figure size 576x576 with 1 Axes>"
      ]
     },
     "metadata": {
      "needs_background": "light"
     },
     "output_type": "display_data"
    }
   ],
   "source": [
    "A = pagerank_matrix(G)\n",
    "x0 = np.random.random(5)\n",
    "num_iter = 100\n",
    "\n",
    "x, l, res = power_method(A, x0, num_iter)\n",
    "plt.figure(figsize=(8, 8))\n",
    "plt.plot(res)\n",
    "plt.xlabel('Iteration')\n",
    "plt.ylabel('Residual')\n",
    "plt.title('History of residuals')\n",
    "plt.show()"
   ]
  },
  {
   "cell_type": "markdown",
   "metadata": {},
   "source": [
    "There is no convergence because the absolute maximum eigenvalues have opposite signs.\n",
    "\n",
    "Let $x = h_{\\lambda_1} + h_{\\lambda_{-1}}$, then $Ax_n = |\\lambda| (h_{\\lambda_1} + (-1)^{n} h_{\\lambda_{-1}})$. "
   ]
  },
  {
   "cell_type": "markdown",
   "metadata": {
    "id": "9hAowO6zOGIu"
   },
   "source": [
    "* (2 pts) Consider the same graph, but with additional self loop at node 4 (self loop is an edge that connects a vertex with itself). Plot residuals as in the previous task and discuss the convergence. Now, run the power method with ```num_iter=100``` for 10 different initial guesses and print/plot the resulting approximated eigenvectors. Why do they depend on the initial guess?"
   ]
  },
  {
   "cell_type": "code",
   "execution_count": 15,
   "metadata": {},
   "outputs": [
    {
     "data": {
      "image/png": "[encoded data removed]",
      "text/plain": [
       "<Figure size 576x576 with 1 Axes>"
      ]
     },
     "metadata": {
      "needs_background": "light"
     },
     "output_type": "display_data"
    }
   ],
   "source": [
    "G[4][4]=1\n",
    "A = pagerank_matrix(G)\n",
    "plt.figure(figsize=(8, 8))\n",
    "plt.xlabel('Iteration')\n",
    "plt.ylabel('Residual') \n",
    "plt.title('History of residuals')\n",
    "for i in range(10):\n",
    "    x0 = np.random.random(5)\n",
    "    num_iter = 100\n",
    "    x, l, res = power_method(A, x0, num_iter)\n",
    "    plt.plot(res, label=f'{i+1} init')\n",
    "plt.legend()\n",
    "plt.show()"
   ]
  },
  {
   "cell_type": "markdown",
   "metadata": {
    "id": "9hAowO6zOGIu"
   },
   "source": [
    "In order to avoid this problem Larry Page and Sergey Brin [proposed](http://ilpubs.stanford.edu:8090/422/1/1999-66.pdf) to use the following regularization technique:\n",
    "\n",
    "$$\n",
    "A_d = dA + \\frac{1-d}{N} \\begin{pmatrix} 1 & \\dots & 1 \\\\ \\vdots & & \\vdots \\\\ 1 & \\dots & 1 \\end{pmatrix},\n",
    "$$\n",
    "\n",
    "where $d$ is a small parameter in $[0,1]$ (typically $d=0.85$), which is called **damping factor**, $A$ is of size $N\\times N$. Now $A_d$ is the matrix with multiplicity of the largest eigenvalue equal to 1. \n",
    "Recall that computing the eigenvector of the PageRank matrix, which corresponds to the largest eigenvalue, has the following interpretation. Consider a person who stays in a random node of a graph (i.e. opens a random web page); at each step s/he follows one of the outcoming edges uniformly at random (i.e. opens one of the links). So the person randomly walks through the graph and the eigenvector we are looking for is exactly his/her stationary distribution â€” for each node it tells you the probability of visiting this particular node. Therefore, if the person has started from a part of the graph which is not connected with the other part, he will never get there.  In the regularized model, the person at each step follows one of the outcoming links with probability $d$ OR teleports to a random node from the whole graph with probability $(1-d)$.\n",
    "\n",
    "* (2 pts) Now, run the power method with $A_d$ and plot residuals $\\|A_d x_k - \\lambda_k x_k\\|_2$ as a function of $k$ for $d=0.97$, ```num_iter=100``` and a random initial guess ```x0```."
   ]
  },
  {
   "cell_type": "code",
   "execution_count": 16,
   "metadata": {},
   "outputs": [
    {
     "data": {
      "image/png": "[encoded data removed]",
      "text/plain": [
       "<Figure size 576x576 with 1 Axes>"
      ]
     },
     "metadata": {
      "needs_background": "light"
     },
     "output_type": "display_data"
    }
   ],
   "source": [
    "G[4][4]=1\n",
    "d = 0.97\n",
    "A_d = d * pagerank_matrix(G) + (1 - d) / A.shape[0] * np.ones_like(A)\n",
    "\n",
    "x0 = np.random.random(5)\n",
    "num_iter = 100\n",
    "x, l, res = power_method(A_d, x0, num_iter)\n",
    "\n",
    "plt.figure(figsize=(8, 8))\n",
    "plt.xlabel('Iteration')\n",
    "plt.ylabel('Residual')\n",
    "plt.title('History of residuals')\n",
    "plt.plot(res)\n",
    "plt.show()"
   ]
  },
  {
   "cell_type": "markdown",
   "metadata": {
    "id": "9hAowO6zOGIu"
   },
   "source": [
    "* (5 pts) Find the second largest in the absolute value eigenvalue of the obtained matrix $A_d$. How and why is it connected to the damping factor $d$? What is the convergence rate of the PageRank algorithm when using damping factor?"
   ]
  },
  {
   "cell_type": "code",
   "execution_count": 17,
   "metadata": {},
   "outputs": [
    {
     "name": "stdout",
     "output_type": "stream",
     "text": [
      "Sorted_eigvals is [0.999999999999999, 0.9699999999999995, 0.685893577750951, 0.685893577750951, 0.48500000000000004]\n",
      "Second largest in the absolute value eigenvalue is 0.9699999999999995\n"
     ]
    }
   ],
   "source": [
    "sorted_eigvals = sorted(np.abs(np.linalg.eigvals(A_d)), reverse=True)\n",
    "print(f'Sorted_eigvals is {sorted_eigvals}')\n",
    "print(f'Second largest in the absolute value eigenvalue is {sorted_eigvals[1]}')"
   ]
  },
  {
   "cell_type": "markdown",
   "metadata": {},
   "source": [
    "The second largest in the absolute value eigenvalue  is equal to damping factor."
   ]
  },
  {
   "cell_type": "code",
   "execution_count": 18,
   "metadata": {},
   "outputs": [
    {
     "name": "stdout",
     "output_type": "stream",
     "text": [
      "Convergence ratio is 0.047552507925408355\n"
     ]
    }
   ],
   "source": [
    "print(f'Convergence ratio is {(sorted_eigvals[1] / sorted_eigvals[0]) ** 100}')"
   ]
  },
  {
   "cell_type": "markdown",
   "metadata": {},
   "source": [
    "The end point is \n",
    "$$\n",
    "x + \\sum_{j=2} \\left(\\frac{|\\lambda_{(j)}|}{|\\lambda_{(1)}|}\\right)^N h_j,\n",
    "$$ where $h_j$ - eigenvectors, $N$ is the number of iterations,  $x$ is the eigenvector for $1$ . Hence convergence ratio $\\dfrac{|\\lambda_{(2)}|}{|\\lambda_{(1)}|} = d$"
   ]
  },
  {
   "cell_type": "markdown",
   "metadata": {
    "id": "9hAowO6zOGIu"
   },
   "source": [
    "Usually, graphs that arise in various areas are sparse (social, web, road networks, etc.) and, thus, computation of a matrix-vector product for corresponding PageRank matrix $A$ is much cheaper than $\\mathcal{O}(N^2)$. However, if $A_d$ is calculated directly, it becomes dense and, therefore, $\\mathcal{O}(N^2)$ cost grows prohibitively large for  big $N$.\n",
    "\n",
    "\n",
    "* (2 pts) Implement fast matrix-vector product for $A_d$ as a function ```pagerank_matvec(A, d, x)```, which takes a PageRank matrix $A$ (in sparse format, e.g., ```csr_matrix```), damping factor $d$ and a vector $x$ as an input and returns $A_dx$ as an output. \n",
    "\n",
    "* (1 pts) Generate a random adjacency matrix of size $10000 \\times 10000$ with only 100 non-zero elements and compare ```pagerank_matvec``` performance with direct evaluation of $A_dx$."
   ]
  },
  {
   "cell_type": "code",
   "execution_count": 6,
   "metadata": {
    "id": "4o3LKx5UOGIv"
   },
   "outputs": [],
   "source": [
    "# INPUT:  A - np.ndarray (2D), d - float (from 0.0 to 1.0), x - np.ndarray (1D, size of A.shape[0/1])\n",
    "# OUTPUT: y - np.ndarray (1D, size of x)\n",
    "def pagerank_matvec(A, d, x): # 2 pts\n",
    "    N = A.shape[0]\n",
    "    y = d * (A @ x) + ((1 - d) / N) * np.sum(x) * np.ones(N)\n",
    "    return y"
   ]
  },
  {
   "cell_type": "code",
   "execution_count": 20,
   "metadata": {},
   "outputs": [
    {
     "name": "stdout",
     "output_type": "stream",
     "text": [
      " Time of direct evaluation 1.2823845000000103\n",
      " Time of matvec 4.747971142857068e-05\n"
     ]
    }
   ],
   "source": [
    "N = 10000\n",
    "\n",
    "A = scipy.sparse.random(N, N, density=100 / N ** 2, data_rvs=np.ones, format='csr')\n",
    "x = np.random.sample(N)\n",
    "d = 0.95\n",
    "\n",
    "evaluation =  %timeit -oq (d * A + (1 - d) / N * np.ones((N, N))) @ x\n",
    "print(f' Time of direct evaluation {evaluation.average}')\n",
    "\n",
    "pagerank_matvec_time =  %timeit -oq pagerank_matvec(A, d, x)\n",
    "print(f' Time of matvec {pagerank_matvec_time.average}')"
   ]
  },
  {
   "cell_type": "markdown",
   "metadata": {
    "id": "ru70NGUlOGIy"
   },
   "source": [
    "#### DBLP: computer science bibliography\n",
    "\n",
    "Download the dataset from [here](https://goo.gl/oZVxEa), unzip it and put `dblp_authors.npz`  and `dblp_graph.npz` in the same folder with this notebook. Each value (author name) from `dblp_authors.npz` corresponds to the row/column of the matrix from `dblp_graph.npz`. Value at row `i` and column `j` of the matrix from `dblp_graph.npz` corresponds to the number of times author `i` cited papers of the author `j`. Let us now find the most significant scientists according to PageRank model over DBLP data.\n",
    "\n",
    "* (4 pts) Load the weighted adjacency matrix and the authors list into Python using ```load_dblp(...)``` function. Print its density (fraction of nonzero elements). Find top-10 most cited authors from the weighted adjacency matrix. Now, make all the weights of the adjacency matrix equal to 1 for simplicity (consider only existence of connection between authors, not its weight). Obtain the PageRank matrix $A$ from the adjacency matrix and verify that it is stochastic.\n",
    " \n",
    " \n",
    "* (1 pts) In order to provide ```pagerank_matvec``` to your ```power_method``` (without rewriting it) for fast calculation of $A_dx$, you can create a ```LinearOperator```: \n",
    "```python\n",
    "L = scipy.sparse.linalg.LinearOperator(A.shape, matvec=lambda x, A=A, d=d: pagerank_matvec(A, d, x))\n",
    "```\n",
    "Calling ```L@x``` or ```L.dot(x)``` will result in calculation of ```pagerank_matvec(A, d, x)``` and, thus, you can plug $L$ instead of the matrix $A$ in the ```power_method``` directly. **Note:** though in the previous subtask graph was very small (so you could disparage fast matvec implementation), here it is very large (but sparse), so that direct evaluation of $A_dx$ will require $\\sim 10^{12}$ matrix elements to store - good luck with that (^_<).\n",
    "\n",
    "\n",
    "* (2 pts) Run the power method starting from the vector of all ones and plot residuals $\\|A_dx_k - \\lambda_k x_k\\|_2$  as a function of $k$ for $d=0.85$.\n",
    "\n",
    "\n",
    "* (1 pts) Print names of the top-10 authors according to PageRank over DBLP when $d=0.85$. Comment on your findings."
   ]
  },
  {
   "cell_type": "code",
   "execution_count": 45,
   "metadata": {
    "id": "L5ZnW7m-OGIz"
   },
   "outputs": [],
   "source": [
    "from scipy.sparse import load_npz\n",
    "import numpy as np\n",
    "import scipy\n",
    "def load_dblp(path_auth, path_graph):\n",
    "    G = load_npz(path_graph).astype(float)\n",
    "    with np.load(path_auth) as data: authors = data['authors']\n",
    "    return G, authors\n",
    "G, authors = load_dblp('dblp_authors.npz', 'dblp_graph.npz')\n"
   ]
  },
  {
   "cell_type": "code",
   "execution_count": 46,
   "metadata": {},
   "outputs": [
    {
     "name": "stdout",
     "output_type": "stream",
     "text": [
      "Density is  4.4986518152305776e-05\n",
      "Top 10 cited authors are ['David G. Lowe' 'David E. Culler' 'Ion Stoica' 'Jitendra Malik'\n",
      " 'Cordelia Schmid' 'Anil K. Jain' 'Jiawei Han' 'Hari Balakrishnan'\n",
      " 'Andrew Zisserman' 'Scott Shenker']\n"
     ]
    }
   ],
   "source": [
    "print(f\"Density is  {len(G.data)/(G.shape[0]*G.shape[1])}\")\n",
    "citations = np.hstack([np.array([np.arange(G.shape[0])]).T, np.array(G.sum(axis=0)).T])\n",
    "top_10_cited_authors = sorted(citations, key = lambda x: x[1])[-10:]\n",
    "print(f'Top 10 cited authors are {authors[np.array(top_10_cited_authors)[:,0].astype(int)]}')"
   ]
  },
  {
   "cell_type": "code",
   "execution_count": 47,
   "metadata": {},
   "outputs": [
    {
     "name": "stderr",
     "output_type": "stream",
     "text": [
      "D:\\programs\\Anaconda\\lib\\site-packages\\ipykernel_launcher.py:15: RuntimeWarning: divide by zero encountered in true_divide\n",
      "  from ipykernel import kernelapp as app\n"
     ]
    }
   ],
   "source": [
    "G_simple = G.T.copy()\n",
    "import gc\n",
    "del G\n",
    "del A\n",
    "gc.collect()\n",
    "\n",
    "G_simple.data = np.ones(len(G_simple.data))\n",
    "G_simple = scipy.sparse.csr_matrix(G_simple)\n",
    "A = pagerank_matrix(G_simple)"
   ]
  },
  {
   "cell_type": "code",
   "execution_count": 48,
   "metadata": {},
   "outputs": [
    {
     "name": "stdout",
     "output_type": "stream",
     "text": [
      "Is PageRank Matrix left stochastic? True\n"
     ]
    }
   ],
   "source": [
    "print(f'Is PageRank Matrix left stochastic? {np.isclose(A.sum(axis=0), np.ones(A.shape[0]), atol=1e-9).all()}')"
   ]
  },
  {
   "cell_type": "code",
   "execution_count": 10,
   "metadata": {},
   "outputs": [],
   "source": [
    "from scipy.sparse.linalg import LinearOperator\n",
    "L = LinearOperator(A.shape, matvec=lambda x, A=A, d=0.85: pagerank_matvec(A, d, x))\n",
    "x, l, res = power_method(L, np.ones(A.shape[0]), 30)"
   ]
  },
  {
   "cell_type": "code",
   "execution_count": 12,
   "metadata": {},
   "outputs": [
    {
     "data": {
      "image/png": "[encoded data removed]",
      "text/plain": [
       "<Figure size 576x576 with 1 Axes>"
      ]
     },
     "metadata": {
      "needs_background": "light"
     },
     "output_type": "display_data"
    }
   ],
   "source": [
    "plt.figure(figsize=(8, 8))\n",
    "plt.xlabel('Iteration')\n",
    "plt.ylabel('Residual')\n",
    "plt.title('History of residuals')\n",
    "plt.plot(res)\n",
    "plt.show()"
   ]
  },
  {
   "cell_type": "code",
   "execution_count": 14,
   "metadata": {},
   "outputs": [
    {
     "name": "stdout",
     "output_type": "stream",
     "text": [
      "Top 10 pagerank cited authors are ['Lawrence Prusak' 'Takeo Kanade' 'John E. Hopcroft' 'Ronald L. Rivest'\n",
      " 'Azriel Rosenfeld' 'Anil K. Jain' 'Veronica Falcão' 'Richard M. Karp'\n",
      " 'Martin Porter' 'David E. Goldberg']\n"
     ]
    }
   ],
   "source": [
    "pagerank_top_10_cited_authors = sorted(list(zip(np.arange(x.shape[0]), x)), key=lambda y: y[1])[-10:]\n",
    "print(f'Top 10 pagerank cited authors are {authors[np.array(pagerank_top_10_cited_authors)[:,0].astype(int)]}')"
   ]
  },
  {
   "cell_type": "markdown",
   "metadata": {
    "id": "hQ2vaIyMOGI3"
   },
   "source": [
    "## Problem 3. QR algorithm (33 pts)\n",
    "\n",
    "* Implement QR-algorithm without shifts. Prototype of the function is given below"
   ]
  },
  {
   "cell_type": "code",
   "execution_count": 15,
   "metadata": {
    "id": "rMHBZLojOGI3"
   },
   "outputs": [],
   "source": [
    "# INPUT: \n",
    "# A_init - square matrix, \n",
    "# num_iter - number of iterations for QR algorithm\n",
    "# OUTPUT: \n",
    "# Ak - transformed matrix A_init given by QR algorithm, \n",
    "# convergence - numpy array of shape (num_iter, ), \n",
    "# where we store the maximal number from the Chebyshev norm \n",
    "# of triangular part of the Ak for every iteration\n",
    "def qr_algorithm(A_init, num_iter): # 3 pts\n",
    "    # enter your code here\n",
    "    Ak = A_init.copy()\n",
    "    convergence = []\n",
    "    \n",
    "    for i in range(num_iter):\n",
    "        Q, R = np.linalg.qr(Ak[:, :])\n",
    "        Ak = R @ Q\n",
    "        convergence.append(np.linalg.norm(np.tril(Ak, k=-1), np.inf))\n",
    "    return Ak, convergence"
   ]
  },
  {
   "cell_type": "markdown",
   "metadata": {
    "id": "UNrCBNRUOGI6"
   },
   "source": [
    "#### Symmetric case (3 pts)\n",
    "- Create symmetric tridiagonal $11 \\times 11$ matrix with elements $-1, 2, -1$ on sub-, main- and upper diagonal respectively without using loops.\n",
    "- Run $400$ iterations of the QR algorithm for this matrix.\n",
    "- Plot the output matrix with function ```plt.spy(Ak, precision=1e-7)```.\n",
    "- Plot convergence of QR-algorithm."
   ]
  },
  {
   "cell_type": "code",
   "execution_count": 16,
   "metadata": {
    "id": "NuKwQGXbOGI6"
   },
   "outputs": [],
   "source": [
    "# Your solution is here\n",
    "diag = np.ones(11)\n",
    "A = np.diag(2*diag) + np.diag(-diag[1:], -1) + np.diag(-diag[1:], 1)\n",
    "\n",
    "Ak,convergence = qr_algorithm(A, 400)"
   ]
  },
  {
   "cell_type": "code",
   "execution_count": 17,
   "metadata": {},
   "outputs": [
    {
     "data": {
      "image/png": "[encoded data removed]",
      "text/plain": [
       "<Figure size 432x288 with 1 Axes>"
      ]
     },
     "metadata": {
      "needs_background": "light"
     },
     "output_type": "display_data"
    }
   ],
   "source": [
    "plt.spy(Ak, precision=1e-7)\n",
    "plt.show()"
   ]
  },
  {
   "cell_type": "code",
   "execution_count": 18,
   "metadata": {},
   "outputs": [
    {
     "data": {
      "text/plain": [
       "Text(0.5, 1.0, 'Convergence of QR-algorithm')"
      ]
     },
     "execution_count": 18,
     "metadata": {},
     "output_type": "execute_result"
    },
    {
     "data": {
      "image/png": "[encoded data removed]",
      "text/plain": [
       "<Figure size 576x576 with 1 Axes>"
      ]
     },
     "metadata": {
      "needs_background": "light"
     },
     "output_type": "display_data"
    }
   ],
   "source": [
    "plt.figure(figsize = (8, 8))\n",
    "plt.plot(np.arange(len(convergence)), convergence)\n",
    "plt.xlabel('Iteration')\n",
    "plt.ylabel('Chebyshev norm')\n",
    "plt.title('Convergence of QR-algorithm')\n"
   ]
  },
  {
   "cell_type": "markdown",
   "metadata": {
    "id": "-lomV2K-OGI8"
   },
   "source": [
    "#### Nonsymmetric case (5 pts)\n",
    "\n",
    "- Create nonsymmetric tridiagonal $11 \\times 11$ matrix with elements $5, 3, -2$ on sub-, main- and upper diagonal respectively without using loops.\n",
    "- Run $250$ iterations of the QR algorithm for this matrix.\n",
    "- Plot the result matrix with function ```plt.spy(Ak, precision=1e-7)```. Is this matrix lower triangular? How does this correspond to the claim about convergence of the QR algorithm?"
   ]
  },
  {
   "cell_type": "code",
   "execution_count": 19,
   "metadata": {
    "id": "C2lGBHjaOGI9"
   },
   "outputs": [],
   "source": [
    "# Your solution is here\n",
    "diag = np.ones(11)\n",
    "A = np.diag(3*diag) + np.diag(5*diag[1:], -1) + np.diag(-2*diag[1:], 1)\n",
    "\n",
    "Ak,convergence = qr_algorithm(A, 250)"
   ]
  },
  {
   "cell_type": "code",
   "execution_count": 20,
   "metadata": {},
   "outputs": [
    {
     "data": {
      "image/png": "[encoded data removed]",
      "text/plain": [
       "<Figure size 432x288 with 1 Axes>"
      ]
     },
     "metadata": {
      "needs_background": "light"
     },
     "output_type": "display_data"
    }
   ],
   "source": [
    "plt.spy(Ak, precision=1e-7)\n",
    "plt.show()"
   ]
  },
  {
   "cell_type": "markdown",
   "metadata": {},
   "source": [
    "### QR algorithms with Rayleigh Quotient shift (10 pts)\n",
    "\n",
    "In the lectures the Rayleigh Quotient shift was introduced to speed up convergence of power method. Here we ask you to generalize this approach to construct the shifts in QR algorithm.\n",
    "\n",
    "- How to compute the Rayleigh Quotient shift in QR algorithm fast? Provide formulas and explanations how they can be simplified.\n",
    "- Implement explicit QR algorithm with Rayleigh Quotient shift. Please do not worry about implicit orthogonalization, we want to compare convergence only in terms of iterations.\n",
    "- Test your implementation in the symmetric case. Plot the convergence of QR algorithm with and without shift. Choose the dimension $n \\sim 100 $ for more representative results. \n",
    "- How the convergence of the shifted algorithm compares to the simple QR? Why? "
   ]
  },
  {
   "cell_type": "code",
   "execution_count": 21,
   "metadata": {},
   "outputs": [],
   "source": [
    "def qr_algorithm_reileigh(A_init, num_iter):\n",
    "    # enter your code here\n",
    "    Ak = A_init.copy()\n",
    "    convergence = []\n",
    "    n = A_init.shape[0]\n",
    "    lambda_k = 0\n",
    "    for i in range(num_iter):\n",
    "        Q, R = np.linalg.qr(Ak[:n, :n] - lambda_k * np.eye(Ak[:n, :n].shape[0]))\n",
    "        Ak[:n, :n] = R @ Q + lambda_k * np.eye(Ak[:n, :n].shape[0])\n",
    "\n",
    "        if n > 1 and np.isclose(Ak[n-1, n - 2], 0, 1e-9):\n",
    "            n -= 1\n",
    "        lambda_k = Ak[n-1, n-1]\n",
    "        \n",
    "#         print(lambda_k)\n",
    "        convergence.append(np.linalg.norm(np.tril(Ak, k=-1), np.inf))\n",
    "    return Ak, convergence"
   ]
  },
  {
   "cell_type": "code",
   "execution_count": 22,
   "metadata": {},
   "outputs": [
    {
     "data": {
      "text/plain": [
       "Text(0.5, 1.0, 'Convergence of QR-algorithm')"
      ]
     },
     "execution_count": 22,
     "metadata": {},
     "output_type": "execute_result"
    },
    {
     "data": {
      "image/png": "[encoded data removed]",
      "text/plain": [
       "<Figure size 576x576 with 1 Axes>"
      ]
     },
     "metadata": {
      "needs_background": "light"
     },
     "output_type": "display_data"
    }
   ],
   "source": [
    "# Your solution is here\n",
    "n = 100\n",
    "diag = np.ones(n)\n",
    "A = np.diag(2*diag) + np.diag(-diag[1:], -1) + np.diag(-diag[1:], 1)\n",
    "\n",
    "\n",
    "plt.figure(figsize = (8, 8))\n",
    "Ak1,convergence1 = qr_algorithm(A, 400)\n",
    "plt.plot(np.arange(len(convergence1)), convergence1, label='without shift')\n",
    "Ak2,convergence2 = qr_algorithm_reileigh(A, 400)\n",
    "plt.plot(np.arange(len(convergence2)), convergence2, label='with shift')\n",
    "\n",
    "\n",
    "plt.xlabel('Iteration')\n",
    "plt.ylabel('Chebyshev norm')\n",
    "plt.legend()\n",
    "plt.title('Convergence of QR-algorithm')\n"
   ]
  },
  {
   "cell_type": "markdown",
   "metadata": {},
   "source": [
    "- Try QR with Rayleigh Quotient shift for a simple matrix $A = \\begin{bmatrix}\n",
    "0 & 1 \\\\\n",
    "1 & 0\n",
    "\\end{bmatrix}$. Does anything change from iteration to iteration? Does shift affect convergence here? Why?"
   ]
  },
  {
   "cell_type": "code",
   "execution_count": 23,
   "metadata": {},
   "outputs": [
    {
     "data": {
      "text/plain": [
       "Text(0.5, 1.0, 'Convergence of QR-algorithm with RQ shift')"
      ]
     },
     "execution_count": 23,
     "metadata": {},
     "output_type": "execute_result"
    },
    {
     "data": {
      "image/png": "[encoded data removed]",
      "text/plain": [
       "<Figure size 432x288 with 1 Axes>"
      ]
     },
     "metadata": {
      "needs_background": "light"
     },
     "output_type": "display_data"
    }
   ],
   "source": [
    "# Your solution is here\n",
    "A = np.array([[0, 1], [1, 0]])\n",
    "Ak,convergence = qr_algorithm_reileigh(A, 400)\n",
    "plt.plot(np.arange(len(convergence)), convergence)\n",
    "\n",
    "\n",
    "plt.xlabel('Iteration')\n",
    "plt.ylabel('Chebyshev norm')\n",
    "plt.title('Convergence of QR-algorithm with RQ shift')"
   ]
  },
  {
   "cell_type": "markdown",
   "metadata": {},
   "source": [
    "QR decompositon for this matrix is $ \\begin{bmatrix}\n",
    "0 & -1 \\\\\n",
    "-1 & 0\n",
    "\\end{bmatrix} \\begin{bmatrix}\n",
    "-1 & 0 \\\\\n",
    "0 & -1\n",
    "\\end{bmatrix}$. Therefore $RQ = \\begin{bmatrix}\n",
    "0 & 1 \\\\\n",
    "1 & 0\n",
    "\\end{bmatrix} = A$ and shift remains zero."
   ]
  },
  {
   "cell_type": "markdown",
   "metadata": {},
   "source": [
    "### QR with Wilkinson shift  (15 pts)\n",
    "\n",
    "To solve the problem that appears in the last example, we can use the Wilkinson shift:\n",
    "\n",
    "$$\\mu = a_m - \\frac {sign(\\delta) b^2_{m-1}} {(|\\delta| + \\sqrt{\\delta^2 + b^2_{m-1}} )},$$\n",
    "\n",
    "where $\\delta = \\frac{(a_{m-1} - a_m)}{2}$. If $\\delta = 0$, then instead of $sign(\\delta)$ you have to choose $1$ or $-1$ arbitrary.\n",
    "The numbers $a_m, b_{m-1}, a_{m-1}$ are taken from matrix $B$:\n",
    "\n",
    "$$\n",
    "    B = \n",
    "    \\begin{bmatrix} \n",
    "     a_{m-1} & b_{m-1} \\\\ \n",
    "     b_{m-1} & a_m \\\\ \n",
    "    \\end{bmatrix},\n",
    "$$  \n",
    "which is a lower right bottom submatrix of $A^{(k)}$. Here $k$ is an iteration counter in QR algorithm.\n",
    "\n",
    "- Compare convergence in the symmetric cases: \n",
    "    - distinctive eigenvalues\n",
    "    - two coincident eigenvalues\n",
    "    - maximum and minimum eigenvalues with the same absolute value\n",
    "Choose the dimension $n \\sim 100 $ for more representative results.\n",
    "What do you observe? "
   ]
  },
  {
   "cell_type": "code",
   "execution_count": 27,
   "metadata": {},
   "outputs": [],
   "source": [
    "import math\n",
    "def qr_algorithm_wilkinson(A_init, num_iter):\n",
    "    # enter your code here\n",
    "    Ak = A_init.copy()\n",
    "    convergence = []\n",
    "    n = A_init.shape[0]\n",
    "    lambda_k = 0\n",
    "    for i in range(num_iter):\n",
    "        \n",
    "        Q, R = np.linalg.qr(Ak[:n, :n] - lambda_k * np.eye(n))\n",
    "        Ak[:n, :n] = R @ Q + lambda_k * np.eye(n)\n",
    "        \n",
    "        if n > 1 and np.isclose(Ak[n-1, n - 2], 0, 1e-12):\n",
    "            n -= 1\n",
    "                            \n",
    "        delta = (Ak[n-1, n-1] - Ak[n-2, n-2]) / 2\n",
    "        if delta == 0:\n",
    "            sign = 1 if np.random.random() < 0.5 else -1\n",
    "        else:\n",
    "            sign = math.copysign(1, delta)\n",
    "        lambda_k = Ak[n-1, n-1] - sign * Ak[n-1, n-2] ** 2 / (abs(delta) + (Ak[n-1, n-2] ** 2 + delta **2 ) ** 0.5)\n",
    "        \n",
    "        \n",
    "#         print(lambda_k)\n",
    "        convergence.append(np.linalg.norm(np.tril(Ak, k=-1), np.inf))\n",
    "    return Ak, convergence"
   ]
  },
  {
   "cell_type": "code",
   "execution_count": 28,
   "metadata": {},
   "outputs": [
    {
     "data": {
      "text/plain": [
       "Text(0.5, 1.0, 'Convergence of QR-algorithm')"
      ]
     },
     "execution_count": 28,
     "metadata": {},
     "output_type": "execute_result"
    },
    {
     "data": {
      "image/png": "[encoded data removed]",
      "text/plain": [
       "<Figure size 576x576 with 1 Axes>"
      ]
     },
     "metadata": {
      "needs_background": "light"
     },
     "output_type": "display_data"
    }
   ],
   "source": [
    "# Your solution is here\n",
    "n = 100\n",
    "diag = np.ones(n)\n",
    "A = np.diag(2*diag) + np.diag(-diag[1:], -1) + np.diag(-diag[1:], 1)\n",
    "\n",
    "\n",
    "plt.figure(figsize = (8, 8))\n",
    "Ak1,convergence1 = qr_algorithm(A, 400)\n",
    "plt.plot(np.arange(len(convergence1)), convergence1, label='without shift')\n",
    "Ak2,convergence2 = qr_algorithm_wilkinson(A, 400)\n",
    "plt.plot(np.arange(len(convergence2)), convergence2, label='with shift')\n",
    "\n",
    "\n",
    "plt.xlabel('Iteration')\n",
    "plt.ylabel('Chebyshev norm')\n",
    "plt.legend()\n",
    "plt.title('Convergence of QR-algorithm')\n"
   ]
  },
  {
   "cell_type": "code",
   "execution_count": 29,
   "metadata": {},
   "outputs": [
    {
     "data": {
      "text/plain": [
       "Text(0.5, 1.0, 'Convergence of QR-algorithm')"
      ]
     },
     "execution_count": 29,
     "metadata": {},
     "output_type": "execute_result"
    },
    {
     "data": {
      "image/png": "[encoded data removed]",
      "text/plain": [
       "<Figure size 576x576 with 1 Axes>"
      ]
     },
     "metadata": {
      "needs_background": "light"
     },
     "output_type": "display_data"
    }
   ],
   "source": [
    "# Your solution is here\n",
    "n = 100\n",
    "diag = np.ones(n)\n",
    "A = np.diag(2*diag) + np.diag(-diag[1:], -1) + np.diag(-diag[1:], 1)\n",
    "\n",
    "\n",
    "plt.figure(figsize = (8, 8))\n",
    "Ak1,convergence1 = qr_algorithm(A, 400)\n",
    "plt.plot(np.arange(len(convergence1)), convergence1, label='without shift')\n",
    "Ak2,convergence2 = qr_algorithm_wilkinson(A, 400)\n",
    "plt.plot(np.arange(len(convergence2)), convergence2, label='with W shift')\n",
    "Ak3,convergence3 = qr_algorithm_reileigh(A, 400)\n",
    "plt.plot(np.arange(len(convergence3)), convergence3, label='with RQ shift')\n",
    "\n",
    "\n",
    "plt.xlabel('Iteration')\n",
    "plt.ylabel('Chebyshev norm')\n",
    "plt.legend()\n",
    "plt.title('Convergence of QR-algorithm on tridiagonal matrix')\n"
   ]
  },
  {
   "cell_type": "code",
   "execution_count": 30,
   "metadata": {},
   "outputs": [
    {
     "data": {
      "text/plain": [
       "Text(0.5, 1.0, 'Convergence of QR-algorithm')"
      ]
     },
     "execution_count": 30,
     "metadata": {},
     "output_type": "execute_result"
    },
    {
     "data": {
      "image/png": "[encoded data removed]",
      "text/plain": [
       "<Figure size 576x576 with 1 Axes>"
      ]
     },
     "metadata": {
      "needs_background": "light"
     },
     "output_type": "display_data"
    }
   ],
   "source": [
    "# Your solution is here\n",
    "A = np.array([[0, 1], [1, 0]])\n",
    "\n",
    "\n",
    "plt.figure(figsize = (8, 8))\n",
    "Ak1,convergence1 = qr_algorithm(A, 400)\n",
    "plt.plot(np.arange(len(convergence1)), convergence1, label='without shift')\n",
    "Ak2,convergence2 = qr_algorithm_wilkinson(A, 400)\n",
    "plt.plot(np.arange(len(convergence2)), convergence2, label='with W shift')\n",
    "Ak3,convergence3 = qr_algorithm_reileigh(A, 400)\n",
    "plt.plot(np.arange(len(convergence3)), convergence3, label='with RQ shift')\n",
    "\n",
    "\n",
    "plt.xlabel('Iteration')\n",
    "plt.ylabel('Chebyshev norm')\n",
    "plt.legend()\n",
    "plt.title('Convergence of QR-algorithm on bad matrix ')\n"
   ]
  },
  {
   "cell_type": "code",
   "execution_count": 34,
   "metadata": {},
   "outputs": [
    {
     "data": {
      "text/plain": [
       "Text(0.5, 1.0, 'Convergence of QR-algorithm')"
      ]
     },
     "execution_count": 34,
     "metadata": {},
     "output_type": "execute_result"
    },
    {
     "data": {
      "image/png": "[encoded data removed]",
      "text/plain": [
       "<Figure size 576x576 with 1 Axes>"
      ]
     },
     "metadata": {
      "needs_background": "light"
     },
     "output_type": "display_data"
    }
   ],
   "source": [
    "# Your solution is here\n",
    "n = 100\n",
    "diag = np.ones(n)\n",
    "A = np.diag(2*diag) + np.diag(-2 * diag[1:], -1) + np.diag(-2 * diag[1:], 1)\n",
    "\n",
    "\n",
    "plt.figure(figsize = (8, 8))\n",
    "Ak1,convergence1 = qr_algorithm(A, 400)\n",
    "plt.plot(np.arange(len(convergence1)), convergence1, label='without shift')\n",
    "Ak2,convergence2 = qr_algorithm_wilkinson(A, 400)\n",
    "plt.plot(np.arange(len(convergence2)), convergence2, label='with W shift')\n",
    "Ak3,convergence3 = qr_algorithm_reileigh(A, 400)\n",
    "plt.plot(np.arange(len(convergence3)), convergence3, label='with RQ shift')\n",
    "\n",
    "\n",
    "plt.xlabel('Iteration')\n",
    "plt.ylabel('Chebyshev norm')\n",
    "plt.legend()\n",
    "plt.title('Convergence of QR-algorithm')\n"
   ]
  },
  {
   "cell_type": "markdown",
   "metadata": {
    "id": "c_8OYe7wOGI-"
   },
   "source": [
    "## Problem 4. (Movie Recommender system) 15 pts\n",
    "\n",
    "Imagine the world without NLA where you have free evenings and you can watch movies!  \n",
    "But it is always hard to choose a movie to watch. \n",
    "In this problem we suggest you to build your own movie recommender system based on SVD decomposition, so you can combine two perfect things: Numerical Linear Algebra and cinematography!"
   ]
  },
  {
   "cell_type": "markdown",
   "metadata": {
    "id": "W2duSA-Su7CI"
   },
   "source": [
    "In order to build recommender system you need data. \n",
    "Here you are https://grouplens.org/datasets/movielens/1m/\n",
    "\n",
    "Usually all recommender systems may be devided into two groups\n",
    "\n",
    "#### Collaborative filtering. \n",
    "\n",
    "This approach is based on user-item interaction.\n",
    "It has one important assumption: user who has liked an item in the past will also likes the same in the future. Suppose the user A likes the films about vampires. \n",
    "He is Twilight saga fan and he has watched the film \"What we do in the shadows\" and liked it or unliked it, in other words he evaluated it somehow. And suppose another user B, who has the similair behavior to the first user (he is also Twilight saga fan). And the chance, that he will estimate \"What we do in the shadows\" in the same way that user A did, is huge. So, the purpose of the collaborative filtering is to predict a user's behavior based on behavior of the simular users.\n",
    "\n",
    "#### Content based filtering.\n",
    "\n",
    "Collaborative filtering has some essential flaws. The main one is called \"cold start\". \"Cold start\" happens when the new user comes and he has not react anyhow to the items. So we do not know his past behavior and we do not know what to advise. Here content based filtering helps. Often resources gather some extra info about users and items before a user comes down to utilising the resource. So, for example we would know that user likes horror movies before he watched anything on the resource."
   ]
  },
  {
   "cell_type": "markdown",
   "metadata": {
    "id": "mMvQV1zSu7Cg"
   },
   "source": [
    "\n",
    "- In this task you will implement Collaborative filtering based on SVD (we will use the function from the proper package and check if the result recommender system advices the similar movies)"
   ]
  },
  {
   "cell_type": "markdown",
   "metadata": {
    "id": "tMN7EK6gu7Ch"
   },
   "source": [
    "1) (1 pts)  Explore the data. Construct the interaction matrix $M$ of size $m \\times n$ which contains the information of how a certain user rated a certain film. \n",
    "\n",
    "2) (5 pts)  Compute SVD of this matrix. Remeber that matrix $M$ is sparse (one user can hardly watch all the movies) so the good choice would be to use method from ```scipy.sparse.linalg``` package\n",
    "\n",
    "$$ M = USV^{\\top}, $$\n",
    "\n",
    "where $U$ is a $m \\times r $ orthogonal matrix with left singular vectors, which represents the relationship between users and latent factors, $S$ is a $r \\times r $ diagonal matrix, which describes the strength of each latent factor and $V^\\top$ is a $r \\times n$ matrix with right singular vectors, which represent the embeddings of  items (movies in our case) in latent space.\n",
    "Describe any simple heuristic to choose appropriate value for $r$ and explain why do you expect that it will work.\n"
   ]
  },
  {
   "cell_type": "code",
   "execution_count": 35,
   "metadata": {
    "id": "qxYtnm7au7Ci"
   },
   "outputs": [
    {
     "name": "stderr",
     "output_type": "stream",
     "text": [
      "D:\\programs\\Anaconda\\lib\\site-packages\\ipykernel_launcher.py:7: ParserWarning: Falling back to the 'python' engine because the 'c' engine does not support regex separators (separators > 1 char and different from '\\s+' are interpreted as regex); you can avoid this warning by specifying engine='python'.\n",
      "  import sys\n",
      "D:\\programs\\Anaconda\\lib\\site-packages\\ipykernel_launcher.py:8: ParserWarning: Falling back to the 'python' engine because the 'c' engine does not support regex separators (separators > 1 char and different from '\\s+' are interpreted as regex); you can avoid this warning by specifying engine='python'.\n",
      "  \n",
      "D:\\programs\\Anaconda\\lib\\site-packages\\ipykernel_launcher.py:9: ParserWarning: Falling back to the 'python' engine because the 'c' engine does not support regex separators (separators > 1 char and different from '\\s+' are interpreted as regex); you can avoid this warning by specifying engine='python'.\n",
      "  if __name__ == '__main__':\n"
     ]
    },
    {
     "data": {
      "text/plain": [
       "(6040, 3883)"
      ]
     },
     "execution_count": 35,
     "metadata": {},
     "output_type": "execute_result"
    }
   ],
   "source": [
    "# Importing Libraries\n",
    "import numpy as np\n",
    "import pandas as pd\n",
    "\n",
    "# Read the dataset\n",
    "\n",
    "movies = pd.read_csv('ml-1m/movies.dat', sep=\"::\", names=['MovieID', 'Title', 'Genres'], header=None)\n",
    "ratings = pd.read_csv('ml-1m/ratings.dat', sep=\"::\", names=['UserID', 'MovieID', 'Rating', 'TimeStamp'], header=None)\n",
    "users = pd.read_csv('ml-1m/users.dat', sep=\"::\", names=['UserID', 'Gender', 'Age', 'Occupation','Zip-code'], header=None)\n",
    "\n",
    "movie_index_mapping = {movies.MovieID.values[i] : i for i in range(movies.shape[0])}\n",
    "user_index_mapping = {users.UserID.values[i] : i for i in range(users.shape[0])}\n",
    "\n",
    "ratings['UserID'] = ratings['UserID'].map(user_index_mapping)\n",
    "ratings['MovieID'] = ratings['MovieID'].map(movie_index_mapping)\n",
    "\n",
    "\n",
    "# Create the interaction matrix\n",
    "M = scipy.sparse.csr_matrix((ratings.Rating.values, (ratings.UserID.values,ratings.MovieID.values)), dtype='f')\n",
    "M.shape\n",
    "# Normalize the matrix"
   ]
  },
  {
   "cell_type": "code",
   "execution_count": 36,
   "metadata": {},
   "outputs": [
    {
     "data": {
      "text/html": [
       "<div>\n",
       "<style scoped>\n",
       "    .dataframe tbody tr th:only-of-type {\n",
       "        vertical-align: middle;\n",
       "    }\n",
       "\n",
       "    .dataframe tbody tr th {\n",
       "        vertical-align: top;\n",
       "    }\n",
       "\n",
       "    .dataframe thead th {\n",
       "        text-align: right;\n",
       "    }\n",
       "</style>\n",
       "<table border=\"1\" class=\"dataframe\">\n",
       "  <thead>\n",
       "    <tr style=\"text-align: right;\">\n",
       "      <th></th>\n",
       "      <th>MovieID</th>\n",
       "      <th>Title</th>\n",
       "      <th>Genres</th>\n",
       "    </tr>\n",
       "  </thead>\n",
       "  <tbody>\n",
       "    <tr>\n",
       "      <th>0</th>\n",
       "      <td>1</td>\n",
       "      <td>Toy Story (1995)</td>\n",
       "      <td>Animation|Children's|Comedy</td>\n",
       "    </tr>\n",
       "    <tr>\n",
       "      <th>1</th>\n",
       "      <td>2</td>\n",
       "      <td>Jumanji (1995)</td>\n",
       "      <td>Adventure|Children's|Fantasy</td>\n",
       "    </tr>\n",
       "    <tr>\n",
       "      <th>2</th>\n",
       "      <td>3</td>\n",
       "      <td>Grumpier Old Men (1995)</td>\n",
       "      <td>Comedy|Romance</td>\n",
       "    </tr>\n",
       "    <tr>\n",
       "      <th>3</th>\n",
       "      <td>4</td>\n",
       "      <td>Waiting to Exhale (1995)</td>\n",
       "      <td>Comedy|Drama</td>\n",
       "    </tr>\n",
       "    <tr>\n",
       "      <th>4</th>\n",
       "      <td>5</td>\n",
       "      <td>Father of the Bride Part II (1995)</td>\n",
       "      <td>Comedy</td>\n",
       "    </tr>\n",
       "  </tbody>\n",
       "</table>\n",
       "</div>"
      ],
      "text/plain": [
       "   MovieID                               Title                        Genres\n",
       "0        1                    Toy Story (1995)   Animation|Children's|Comedy\n",
       "1        2                      Jumanji (1995)  Adventure|Children's|Fantasy\n",
       "2        3             Grumpier Old Men (1995)                Comedy|Romance\n",
       "3        4            Waiting to Exhale (1995)                  Comedy|Drama\n",
       "4        5  Father of the Bride Part II (1995)                        Comedy"
      ]
     },
     "execution_count": 36,
     "metadata": {},
     "output_type": "execute_result"
    }
   ],
   "source": [
    "movies.head()"
   ]
  },
  {
   "cell_type": "code",
   "execution_count": 37,
   "metadata": {},
   "outputs": [
    {
     "data": {
      "text/html": [
       "<div>\n",
       "<style scoped>\n",
       "    .dataframe tbody tr th:only-of-type {\n",
       "        vertical-align: middle;\n",
       "    }\n",
       "\n",
       "    .dataframe tbody tr th {\n",
       "        vertical-align: top;\n",
       "    }\n",
       "\n",
       "    .dataframe thead th {\n",
       "        text-align: right;\n",
       "    }\n",
       "</style>\n",
       "<table border=\"1\" class=\"dataframe\">\n",
       "  <thead>\n",
       "    <tr style=\"text-align: right;\">\n",
       "      <th></th>\n",
       "      <th>UserID</th>\n",
       "      <th>MovieID</th>\n",
       "      <th>Rating</th>\n",
       "      <th>TimeStamp</th>\n",
       "    </tr>\n",
       "  </thead>\n",
       "  <tbody>\n",
       "    <tr>\n",
       "      <th>0</th>\n",
       "      <td>0</td>\n",
       "      <td>1176</td>\n",
       "      <td>5</td>\n",
       "      <td>978300760</td>\n",
       "    </tr>\n",
       "    <tr>\n",
       "      <th>1</th>\n",
       "      <td>0</td>\n",
       "      <td>655</td>\n",
       "      <td>3</td>\n",
       "      <td>978302109</td>\n",
       "    </tr>\n",
       "    <tr>\n",
       "      <th>2</th>\n",
       "      <td>0</td>\n",
       "      <td>902</td>\n",
       "      <td>3</td>\n",
       "      <td>978301968</td>\n",
       "    </tr>\n",
       "    <tr>\n",
       "      <th>3</th>\n",
       "      <td>0</td>\n",
       "      <td>3339</td>\n",
       "      <td>4</td>\n",
       "      <td>978300275</td>\n",
       "    </tr>\n",
       "    <tr>\n",
       "      <th>4</th>\n",
       "      <td>0</td>\n",
       "      <td>2286</td>\n",
       "      <td>5</td>\n",
       "      <td>978824291</td>\n",
       "    </tr>\n",
       "  </tbody>\n",
       "</table>\n",
       "</div>"
      ],
      "text/plain": [
       "   UserID  MovieID  Rating  TimeStamp\n",
       "0       0     1176       5  978300760\n",
       "1       0      655       3  978302109\n",
       "2       0      902       3  978301968\n",
       "3       0     3339       4  978300275\n",
       "4       0     2286       5  978824291"
      ]
     },
     "execution_count": 37,
     "metadata": {},
     "output_type": "execute_result"
    }
   ],
   "source": [
    "ratings.head()"
   ]
  },
  {
   "cell_type": "code",
   "execution_count": 38,
   "metadata": {
    "id": "3zUd9OvBu7Cj"
   },
   "outputs": [],
   "source": [
    "# Compute Singular Value Decomposition of interaction matrix. You can use built-in functions\n",
    "\n",
    "U,S, V = scipy.sparse.linalg.svds(M, k = 300)# Update this line, it is just example"
   ]
  },
  {
   "cell_type": "code",
   "execution_count": 39,
   "metadata": {},
   "outputs": [
    {
     "data": {
      "text/plain": [
       "[<matplotlib.lines.Line2D at 0x25858c15fc8>]"
      ]
     },
     "execution_count": 39,
     "metadata": {},
     "output_type": "execute_result"
    },
    {
     "data": {
      "image/png": "[encoded data removed]",
      "text/plain": [
       "<Figure size 432x288 with 1 Axes>"
      ]
     },
     "metadata": {
      "needs_background": "light"
     },
     "output_type": "display_data"
    }
   ],
   "source": [
    "plt.plot(sorted(S / max(S), reverse=True))"
   ]
  },
  {
   "cell_type": "markdown",
   "metadata": {},
   "source": [
    "We can see that singular values almost constant after 200 number so we will use that $r$"
   ]
  },
  {
   "cell_type": "code",
   "execution_count": 40,
   "metadata": {},
   "outputs": [],
   "source": [
    "U,S, V = scipy.sparse.linalg.svds(M, k = 200)# Update this line, it is just example"
   ]
  },
  {
   "cell_type": "markdown",
   "metadata": {
    "id": "SMXnKF5Tu7Cj"
   },
   "source": [
    "3) (2 pts) In order to get weighted item-latent factors, we can multiply $S$ and $V^{T}$. Please, remember that $S$ is diagonal and multiply them efficiently."
   ]
  },
  {
   "cell_type": "code",
   "execution_count": 41,
   "metadata": {
    "id": "VEW4M5Ovu7Cj"
   },
   "outputs": [],
   "source": [
    "# Your solutuion is here\n",
    "Weight = np.multiply(S[:,None], V)\n"
   ]
  },
  {
   "cell_type": "markdown",
   "metadata": {
    "id": "eEMDQkkqu7Ck"
   },
   "source": [
    "Now we have vectors that represent our item space. In other words we have $N$ movies and $N$ vectors which describe each movie, a.k.a. embeddings. \n",
    "In order to know if two movies are similar or not we need just to check if the corresponding vectors are similair or not. How we can do this?\n",
    "\n",
    "4) (2 pts)  Implement the cosine metric. If the cosine metric between two vectors equals to $1$ both vectors are collinear, if $0$ vectors are orthogonal, as a result corresponding movies are completely different.\n",
    "\n",
    "$$\n",
    "cosine(u,v) = \\frac{u^{\\top}v}{\\|u\\|_2\\|v\\|_2}\n",
    "$$"
   ]
  },
  {
   "cell_type": "code",
   "execution_count": 42,
   "metadata": {
    "id": "lAR4dXMOOGI_"
   },
   "outputs": [],
   "source": [
    "# Your solutuion is here\n",
    "def cosine(u, v):\n",
    "    return u @ v / np.linalg.norm(u) / np.linalg.norm(v)\n"
   ]
  },
  {
   "cell_type": "markdown",
   "metadata": {
    "id": "6wRZh8ALu7C1"
   },
   "source": [
    "5) (5 pts) Check your result. Implement the fuction, which finds and prints $k$ similar movies to the one you have chosen"
   ]
  },
  {
   "cell_type": "code",
   "execution_count": 43,
   "metadata": {
    "id": "26g7MzeWu7C1"
   },
   "outputs": [],
   "source": [
    "# Your solutuion is here\n",
    "def get_similar(movie_id, weight_matrix, movie_table, k=5):\n",
    "    u = weight_matrix[movie_id]\n",
    "    print(f'Chosen movie is {movie_table.Title[movie_id]})')\n",
    "    similarities = np.apply_along_axis(lambda v : 1 - cosine(u, v), 1, weight_matrix)\n",
    "    ids = np.argpartition(similarities, k + 1)[:k+1]\n",
    "    assert movie_id in ids\n",
    "    ids = np.delete(ids, np.where(ids==movie_id)[0])\n",
    "    return movie_table.Title[ids].values"
   ]
  },
  {
   "cell_type": "code",
   "execution_count": 128,
   "metadata": {},
   "outputs": [
    {
     "data": {
      "text/html": [
       "<div>\n",
       "<style scoped>\n",
       "    .dataframe tbody tr th:only-of-type {\n",
       "        vertical-align: middle;\n",
       "    }\n",
       "\n",
       "    .dataframe tbody tr th {\n",
       "        vertical-align: top;\n",
       "    }\n",
       "\n",
       "    .dataframe thead th {\n",
       "        text-align: right;\n",
       "    }\n",
       "</style>\n",
       "<table border=\"1\" class=\"dataframe\">\n",
       "  <thead>\n",
       "    <tr style=\"text-align: right;\">\n",
       "      <th></th>\n",
       "      <th>MovieID</th>\n",
       "      <th>Title</th>\n",
       "      <th>Genres</th>\n",
       "    </tr>\n",
       "  </thead>\n",
       "  <tbody>\n",
       "    <tr>\n",
       "      <th>847</th>\n",
       "      <td>858</td>\n",
       "      <td>Godfather, The (1972)</td>\n",
       "      <td>Action|Crime|Drama</td>\n",
       "    </tr>\n",
       "    <tr>\n",
       "      <th>1203</th>\n",
       "      <td>1221</td>\n",
       "      <td>Godfather: Part II, The (1974)</td>\n",
       "      <td>Action|Crime|Drama</td>\n",
       "    </tr>\n",
       "    <tr>\n",
       "      <th>1954</th>\n",
       "      <td>2023</td>\n",
       "      <td>Godfather: Part III, The (1990)</td>\n",
       "      <td>Action|Crime|Drama</td>\n",
       "    </tr>\n",
       "  </tbody>\n",
       "</table>\n",
       "</div>"
      ],
      "text/plain": [
       "      MovieID                            Title              Genres\n",
       "847       858            Godfather, The (1972)  Action|Crime|Drama\n",
       "1203     1221   Godfather: Part II, The (1974)  Action|Crime|Drama\n",
       "1954     2023  Godfather: Part III, The (1990)  Action|Crime|Drama"
      ]
     },
     "execution_count": 128,
     "metadata": {},
     "output_type": "execute_result"
    }
   ],
   "source": [
    "movies[movies['Title'].str.contains(\"Godfather\")]"
   ]
  },
  {
   "cell_type": "code",
   "execution_count": 44,
   "metadata": {},
   "outputs": [
    {
     "name": "stdout",
     "output_type": "stream",
     "text": [
      "Chosen movie is Godfather, The (1972))\n"
     ]
    },
    {
     "data": {
      "text/plain": [
       "array(['Godfather: Part II, The (1974)', 'French Connection, The (1971)',\n",
       "       'Star Wars: Episode IV - A New Hope (1977)', 'Jaws (1975)',\n",
       "       'Raiders of the Lost Ark (1981)'], dtype=object)"
      ]
     },
     "execution_count": 44,
     "metadata": {},
     "output_type": "execute_result"
    }
   ],
   "source": [
    "get_similar(847, Weight.T, movies, k=5)"
   ]
  },
  {
   "cell_type": "markdown",
   "metadata": {
    "id": "oPIQfKcmu7C2"
   },
   "source": [
    "Enjoy watching the recommended movies!\n"
   ]
  },
  {
   "cell_type": "code",
   "execution_count": null,
   "metadata": {},
   "outputs": [],
   "source": []
  }
 ],
 "metadata": {
  "colab": {
   "collapsed_sections": [],
   "name": "hw2_problem_1_3.ipynb",
   "provenance": []
  },
  "kernelspec": {
   "display_name": "Python 3",
   "language": "python",
   "name": "python3"
  },
  "language_info": {
   "codemirror_mode": {
    "name": "ipython",
    "version": 3
   },
   "file_extension": ".py",
   "mimetype": "text/x-python",
   "name": "python",
   "nbconvert_exporter": "python",
   "pygments_lexer": "ipython3",
   "version": "3.7.10"
  }
 },
 "nbformat": 4,
 "nbformat_minor": 1
}
