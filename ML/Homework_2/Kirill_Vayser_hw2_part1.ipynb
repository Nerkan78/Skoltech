{
  "cells": [
    {
      "cell_type": "markdown",
      "metadata": {
        "id": "approved-psychology"
      },
      "source": [
        "# Home Assignment No. 2 - part one\n",
        "\n",
        "To solve this task, you will write a lot of code to try several machine learning methods for classification and regression.\n",
        "* You are **HIGHLY RECOMMENDED** to read relevant documentation, e.g. for [python](https://docs.python.org/3/), [numpy](https://docs.scipy.org/doc/numpy/reference/), [matlpotlib](https://matplotlib.org/) and [sklearn](https://scikit-learn.org/stable/). Also remember that seminars, lecture slides, [Google](http://google.com) and [StackOverflow](https://stackoverflow.com/) are your close friends during this course (and, probably, whole life?).\n",
        "\n",
        "* If you want an easy life, you have to use **BUILT-IN METHODS** of `sklearn` library instead of writing tons of your own code. There exists a class/method for almost everything you can imagine (related to this homework).\n",
        "\n",
        "* You have to write **CODE** directly inside specified places marked by comments: **BEGIN/END Solution**. Do not create new cells.\n",
        "\n",
        "* In some problems you are asked to provide a short discussion of the results. For that find the specific place marked via **Your text answer: \\<write your answer\\>**.\n",
        "\n",
        "* For every separate problem or subproblem (if specified) you can get only 0 points or maximal points for this problem. There are **NO INTERMEDIATE scores**. So make sure that you did everything required in the task.\n",
        "\n",
        "* Your **SOLUTION** notebook **MUST BE REPRODUCIBLE**, i.e., if the reviewer decides to restart the notebook and run all cells, after all the computation he will obtain exactly the same solution (with all the corresponding plots) as in your uploaded notebook. For this purpose, we suggest fixing random `seed` or (better) define `random_state=` inside every algorithm that uses some pseudorandomness.\n",
        "\n",
        "* Your code must be clear to the reviewer. For this purpose, try to include necessary comments inside the code. But remember: **GOOD CODE MUST BE SELF-EXPLANATORY** without any additional comments.\n",
        "\n",
        "* Many `sklearn` algorithms support multithreading (Ensemble Methods, Cross-Validation, etc.). Check if the particular algorithm has `n_jobs` parameters and set it to `-1` to use all the cores.\n"
      ],
      "id": "approved-psychology"
    },
    {
      "cell_type": "code",
      "execution_count": 1,
      "metadata": {
        "id": "cooperative-spokesman"
      },
      "outputs": [],
      "source": [
        "import numpy as np\n",
        "import sklearn\n",
        "from sklearn.model_selection import train_test_split\n",
        "import pandas as pd\n",
        "import matplotlib.pyplot as plt\n",
        "from sklearn.model_selection import cross_val_score\n",
        "%matplotlib inline"
      ],
      "id": "cooperative-spokesman"
    },
    {
      "cell_type": "code",
      "execution_count": 2,
      "metadata": {
        "id": "noted-bridal"
      },
      "outputs": [],
      "source": [
        "import warnings\n",
        "warnings.filterwarnings(\"ignore\")"
      ],
      "id": "noted-bridal"
    },
    {
      "cell_type": "markdown",
      "metadata": {
        "id": "guilty-contamination"
      },
      "source": [
        "## Task 1. Model and feature selection problem (3 points)\n",
        "\n",
        "Your goal in this task is to predict the price (```price_doc```) given some characteristics of a house. In order to do that, you will demonstrate your abilities in data preprocessing, finding feature importances, applying different ML models."
      ],
      "id": "guilty-contamination"
    },
    {
      "cell_type": "markdown",
      "metadata": {
        "id": "friendly-review"
      },
      "source": [
        "### Subproblem 1.1. Data preprocessing and feauture importances (1 point)\n",
        "\n",
        "The goal of this subproblem is to prepare the data for further usage. Complete all of the following subtasks:"
      ],
      "id": "friendly-review"
    },
    {
      "cell_type": "markdown",
      "metadata": {
        "id": "rational-reggae"
      },
      "source": [
        "**1.1.1) load the dataset**"
      ],
      "id": "rational-reggae"
    },
    {
      "cell_type": "code",
      "execution_count": 5,
      "metadata": {
        "id": "nutritional-phoenix"
      },
      "outputs": [],
      "source": [
        "### BEGIN Solution (do not delete this comment)\n",
        "dataframe = pd.read_csv('data_fs.csv')\n",
        "### END Solution (do not delete this comment)"
      ],
      "id": "nutritional-phoenix"
    },
    {
      "cell_type": "markdown",
      "metadata": {
        "id": "objective-working"
      },
      "source": [
        "**1.1.2) preprocess the dataset by dropping the ```timestamp``` feature, filling ```NaN```s with 0, converting the categorical variables into dummy variables**"
      ],
      "id": "objective-working"
    },
    {
      "cell_type": "code",
      "execution_count": 6,
      "metadata": {
        "id": "another-keyboard"
      },
      "outputs": [],
      "source": [
        "### BEGIN Solution (do not delete this comment)\n",
        "dataframe.drop(columns=['timestamp'], inplace=True)\n",
        "dataframe.fillna(0, inplace=True)\n",
        "all_cols = dataframe.columns\n",
        "numeric_cols = dataframe._get_numeric_data().columns\n",
        "# since there are almost 400 features without description we just treat as categorical all non numeric columns\n",
        "categorical_cols= list(set(all_cols) - set(numeric_cols))\n",
        "dataframe = pd.get_dummies(dataframe, columns = categorical_cols)\n",
        "### END Solution (do not delete this comment)"
      ],
      "id": "another-keyboard"
    },
    {
      "cell_type": "markdown",
      "metadata": {
        "id": "dress-shanghai"
      },
      "source": [
        "**1.1.3) define ```x_train```, ```x_test```, ```y_train```, ```y_test```. The train-test split should be 70:30**\n"
      ],
      "id": "dress-shanghai"
    },
    {
      "cell_type": "code",
      "execution_count": 7,
      "metadata": {
        "id": "outdoor-runner"
      },
      "outputs": [],
      "source": [
        "### BEGIN Solution (do not delete this comment)\n",
        "X = dataframe.drop(columns=['price_doc']).values\n",
        "y = dataframe['price_doc'].values\n",
        "X_train, X_test,  y_train, y_test = train_test_split(X, y, shuffle=True, test_size=0.3)\n",
        "### END Solution (do not delete this comment)"
      ],
      "id": "outdoor-runner"
    },
    {
      "cell_type": "markdown",
      "metadata": {
        "id": "engaging-ready"
      },
      "source": [
        "\n",
        "**1.1.4) plot the histogram of y values. Note that the mean of these values is very high and the distribution of the values is far from normal. Create ```y_train_log``` and ```y_test_log``` by applying $log_{y}$. Now plot the new histogram of the obtained values. You should use these log values for the next subtasks.**   "
      ],
      "id": "engaging-ready"
    },
    {
      "cell_type": "code",
      "execution_count": 8,
      "metadata": {
        "colab": {
          "base_uri": "https://localhost:8080/",
          "height": 526
        },
        "id": "inclusive-outreach",
        "outputId": "d5c6010d-d985-4a4d-b577-5afd6f0d95e2"
      },
      "outputs": [
        {
          "output_type": "display_data",
          "data": {
            "image/png": "[encoded data removed]",
            "text/plain": [
              "<Figure size 432x288 with 1 Axes>"
            ]
          },
          "metadata": {
            "needs_background": "light"
          }
        },
        {
          "output_type": "display_data",
          "data": {
            "image/png": "[encoded data removed]",
            "text/plain": [
              "<Figure size 432x288 with 1 Axes>"
            ]
          },
          "metadata": {
            "needs_background": "light"
          }
        }
      ],
      "source": [
        "### BEGIN Solution (do not delete this comment)\n",
        "plt.hist(y, bins=100)\n",
        "plt.grid()\n",
        "plt.show()\n",
        "\n",
        "y_train_log = np.log(y_train)\n",
        "y_test_log = np.log(y_test)\n",
        "plt.hist(np.hstack((y_train_log, y_test_log)), bins=100)\n",
        "plt.grid()\n",
        "plt.show()\n",
        "\n",
        "### END Solution (do not delete this comment)"
      ],
      "id": "inclusive-outreach"
    },
    {
      "cell_type": "markdown",
      "metadata": {
        "id": "noticed-drunk"
      },
      "source": [
        "**1.1.5) print the number of features in the created ```x_train``` and ```x_test``` datasets. Answer the question: do you think all of these features are relevant for the adequate price prediction?**\n"
      ],
      "id": "noticed-drunk"
    },
    {
      "cell_type": "code",
      "execution_count": 9,
      "metadata": {
        "colab": {
          "base_uri": "https://localhost:8080/"
        },
        "id": "strategic-spending",
        "outputId": "36434fbd-e914-4e25-8ade-bd017db5ada3"
      },
      "outputs": [
        {
          "output_type": "stream",
          "name": "stdout",
          "text": [
            "Number of features is 560\n"
          ]
        }
      ],
      "source": [
        "### BEGIN Solution (do not delete this comment)\n",
        "print(f'Number of features is {X_train.shape[1]}')\n",
        "### END Solution (do not delete this comment)"
      ],
      "id": "strategic-spending"
    },
    {
      "cell_type": "markdown",
      "metadata": {
        "id": "restricted-anchor"
      },
      "source": [
        "**Your text answer (do not delete this comment)**:\n",
        "\n",
        "I think not. We should stick to reasonable simplicity and from my point of view at the beginning there are many features that are irrelevant, noise or correlated with others. We should explore them to justify that."
      ],
      "id": "restricted-anchor"
    },
    {
      "cell_type": "markdown",
      "metadata": {
        "id": "endangered-mineral"
      },
      "source": [
        "**1.1.6) use random forest to find the importance of the features. Plot the histogram of the importances.**"
      ],
      "id": "endangered-mineral"
    },
    {
      "cell_type": "code",
      "execution_count": 10,
      "metadata": {
        "id": "residential-tongue",
        "colab": {
          "base_uri": "https://localhost:8080/",
          "height": 265
        },
        "outputId": "5e7269ec-4b94-4c31-a5d7-3fc8a3fa0f38"
      },
      "outputs": [
        {
          "output_type": "display_data",
          "data": {
            "image/png": "[encoded data removed]",
            "text/plain": [
              "<Figure size 432x288 with 1 Axes>"
            ]
          },
          "metadata": {
            "needs_background": "light"
          }
        }
      ],
      "source": [
        "### BEGIN Solution (do not delete this comment)\n",
        "from sklearn.ensemble import RandomForestRegressor\n",
        "rf = RandomForestRegressor(n_estimators = 10, n_jobs=-1)\n",
        "rf.fit(X_train, y_train)\n",
        "plt.hist(rf.feature_importances_, bins = 20)\n",
        "plt.show()\n",
        "### END Solution (do not delete this comment)"
      ],
      "id": "residential-tongue"
    },
    {
      "cell_type": "markdown",
      "metadata": {
        "id": "ethical-firmware"
      },
      "source": [
        "**1.1.7) print the names of the 20 most important features**"
      ],
      "id": "ethical-firmware"
    },
    {
      "cell_type": "code",
      "execution_count": 11,
      "metadata": {
        "colab": {
          "base_uri": "https://localhost:8080/"
        },
        "id": "amazing-marriage",
        "outputId": "5bdc02d3-e014-452a-97c6-14efa8a43b80"
      },
      "outputs": [
        {
          "output_type": "stream",
          "name": "stdout",
          "text": [
            "Index(['full_sq', 'cafe_count_3000_price_2500', 'cafe_count_3000',\n",
            "       'cafe_count_2000', 'cafe_count_5000_price_2500', 'office_sqm_5000',\n",
            "       'sport_count_3000', 'swim_pool_km', 'cafe_count_3000_price_1500',\n",
            "       'cafe_count_2000_price_2500', 'kitch_sq', 'exhibition_km',\n",
            "       'church_count_5000', 'ttk_km', 'state', 'theater_km', 'micex_rgbi_tr',\n",
            "       'kindergarten_km', 'cafe_count_2000_price_1000', 'sadovoe_km'],\n",
            "      dtype='object')\n"
          ]
        }
      ],
      "source": [
        "### BEGIN Solution (do not delete this comment)\n",
        "indices = np.argsort(rf.feature_importances_)[::-1][:20]\n",
        "print(dataframe.columns[indices])\n",
        "### END Solution (do not delete this comment)"
      ],
      "id": "amazing-marriage"
    },
    {
      "cell_type": "markdown",
      "metadata": {
        "id": "threaded-ivory"
      },
      "source": [
        "<br>"
      ],
      "id": "threaded-ivory"
    },
    {
      "cell_type": "markdown",
      "metadata": {
        "id": "little-toddler"
      },
      "source": [
        "### Subproblem 1.2. Training models on the most important features (1 point)"
      ],
      "id": "little-toddler"
    },
    {
      "cell_type": "markdown",
      "metadata": {
        "id": "vietnamese-patrick"
      },
      "source": [
        "In this subproblem, you will train several ML models on the found 20 most important features: train **Linear Regression**,  **Ridge regression**, **Random forest**,  **DecisionTree** and evaluate their performance using the Root Mean Squared Logarithmic Error (RMSLE) on both train/test sets. \n",
        "\n",
        "You will have to repeat the same actions in the next tasks too, so we recommend to implement\n",
        "a dedicated function for comparisons, which\n",
        "1. on input takes a training dataset `(X_train, y_train)` and a test sample `(X_test, y_test)`;\n",
        "2. it trains **all of the listed models** on the `(X_train, y_train)` sample;\n",
        "3. it computes and returns a table with the RMSLE score of each fitted model on the train and test datasets."
      ],
      "id": "vietnamese-patrick"
    },
    {
      "cell_type": "markdown",
      "metadata": {
        "id": "stupid-principle"
      },
      "source": [
        "**1.2.1) Implement the function described above**"
      ],
      "id": "stupid-principle"
    },
    {
      "cell_type": "code",
      "execution_count": 12,
      "metadata": {
        "id": "paperback-uniform"
      },
      "outputs": [],
      "source": [
        "### BEGIN Solution (do not delete this comment\n",
        "from sklearn.linear_model import LinearRegression, Ridge\n",
        "from sklearn.tree import DecisionTreeRegressor\n",
        "from sklearn.metrics import mean_squared_error as mse\n",
        "\n",
        "\n",
        "def test_models(X_train, y_train, X_test, y_test):\n",
        "    lr = LinearRegression()\n",
        "    rr = Ridge()\n",
        "    tr = DecisionTreeRegressor(min_samples_leaf = 5)\n",
        "    rfr = RandomForestRegressor()\n",
        "    results = []\n",
        "    for regressor, name in zip((lr, rr, tr, rfr), ('Linear Regression', 'Ridge', 'Tree', 'Random Forest')):\n",
        "        regressor.fit(X_train, y_train)\n",
        "        y_pred = regressor.predict(X_train)\n",
        "        train_score = mse(y_pred, y_train)\n",
        "        y_pred = regressor.predict(X_test)\n",
        "        test_score = mse(y_pred,y_test)\n",
        "        results.append([name, train_score, test_score ])\n",
        "        print(f'{name} is done')\n",
        "    return pd.DataFrame(results, columns = ['Methods', 'Train Error', 'Test Error'])\n",
        "\n",
        "\n",
        "\n",
        "### END Solution (do not delete this comment)"
      ],
      "id": "paperback-uniform"
    },
    {
      "cell_type": "markdown",
      "metadata": {
        "id": "demographic-honolulu"
      },
      "source": [
        "**1.2.2) Apply the implemented function to our dataset (use only the 20 most important features)**"
      ],
      "id": "demographic-honolulu"
    },
    {
      "cell_type": "code",
      "execution_count": 13,
      "metadata": {
        "colab": {
          "base_uri": "https://localhost:8080/",
          "height": 244
        },
        "id": "USWWFFQab-gX",
        "outputId": "e0919c21-e871-4af3-bc3c-901dc1506e11"
      },
      "outputs": [
        {
          "output_type": "stream",
          "name": "stdout",
          "text": [
            "Linear Regression is done\n",
            "Ridge is done\n",
            "Tree is done\n",
            "Random Forest is done\n"
          ]
        },
        {
          "output_type": "execute_result",
          "data": {
            "text/html": [
              "\n",
              "  <div id=\"df-76f8d94b-bceb-4fa9-95cc-279208b187e7\">\n",
              "    <div class=\"colab-df-container\">\n",
              "      <div>\n",
              "<style scoped>\n",
              "    .dataframe tbody tr th:only-of-type {\n",
              "        vertical-align: middle;\n",
              "    }\n",
              "\n",
              "    .dataframe tbody tr th {\n",
              "        vertical-align: top;\n",
              "    }\n",
              "\n",
              "    .dataframe thead th {\n",
              "        text-align: right;\n",
              "    }\n",
              "</style>\n",
              "<table border=\"1\" class=\"dataframe\">\n",
              "  <thead>\n",
              "    <tr style=\"text-align: right;\">\n",
              "      <th></th>\n",
              "      <th>Methods</th>\n",
              "      <th>Train Error</th>\n",
              "      <th>Test Error</th>\n",
              "    </tr>\n",
              "  </thead>\n",
              "  <tbody>\n",
              "    <tr>\n",
              "      <th>0</th>\n",
              "      <td>Linear Regression</td>\n",
              "      <td>0.297250</td>\n",
              "      <td>0.300460</td>\n",
              "    </tr>\n",
              "    <tr>\n",
              "      <th>1</th>\n",
              "      <td>Ridge</td>\n",
              "      <td>0.297250</td>\n",
              "      <td>0.300460</td>\n",
              "    </tr>\n",
              "    <tr>\n",
              "      <th>2</th>\n",
              "      <td>Tree</td>\n",
              "      <td>0.102934</td>\n",
              "      <td>0.318015</td>\n",
              "    </tr>\n",
              "    <tr>\n",
              "      <th>3</th>\n",
              "      <td>Random Forest</td>\n",
              "      <td>0.031258</td>\n",
              "      <td>0.236830</td>\n",
              "    </tr>\n",
              "  </tbody>\n",
              "</table>\n",
              "</div>\n",
              "      <button class=\"colab-df-convert\" onclick=\"convertToInteractive('df-76f8d94b-bceb-4fa9-95cc-279208b187e7')\"\n",
              "              title=\"Convert this dataframe to an interactive table.\"\n",
              "              style=\"display:none;\">\n",
              "        \n",
              "  <svg xmlns=\"http://www.w3.org/2000/svg\" height=\"24px\"viewBox=\"0 0 24 24\"\n",
              "       width=\"24px\">\n",
              "    <path d=\"M0 0h24v24H0V0z\" fill=\"none\"/>\n",
              "    <path d=\"M18.56 5.44l.94 2.06.94-2.06 2.06-.94-2.06-.94-.94-2.06-.94 2.06-2.06.94zm-11 1L8.5 8.5l.94-2.06 2.06-.94-2.06-.94L8.5 2.5l-.94 2.06-2.06.94zm10 10l.94 2.06.94-2.06 2.06-.94-2.06-.94-.94-2.06-.94 2.06-2.06.94z\"/><path d=\"M17.41 7.96l-1.37-1.37c-.4-.4-.92-.59-1.43-.59-.52 0-1.04.2-1.43.59L10.3 9.45l-7.72 7.72c-.78.78-.78 2.05 0 2.83L4 21.41c.39.39.9.59 1.41.59.51 0 1.02-.2 1.41-.59l7.78-7.78 2.81-2.81c.8-.78.8-2.07 0-2.86zM5.41 20L4 18.59l7.72-7.72 1.47 1.35L5.41 20z\"/>\n",
              "  </svg>\n",
              "      </button>\n",
              "      \n",
              "  <style>\n",
              "    .colab-df-container {\n",
              "      display:flex;\n",
              "      flex-wrap:wrap;\n",
              "      gap: 12px;\n",
              "    }\n",
              "\n",
              "    .colab-df-convert {\n",
              "      background-color: #E8F0FE;\n",
              "      border: none;\n",
              "      border-radius: 50%;\n",
              "      cursor: pointer;\n",
              "      display: none;\n",
              "      fill: #1967D2;\n",
              "      height: 32px;\n",
              "      padding: 0 0 0 0;\n",
              "      width: 32px;\n",
              "    }\n",
              "\n",
              "    .colab-df-convert:hover {\n",
              "      background-color: #E2EBFA;\n",
              "      box-shadow: 0px 1px 2px rgba(60, 64, 67, 0.3), 0px 1px 3px 1px rgba(60, 64, 67, 0.15);\n",
              "      fill: #174EA6;\n",
              "    }\n",
              "\n",
              "    [theme=dark] .colab-df-convert {\n",
              "      background-color: #3B4455;\n",
              "      fill: #D2E3FC;\n",
              "    }\n",
              "\n",
              "    [theme=dark] .colab-df-convert:hover {\n",
              "      background-color: #434B5C;\n",
              "      box-shadow: 0px 1px 3px 1px rgba(0, 0, 0, 0.15);\n",
              "      filter: drop-shadow(0px 1px 2px rgba(0, 0, 0, 0.3));\n",
              "      fill: #FFFFFF;\n",
              "    }\n",
              "  </style>\n",
              "\n",
              "      <script>\n",
              "        const buttonEl =\n",
              "          document.querySelector('#df-76f8d94b-bceb-4fa9-95cc-279208b187e7 button.colab-df-convert');\n",
              "        buttonEl.style.display =\n",
              "          google.colab.kernel.accessAllowed ? 'block' : 'none';\n",
              "\n",
              "        async function convertToInteractive(key) {\n",
              "          const element = document.querySelector('#df-76f8d94b-bceb-4fa9-95cc-279208b187e7');\n",
              "          const dataTable =\n",
              "            await google.colab.kernel.invokeFunction('convertToInteractive',\n",
              "                                                     [key], {});\n",
              "          if (!dataTable) return;\n",
              "\n",
              "          const docLinkHtml = 'Like what you see? Visit the ' +\n",
              "            '<a target=\"_blank\" href=https://colab.research.google.com/notebooks/data_table.ipynb>data table notebook</a>'\n",
              "            + ' to learn more about interactive tables.';\n",
              "          element.innerHTML = '';\n",
              "          dataTable['output_type'] = 'display_data';\n",
              "          await google.colab.output.renderOutput(dataTable, element);\n",
              "          const docLink = document.createElement('div');\n",
              "          docLink.innerHTML = docLinkHtml;\n",
              "          element.appendChild(docLink);\n",
              "        }\n",
              "      </script>\n",
              "    </div>\n",
              "  </div>\n",
              "  "
            ],
            "text/plain": [
              "             Methods  Train Error  Test Error\n",
              "0  Linear Regression     0.297250    0.300460\n",
              "1              Ridge     0.297250    0.300460\n",
              "2               Tree     0.102934    0.318015\n",
              "3      Random Forest     0.031258    0.236830"
            ]
          },
          "metadata": {},
          "execution_count": 13
        }
      ],
      "source": [
        "### BEGIN Solution\n",
        "X_train_cut = X_train[:, indices]\n",
        "X_test_cut = X_test[:, indices]\n",
        "\n",
        "results = test_models(X_train_cut, y_train_log, X_test_cut, y_test_log)\n",
        "results\n",
        "### END Solution"
      ],
      "id": "USWWFFQab-gX"
    },
    {
      "cell_type": "markdown",
      "metadata": {
        "id": "6lSOGA4-7RSx"
      },
      "source": [
        "<br>"
      ],
      "id": "6lSOGA4-7RSx"
    },
    {
      "cell_type": "markdown",
      "metadata": {
        "id": "stock-jewel"
      },
      "source": [
        "### Subproblem 1.3. Forward-backward methods (1 point)\n",
        "In the subproblems above, we have relied on the feature importances found by the random forest method. The main goal of this subproblem is to find feature importances by applying the forward-backward methods: the main idea is to add or remove features and compute how this removal influences the value of the loss function or some other criteria.\n",
        "\n",
        "The decision about adding or deleting a feature may be made based on:\n",
        "\n",
        "- AIC\n",
        "- BIC\n",
        "- validation error\n",
        "- Mallows $C_p$\n",
        "- sklearn's `estimator.score()`"
      ],
      "id": "stock-jewel"
    },
    {
      "cell_type": "markdown",
      "metadata": {
        "id": "southern-closer"
      },
      "source": [
        "In subtasks, 1.3.1 - 1.3.3, implement the following greedy feature selection algorithm with early stopping using the mean of the RMSLE scores achieved on the 3-fold cross-validation. Please bear in mind that **the lower** RMSLE (`mean_squared_log_error`) is, **the higher the model \"quality\" is** and look up `cross_val_score(...)` peculiarities in [scikit's manual](https://scikit-learn.org/stable/documentation.html) for more information.\n",
        "\n",
        "```python\n",
        "# Initialize with an empty list of features.\n",
        "list_of_best_features = []\n",
        "\n",
        "while round < n_rounds:\n",
        "    round = round + 1\n",
        "    \n",
        "    if no_more_features:\n",
        "        # end loop\n",
        "\n",
        "    # Iterate over currently *unused* features and use $k$-fold \n",
        "    # . `cross_val_score` to measure model \"quality\".\n",
        "    compute_quality_with_each_new_unused_feature(...)\n",
        "\n",
        "    # **Add** the feature that gives the highest \"quality\" of the model.\n",
        "    pick_and_add_the_best_feature(...)\n",
        "\n",
        "    if model_quality_has_increased_since_last_round:\n",
        "        round = 0\n",
        "\n",
        "return list_of_best_features\n",
        "```"
      ],
      "id": "southern-closer"
    },
    {
      "cell_type": "markdown",
      "metadata": {
        "id": "suffering-italy"
      },
      "source": [
        "**1.3.1) In the cell below, you have to implement a function that would iterate over a list of features and use $k$-fold `cross_val_score` to measure the model's \"quality\".** "
      ],
      "id": "suffering-italy"
    },
    {
      "cell_type": "code",
      "execution_count": 14,
      "metadata": {
        "id": "caroline-state"
      },
      "outputs": [],
      "source": [
        "from sklearn.metrics import make_scorer\n",
        "from sklearn.model_selection import StratifiedKFold\n",
        "def selection_step(model, X, y, used_features=(), cv=3):\n",
        "    \"\"\"\n",
        "    Parameters\n",
        "    ==========\n",
        "        X: ndarray - training inputs\n",
        "        y: ndarray - training targets\n",
        "        used_features: - list of features\n",
        "        cv: int - number of folds\n",
        "\n",
        "    Returns\n",
        "    =======\n",
        "        scores - dictionary of scores\n",
        "    \"\"\"\n",
        "    \n",
        "    scores = {}\n",
        "    \n",
        "    ### BEGIN Solution\n",
        "    for index in range(X.shape[1]):\n",
        "        if index in used_features:\n",
        "            continue\n",
        "        # strat_k_fold = StratifiedKFold(n_splits=3, shuffle=True)\n",
        "        result = cross_val_score(model, X[:, np.array(used_features + [index])], y, cv=cv, scoring = 'neg_mean_squared_error')\n",
        "        scores[index] = result.mean()\n",
        "    ### END Solution\n",
        "\n",
        "    return scores"
      ],
      "id": "caroline-state"
    },
    {
      "cell_type": "markdown",
      "metadata": {
        "id": "laughing-patio"
      },
      "source": [
        "**1.3.2) Implement a forward greedy feature selection function (the one described in the pseudocode in subtask 1 above) that would**\n",
        "\n",
        "**- compute the model's \"quality\" over the currently *unused* features**\n",
        "\n",
        "**- find the feature, which has given the best score and add it to the list of the currently *used* features**\n",
        "\n",
        "**- if the model's quality has increased since the last round, add this feature to the list of the best features and  print the best score and the current best features list**\n",
        "\n",
        "**Do not forget to implement the early stopping.**"
      ],
      "id": "laughing-patio"
    },
    {
      "cell_type": "code",
      "execution_count": 15,
      "metadata": {
        "id": "pressed-worse"
      },
      "outputs": [],
      "source": [
        "def forward_steps(X, y, n_rounds, model):\n",
        "    \"\"\"\n",
        "    Parameters\n",
        "    ==========\n",
        "        X: ndarray - training inputs\n",
        "        y: ndarray - training targets\n",
        "        n_rounds: int - early stop when score doesn't increase n_rounds\n",
        "        model: sklearn model\n",
        "\n",
        "    Returns\n",
        "    =======\n",
        "        feat_best_list - list of features\n",
        "    \"\"\"\n",
        "    \n",
        "    feat_best_list = []\n",
        "    ### BEGIN Solution\n",
        "    previous_quality = -np.inf\n",
        "    current_rounds = 0\n",
        "    k = 0\n",
        "    while current_rounds < n_rounds and len(feat_best_list) < X.shape[1]:\n",
        "        \n",
        "        scores = selection_step(model, X, y, feat_best_list)\n",
        "        best_feature = max(scores.keys(), key = lambda x: scores[x])\n",
        "        new_quality = scores[best_feature]\n",
        "        if new_quality > previous_quality:\n",
        "            feat_best_list.append(best_feature)\n",
        "            previous_quality = new_quality\n",
        "        else:\n",
        "            current_rounds += 1 \n",
        "        k += 1\n",
        "        print(f'step {k} new feature is {best_feature}, current list is {feat_best_list} new quality is {new_quality}')\n",
        "    ### END Solution\n",
        "    \n",
        "    return feat_best_list\n"
      ],
      "id": "pressed-worse"
    },
    {
      "cell_type": "markdown",
      "metadata": {
        "id": "geographic-holly"
      },
      "source": [
        "**1.3.3) Use the function implemented above + DecisionTreeRegressor to get the best features according to this algorithm. (HINT: Use ```n_rounds = 2```)**"
      ],
      "id": "geographic-holly"
    },
    {
      "cell_type": "code",
      "execution_count": 16,
      "metadata": {
        "colab": {
          "base_uri": "https://localhost:8080/"
        },
        "id": "hazardous-retirement",
        "outputId": "9dfca877-7787-4735-d50d-00eb6d086323"
      },
      "outputs": [
        {
          "output_type": "stream",
          "name": "stdout",
          "text": [
            "step 1 new feature is 0, current list is [0] new quality is -0.2725951127902512\n",
            "step 2 new feature is 542, current list is [0, 542] new quality is -0.25000483199745344\n",
            "step 3 new feature is 221, current list is [0, 542, 221] new quality is -0.2466675546457218\n",
            "step 4 new feature is 460, current list is [0, 542, 221, 460] new quality is -0.2437546914866021\n",
            "step 5 new feature is 558, current list is [0, 542, 221, 460, 558] new quality is -0.24219931668989658\n",
            "step 6 new feature is 531, current list is [0, 542, 221, 460, 558, 531] new quality is -0.23995203760507344\n",
            "step 7 new feature is 491, current list is [0, 542, 221, 460, 558, 531, 491] new quality is -0.23880520249829\n",
            "step 8 new feature is 484, current list is [0, 542, 221, 460, 558, 531, 491, 484] new quality is -0.238040367127472\n",
            "step 9 new feature is 475, current list is [0, 542, 221, 460, 558, 531, 491, 484, 475] new quality is -0.23748431032140316\n",
            "step 10 new feature is 459, current list is [0, 542, 221, 460, 558, 531, 491, 484, 475, 459] new quality is -0.236986099206398\n",
            "step 11 new feature is 436, current list is [0, 542, 221, 460, 558, 531, 491, 484, 475, 459, 436] new quality is -0.23655953362150672\n",
            "step 12 new feature is 520, current list is [0, 542, 221, 460, 558, 531, 491, 484, 475, 459, 436, 520] new quality is -0.23619073905033336\n",
            "step 13 new feature is 437, current list is [0, 542, 221, 460, 558, 531, 491, 484, 475, 459, 436, 520, 437] new quality is -0.23581978327031927\n",
            "step 14 new feature is 490, current list is [0, 542, 221, 460, 558, 531, 491, 484, 475, 459, 436, 520, 437, 490] new quality is -0.23551889024346528\n",
            "step 15 new feature is 512, current list is [0, 542, 221, 460, 558, 531, 491, 484, 475, 459, 436, 520, 437, 490, 512] new quality is -0.23523900525790534\n",
            "step 16 new feature is 514, current list is [0, 542, 221, 460, 558, 531, 491, 484, 475, 459, 436, 520, 437, 490, 512, 514] new quality is -0.23504044503537733\n",
            "step 17 new feature is 404, current list is [0, 542, 221, 460, 558, 531, 491, 484, 475, 459, 436, 520, 437, 490, 512, 514, 404] new quality is -0.23484032483642003\n",
            "step 18 new feature is 482, current list is [0, 542, 221, 460, 558, 531, 491, 484, 475, 459, 436, 520, 437, 490, 512, 514, 404, 482] new quality is -0.23469371529172303\n",
            "step 19 new feature is 493, current list is [0, 542, 221, 460, 558, 531, 491, 484, 475, 459, 436, 520, 437, 490, 512, 514, 404, 482, 493] new quality is -0.23444413633588423\n",
            "step 20 new feature is 530, current list is [0, 542, 221, 460, 558, 531, 491, 484, 475, 459, 436, 520, 437, 490, 512, 514, 404, 482, 493, 530] new quality is -0.23429607258317398\n",
            "step 21 new feature is 388, current list is [0, 542, 221, 460, 558, 531, 491, 484, 475, 459, 436, 520, 437, 490, 512, 514, 404, 482, 493, 530, 388] new quality is -0.23417621099101824\n",
            "step 22 new feature is 446, current list is [0, 542, 221, 460, 558, 531, 491, 484, 475, 459, 436, 520, 437, 490, 512, 514, 404, 482, 493, 530, 388, 446] new quality is -0.23405512312674337\n",
            "step 23 new feature is 442, current list is [0, 542, 221, 460, 558, 531, 491, 484, 475, 459, 436, 520, 437, 490, 512, 514, 404, 482, 493, 530, 388, 446, 442] new quality is -0.2339516403708661\n",
            "step 24 new feature is 427, current list is [0, 542, 221, 460, 558, 531, 491, 484, 475, 459, 436, 520, 437, 490, 512, 514, 404, 482, 493, 530, 388, 446, 442, 427] new quality is -0.23382998659627904\n",
            "step 25 new feature is 521, current list is [0, 542, 221, 460, 558, 531, 491, 484, 475, 459, 436, 520, 437, 490, 512, 514, 404, 482, 493, 530, 388, 446, 442, 427, 521] new quality is -0.23369752191755508\n",
            "step 26 new feature is 469, current list is [0, 542, 221, 460, 558, 531, 491, 484, 475, 459, 436, 520, 437, 490, 512, 514, 404, 482, 493, 530, 388, 446, 442, 427, 521, 469] new quality is -0.2336067719875765\n",
            "step 27 new feature is 431, current list is [0, 542, 221, 460, 558, 531, 491, 484, 475, 459, 436, 520, 437, 490, 512, 514, 404, 482, 493, 530, 388, 446, 442, 427, 521, 469, 431] new quality is -0.23354414344515695\n",
            "step 28 new feature is 517, current list is [0, 542, 221, 460, 558, 531, 491, 484, 475, 459, 436, 520, 437, 490, 512, 514, 404, 482, 493, 530, 388, 446, 442, 427, 521, 469, 431, 517] new quality is -0.23343384883077553\n",
            "step 29 new feature is 503, current list is [0, 542, 221, 460, 558, 531, 491, 484, 475, 459, 436, 520, 437, 490, 512, 514, 404, 482, 493, 530, 388, 446, 442, 427, 521, 469, 431, 517, 503] new quality is -0.23329306190317114\n",
            "step 30 new feature is 523, current list is [0, 542, 221, 460, 558, 531, 491, 484, 475, 459, 436, 520, 437, 490, 512, 514, 404, 482, 493, 530, 388, 446, 442, 427, 521, 469, 431, 517, 503, 523] new quality is -0.23322145075351522\n",
            "step 31 new feature is 457, current list is [0, 542, 221, 460, 558, 531, 491, 484, 475, 459, 436, 520, 437, 490, 512, 514, 404, 482, 493, 530, 388, 446, 442, 427, 521, 469, 431, 517, 503, 523, 457] new quality is -0.2331615105015974\n",
            "step 32 new feature is 450, current list is [0, 542, 221, 460, 558, 531, 491, 484, 475, 459, 436, 520, 437, 490, 512, 514, 404, 482, 493, 530, 388, 446, 442, 427, 521, 469, 431, 517, 503, 523, 457, 450] new quality is -0.2330749301106115\n",
            "step 33 new feature is 525, current list is [0, 542, 221, 460, 558, 531, 491, 484, 475, 459, 436, 520, 437, 490, 512, 514, 404, 482, 493, 530, 388, 446, 442, 427, 521, 469, 431, 517, 503, 523, 457, 450, 525] new quality is -0.2330168333944943\n",
            "step 34 new feature is 489, current list is [0, 542, 221, 460, 558, 531, 491, 484, 475, 459, 436, 520, 437, 490, 512, 514, 404, 482, 493, 530, 388, 446, 442, 427, 521, 469, 431, 517, 503, 523, 457, 450, 525, 489] new quality is -0.23297228592038718\n",
            "step 35 new feature is 152, current list is [0, 542, 221, 460, 558, 531, 491, 484, 475, 459, 436, 520, 437, 490, 512, 514, 404, 482, 493, 530, 388, 446, 442, 427, 521, 469, 431, 517, 503, 523, 457, 450, 525, 489, 152] new quality is -0.23293029432868614\n",
            "step 36 new feature is 419, current list is [0, 542, 221, 460, 558, 531, 491, 484, 475, 459, 436, 520, 437, 490, 512, 514, 404, 482, 493, 530, 388, 446, 442, 427, 521, 469, 431, 517, 503, 523, 457, 450, 525, 489, 152, 419] new quality is -0.23287262712653423\n",
            "step 37 new feature is 399, current list is [0, 542, 221, 460, 558, 531, 491, 484, 475, 459, 436, 520, 437, 490, 512, 514, 404, 482, 493, 530, 388, 446, 442, 427, 521, 469, 431, 517, 503, 523, 457, 450, 525, 489, 152, 419, 399] new quality is -0.23281830326426559\n",
            "step 38 new feature is 428, current list is [0, 542, 221, 460, 558, 531, 491, 484, 475, 459, 436, 520, 437, 490, 512, 514, 404, 482, 493, 530, 388, 446, 442, 427, 521, 469, 431, 517, 503, 523, 457, 450, 525, 489, 152, 419, 399, 428] new quality is -0.23276233238317534\n",
            "step 39 new feature is 507, current list is [0, 542, 221, 460, 558, 531, 491, 484, 475, 459, 436, 520, 437, 490, 512, 514, 404, 482, 493, 530, 388, 446, 442, 427, 521, 469, 431, 517, 503, 523, 457, 450, 525, 489, 152, 419, 399, 428, 507] new quality is -0.23274838039300697\n",
            "step 40 new feature is 451, current list is [0, 542, 221, 460, 558, 531, 491, 484, 475, 459, 436, 520, 437, 490, 512, 514, 404, 482, 493, 530, 388, 446, 442, 427, 521, 469, 431, 517, 503, 523, 457, 450, 525, 489, 152, 419, 399, 428, 507, 451] new quality is -0.23272453152690073\n",
            "step 41 new feature is 481, current list is [0, 542, 221, 460, 558, 531, 491, 484, 475, 459, 436, 520, 437, 490, 512, 514, 404, 482, 493, 530, 388, 446, 442, 427, 521, 469, 431, 517, 503, 523, 457, 450, 525, 489, 152, 419, 399, 428, 507, 451, 481] new quality is -0.23270233874551968\n",
            "step 42 new feature is 429, current list is [0, 542, 221, 460, 558, 531, 491, 484, 475, 459, 436, 520, 437, 490, 512, 514, 404, 482, 493, 530, 388, 446, 442, 427, 521, 469, 431, 517, 503, 523, 457, 450, 525, 489, 152, 419, 399, 428, 507, 451, 481, 429] new quality is -0.2326687834125262\n",
            "step 43 new feature is 395, current list is [0, 542, 221, 460, 558, 531, 491, 484, 475, 459, 436, 520, 437, 490, 512, 514, 404, 482, 493, 530, 388, 446, 442, 427, 521, 469, 431, 517, 503, 523, 457, 450, 525, 489, 152, 419, 399, 428, 507, 451, 481, 429, 395] new quality is -0.23266878341252614\n",
            "step 44 new feature is 498, current list is [0, 542, 221, 460, 558, 531, 491, 484, 475, 459, 436, 520, 437, 490, 512, 514, 404, 482, 493, 530, 388, 446, 442, 427, 521, 469, 431, 517, 503, 523, 457, 450, 525, 489, 152, 419, 399, 428, 507, 451, 481, 429, 395, 498] new quality is -0.23265500561670494\n",
            "step 45 new feature is 473, current list is [0, 542, 221, 460, 558, 531, 491, 484, 475, 459, 436, 520, 437, 490, 512, 514, 404, 482, 493, 530, 388, 446, 442, 427, 521, 469, 431, 517, 503, 523, 457, 450, 525, 489, 152, 419, 399, 428, 507, 451, 481, 429, 395, 498, 473] new quality is -0.23261658522818932\n",
            "step 46 new feature is 483, current list is [0, 542, 221, 460, 558, 531, 491, 484, 475, 459, 436, 520, 437, 490, 512, 514, 404, 482, 493, 530, 388, 446, 442, 427, 521, 469, 431, 517, 503, 523, 457, 450, 525, 489, 152, 419, 399, 428, 507, 451, 481, 429, 395, 498, 473] new quality is -0.2326172416395754\n",
            "step 47 new feature is 454, current list is [0, 542, 221, 460, 558, 531, 491, 484, 475, 459, 436, 520, 437, 490, 512, 514, 404, 482, 493, 530, 388, 446, 442, 427, 521, 469, 431, 517, 503, 523, 457, 450, 525, 489, 152, 419, 399, 428, 507, 451, 481, 429, 395, 498, 473, 454] new quality is -0.2326165852281893\n",
            "step 48 new feature is 499, current list is [0, 542, 221, 460, 558, 531, 491, 484, 475, 459, 436, 520, 437, 490, 512, 514, 404, 482, 493, 530, 388, 446, 442, 427, 521, 469, 431, 517, 503, 523, 457, 450, 525, 489, 152, 419, 399, 428, 507, 451, 481, 429, 395, 498, 473, 454, 499] new quality is -0.23260941607908445\n",
            "step 49 new feature is 476, current list is [0, 542, 221, 460, 558, 531, 491, 484, 475, 459, 436, 520, 437, 490, 512, 514, 404, 482, 493, 530, 388, 446, 442, 427, 521, 469, 431, 517, 503, 523, 457, 450, 525, 489, 152, 419, 399, 428, 507, 451, 481, 429, 395, 498, 473, 454, 499] new quality is -0.23260941607908445\n"
          ]
        }
      ],
      "source": [
        "### BEGIN Solution\n",
        "tr = DecisionTreeRegressor(min_samples_leaf = 5)\n",
        "feat_best_list = forward_steps(X_train, y_train_log, n_rounds=2, model=tr)\n",
        "### END Solution"
      ],
      "id": "hazardous-retirement"
    },
    {
      "cell_type": "markdown",
      "metadata": {
        "id": "contrary-packet"
      },
      "source": [
        "**1.3.4) Use Linear Regression, Ridge regression, Random forest and DecisionTree to get the RMSLE scores using these features. Remember the function you wrote earlier.**"
      ],
      "id": "contrary-packet"
    },
    {
      "cell_type": "code",
      "execution_count": 17,
      "metadata": {
        "colab": {
          "base_uri": "https://localhost:8080/",
          "height": 244
        },
        "id": "graduate-tooth",
        "outputId": "f0208455-38c5-4896-a6f3-643bcbc868c8"
      },
      "outputs": [
        {
          "output_type": "stream",
          "name": "stdout",
          "text": [
            "Linear Regression is done\n",
            "Ridge is done\n",
            "Tree is done\n",
            "Random Forest is done\n"
          ]
        },
        {
          "output_type": "execute_result",
          "data": {
            "text/html": [
              "\n",
              "  <div id=\"df-a2aedcaa-5f39-43c2-b597-a6ed14b0c8ec\">\n",
              "    <div class=\"colab-df-container\">\n",
              "      <div>\n",
              "<style scoped>\n",
              "    .dataframe tbody tr th:only-of-type {\n",
              "        vertical-align: middle;\n",
              "    }\n",
              "\n",
              "    .dataframe tbody tr th {\n",
              "        vertical-align: top;\n",
              "    }\n",
              "\n",
              "    .dataframe thead th {\n",
              "        text-align: right;\n",
              "    }\n",
              "</style>\n",
              "<table border=\"1\" class=\"dataframe\">\n",
              "  <thead>\n",
              "    <tr style=\"text-align: right;\">\n",
              "      <th></th>\n",
              "      <th>Methods</th>\n",
              "      <th>Train Error</th>\n",
              "      <th>Test Error</th>\n",
              "    </tr>\n",
              "  </thead>\n",
              "  <tbody>\n",
              "    <tr>\n",
              "      <th>0</th>\n",
              "      <td>Linear Regression</td>\n",
              "      <td>0.299272</td>\n",
              "      <td>0.307334</td>\n",
              "    </tr>\n",
              "    <tr>\n",
              "      <th>1</th>\n",
              "      <td>Ridge</td>\n",
              "      <td>0.299274</td>\n",
              "      <td>0.307332</td>\n",
              "    </tr>\n",
              "    <tr>\n",
              "      <th>2</th>\n",
              "      <td>Tree</td>\n",
              "      <td>0.206987</td>\n",
              "      <td>0.249614</td>\n",
              "    </tr>\n",
              "    <tr>\n",
              "      <th>3</th>\n",
              "      <td>Random Forest</td>\n",
              "      <td>0.184178</td>\n",
              "      <td>0.255608</td>\n",
              "    </tr>\n",
              "  </tbody>\n",
              "</table>\n",
              "</div>\n",
              "      <button class=\"colab-df-convert\" onclick=\"convertToInteractive('df-a2aedcaa-5f39-43c2-b597-a6ed14b0c8ec')\"\n",
              "              title=\"Convert this dataframe to an interactive table.\"\n",
              "              style=\"display:none;\">\n",
              "        \n",
              "  <svg xmlns=\"http://www.w3.org/2000/svg\" height=\"24px\"viewBox=\"0 0 24 24\"\n",
              "       width=\"24px\">\n",
              "    <path d=\"M0 0h24v24H0V0z\" fill=\"none\"/>\n",
              "    <path d=\"M18.56 5.44l.94 2.06.94-2.06 2.06-.94-2.06-.94-.94-2.06-.94 2.06-2.06.94zm-11 1L8.5 8.5l.94-2.06 2.06-.94-2.06-.94L8.5 2.5l-.94 2.06-2.06.94zm10 10l.94 2.06.94-2.06 2.06-.94-2.06-.94-.94-2.06-.94 2.06-2.06.94z\"/><path d=\"M17.41 7.96l-1.37-1.37c-.4-.4-.92-.59-1.43-.59-.52 0-1.04.2-1.43.59L10.3 9.45l-7.72 7.72c-.78.78-.78 2.05 0 2.83L4 21.41c.39.39.9.59 1.41.59.51 0 1.02-.2 1.41-.59l7.78-7.78 2.81-2.81c.8-.78.8-2.07 0-2.86zM5.41 20L4 18.59l7.72-7.72 1.47 1.35L5.41 20z\"/>\n",
              "  </svg>\n",
              "      </button>\n",
              "      \n",
              "  <style>\n",
              "    .colab-df-container {\n",
              "      display:flex;\n",
              "      flex-wrap:wrap;\n",
              "      gap: 12px;\n",
              "    }\n",
              "\n",
              "    .colab-df-convert {\n",
              "      background-color: #E8F0FE;\n",
              "      border: none;\n",
              "      border-radius: 50%;\n",
              "      cursor: pointer;\n",
              "      display: none;\n",
              "      fill: #1967D2;\n",
              "      height: 32px;\n",
              "      padding: 0 0 0 0;\n",
              "      width: 32px;\n",
              "    }\n",
              "\n",
              "    .colab-df-convert:hover {\n",
              "      background-color: #E2EBFA;\n",
              "      box-shadow: 0px 1px 2px rgba(60, 64, 67, 0.3), 0px 1px 3px 1px rgba(60, 64, 67, 0.15);\n",
              "      fill: #174EA6;\n",
              "    }\n",
              "\n",
              "    [theme=dark] .colab-df-convert {\n",
              "      background-color: #3B4455;\n",
              "      fill: #D2E3FC;\n",
              "    }\n",
              "\n",
              "    [theme=dark] .colab-df-convert:hover {\n",
              "      background-color: #434B5C;\n",
              "      box-shadow: 0px 1px 3px 1px rgba(0, 0, 0, 0.15);\n",
              "      filter: drop-shadow(0px 1px 2px rgba(0, 0, 0, 0.3));\n",
              "      fill: #FFFFFF;\n",
              "    }\n",
              "  </style>\n",
              "\n",
              "      <script>\n",
              "        const buttonEl =\n",
              "          document.querySelector('#df-a2aedcaa-5f39-43c2-b597-a6ed14b0c8ec button.colab-df-convert');\n",
              "        buttonEl.style.display =\n",
              "          google.colab.kernel.accessAllowed ? 'block' : 'none';\n",
              "\n",
              "        async function convertToInteractive(key) {\n",
              "          const element = document.querySelector('#df-a2aedcaa-5f39-43c2-b597-a6ed14b0c8ec');\n",
              "          const dataTable =\n",
              "            await google.colab.kernel.invokeFunction('convertToInteractive',\n",
              "                                                     [key], {});\n",
              "          if (!dataTable) return;\n",
              "\n",
              "          const docLinkHtml = 'Like what you see? Visit the ' +\n",
              "            '<a target=\"_blank\" href=https://colab.research.google.com/notebooks/data_table.ipynb>data table notebook</a>'\n",
              "            + ' to learn more about interactive tables.';\n",
              "          element.innerHTML = '';\n",
              "          dataTable['output_type'] = 'display_data';\n",
              "          await google.colab.output.renderOutput(dataTable, element);\n",
              "          const docLink = document.createElement('div');\n",
              "          docLink.innerHTML = docLinkHtml;\n",
              "          element.appendChild(docLink);\n",
              "        }\n",
              "      </script>\n",
              "    </div>\n",
              "  </div>\n",
              "  "
            ],
            "text/plain": [
              "             Methods  Train Error  Test Error\n",
              "0  Linear Regression     0.299272    0.307334\n",
              "1              Ridge     0.299274    0.307332\n",
              "2               Tree     0.206987    0.249614\n",
              "3      Random Forest     0.184178    0.255608"
            ]
          },
          "metadata": {},
          "execution_count": 17
        }
      ],
      "source": [
        "### BEGIN Solution\n",
        "X_train_cut = X_train[:, feat_best_list]\n",
        "X_test_cut = X_test[:, feat_best_list]\n",
        "\n",
        "results = test_models(X_train_cut, y_train_log, X_test_cut, y_test_log)\n",
        "results\n",
        "### END Solution"
      ],
      "id": "graduate-tooth"
    },
    {
      "cell_type": "markdown",
      "metadata": {
        "id": "infinite-navigation"
      },
      "source": [
        "<br>"
      ],
      "id": "infinite-navigation"
    },
    {
      "cell_type": "markdown",
      "metadata": {
        "id": "individual-rendering"
      },
      "source": [
        "## Task 2. Multi-Class Classification Strategies (1 point)\n",
        "In this task, you will deal with the multiclass classification problem for the Glass Classification Data. Let's load the dataset."
      ],
      "id": "individual-rendering"
    },
    {
      "cell_type": "code",
      "execution_count": 18,
      "metadata": {
        "colab": {
          "base_uri": "https://localhost:8080/",
          "height": 143
        },
        "id": "technical-trader",
        "outputId": "239d42b3-e32f-4d56-8147-11add37751c3"
      },
      "outputs": [
        {
          "output_type": "execute_result",
          "data": {
            "text/html": [
              "\n",
              "  <div id=\"df-f576abd1-f9db-46c1-b145-bff0696dbb7e\">\n",
              "    <div class=\"colab-df-container\">\n",
              "      <div>\n",
              "<style scoped>\n",
              "    .dataframe tbody tr th:only-of-type {\n",
              "        vertical-align: middle;\n",
              "    }\n",
              "\n",
              "    .dataframe tbody tr th {\n",
              "        vertical-align: top;\n",
              "    }\n",
              "\n",
              "    .dataframe thead th {\n",
              "        text-align: right;\n",
              "    }\n",
              "</style>\n",
              "<table border=\"1\" class=\"dataframe\">\n",
              "  <thead>\n",
              "    <tr style=\"text-align: right;\">\n",
              "      <th></th>\n",
              "      <th>RI</th>\n",
              "      <th>Na</th>\n",
              "      <th>Mg</th>\n",
              "      <th>Al</th>\n",
              "      <th>Si</th>\n",
              "      <th>K</th>\n",
              "      <th>Ca</th>\n",
              "      <th>Ba</th>\n",
              "      <th>Fe</th>\n",
              "      <th>Type</th>\n",
              "    </tr>\n",
              "  </thead>\n",
              "  <tbody>\n",
              "    <tr>\n",
              "      <th>142</th>\n",
              "      <td>1.51662</td>\n",
              "      <td>12.85</td>\n",
              "      <td>3.51</td>\n",
              "      <td>1.44</td>\n",
              "      <td>73.01</td>\n",
              "      <td>0.68</td>\n",
              "      <td>8.23</td>\n",
              "      <td>0.06</td>\n",
              "      <td>0.25</td>\n",
              "      <td>2</td>\n",
              "    </tr>\n",
              "    <tr>\n",
              "      <th>122</th>\n",
              "      <td>1.51687</td>\n",
              "      <td>13.23</td>\n",
              "      <td>3.54</td>\n",
              "      <td>1.48</td>\n",
              "      <td>72.84</td>\n",
              "      <td>0.56</td>\n",
              "      <td>8.10</td>\n",
              "      <td>0.00</td>\n",
              "      <td>0.00</td>\n",
              "      <td>2</td>\n",
              "    </tr>\n",
              "    <tr>\n",
              "      <th>104</th>\n",
              "      <td>1.52410</td>\n",
              "      <td>13.83</td>\n",
              "      <td>2.90</td>\n",
              "      <td>1.17</td>\n",
              "      <td>71.15</td>\n",
              "      <td>0.08</td>\n",
              "      <td>10.79</td>\n",
              "      <td>0.00</td>\n",
              "      <td>0.00</td>\n",
              "      <td>2</td>\n",
              "    </tr>\n",
              "  </tbody>\n",
              "</table>\n",
              "</div>\n",
              "      <button class=\"colab-df-convert\" onclick=\"convertToInteractive('df-f576abd1-f9db-46c1-b145-bff0696dbb7e')\"\n",
              "              title=\"Convert this dataframe to an interactive table.\"\n",
              "              style=\"display:none;\">\n",
              "        \n",
              "  <svg xmlns=\"http://www.w3.org/2000/svg\" height=\"24px\"viewBox=\"0 0 24 24\"\n",
              "       width=\"24px\">\n",
              "    <path d=\"M0 0h24v24H0V0z\" fill=\"none\"/>\n",
              "    <path d=\"M18.56 5.44l.94 2.06.94-2.06 2.06-.94-2.06-.94-.94-2.06-.94 2.06-2.06.94zm-11 1L8.5 8.5l.94-2.06 2.06-.94-2.06-.94L8.5 2.5l-.94 2.06-2.06.94zm10 10l.94 2.06.94-2.06 2.06-.94-2.06-.94-.94-2.06-.94 2.06-2.06.94z\"/><path d=\"M17.41 7.96l-1.37-1.37c-.4-.4-.92-.59-1.43-.59-.52 0-1.04.2-1.43.59L10.3 9.45l-7.72 7.72c-.78.78-.78 2.05 0 2.83L4 21.41c.39.39.9.59 1.41.59.51 0 1.02-.2 1.41-.59l7.78-7.78 2.81-2.81c.8-.78.8-2.07 0-2.86zM5.41 20L4 18.59l7.72-7.72 1.47 1.35L5.41 20z\"/>\n",
              "  </svg>\n",
              "      </button>\n",
              "      \n",
              "  <style>\n",
              "    .colab-df-container {\n",
              "      display:flex;\n",
              "      flex-wrap:wrap;\n",
              "      gap: 12px;\n",
              "    }\n",
              "\n",
              "    .colab-df-convert {\n",
              "      background-color: #E8F0FE;\n",
              "      border: none;\n",
              "      border-radius: 50%;\n",
              "      cursor: pointer;\n",
              "      display: none;\n",
              "      fill: #1967D2;\n",
              "      height: 32px;\n",
              "      padding: 0 0 0 0;\n",
              "      width: 32px;\n",
              "    }\n",
              "\n",
              "    .colab-df-convert:hover {\n",
              "      background-color: #E2EBFA;\n",
              "      box-shadow: 0px 1px 2px rgba(60, 64, 67, 0.3), 0px 1px 3px 1px rgba(60, 64, 67, 0.15);\n",
              "      fill: #174EA6;\n",
              "    }\n",
              "\n",
              "    [theme=dark] .colab-df-convert {\n",
              "      background-color: #3B4455;\n",
              "      fill: #D2E3FC;\n",
              "    }\n",
              "\n",
              "    [theme=dark] .colab-df-convert:hover {\n",
              "      background-color: #434B5C;\n",
              "      box-shadow: 0px 1px 3px 1px rgba(0, 0, 0, 0.15);\n",
              "      filter: drop-shadow(0px 1px 2px rgba(0, 0, 0, 0.3));\n",
              "      fill: #FFFFFF;\n",
              "    }\n",
              "  </style>\n",
              "\n",
              "      <script>\n",
              "        const buttonEl =\n",
              "          document.querySelector('#df-f576abd1-f9db-46c1-b145-bff0696dbb7e button.colab-df-convert');\n",
              "        buttonEl.style.display =\n",
              "          google.colab.kernel.accessAllowed ? 'block' : 'none';\n",
              "\n",
              "        async function convertToInteractive(key) {\n",
              "          const element = document.querySelector('#df-f576abd1-f9db-46c1-b145-bff0696dbb7e');\n",
              "          const dataTable =\n",
              "            await google.colab.kernel.invokeFunction('convertToInteractive',\n",
              "                                                     [key], {});\n",
              "          if (!dataTable) return;\n",
              "\n",
              "          const docLinkHtml = 'Like what you see? Visit the ' +\n",
              "            '<a target=\"_blank\" href=https://colab.research.google.com/notebooks/data_table.ipynb>data table notebook</a>'\n",
              "            + ' to learn more about interactive tables.';\n",
              "          element.innerHTML = '';\n",
              "          dataTable['output_type'] = 'display_data';\n",
              "          await google.colab.output.renderOutput(dataTable, element);\n",
              "          const docLink = document.createElement('div');\n",
              "          docLink.innerHTML = docLinkHtml;\n",
              "          element.appendChild(docLink);\n",
              "        }\n",
              "      </script>\n",
              "    </div>\n",
              "  </div>\n",
              "  "
            ],
            "text/plain": [
              "          RI     Na    Mg    Al     Si     K     Ca    Ba    Fe  Type\n",
              "142  1.51662  12.85  3.51  1.44  73.01  0.68   8.23  0.06  0.25     2\n",
              "122  1.51687  13.23  3.54  1.48  72.84  0.56   8.10  0.00  0.00     2\n",
              "104  1.52410  13.83  2.90  1.17  71.15  0.08  10.79  0.00  0.00     2"
            ]
          },
          "metadata": {},
          "execution_count": 18
        }
      ],
      "source": [
        "data = pd.read_csv('glass.csv')\n",
        "X, y = data.drop('Type', axis=1), data.Type\n",
        "data.sample(3)"
      ],
      "id": "technical-trader"
    },
    {
      "cell_type": "markdown",
      "metadata": {
        "id": "flying-region"
      },
      "source": [
        "The features of each glass object correspond to the fraction of the particular chemical element in the object. The target variable corresponds to the type of glass (6 classes).\n",
        "\n",
        "In this problem, you have to empirically compare the time complexity and performance of several multiclass labeling strategies for different algorithms. You must consider the following algorithms:\n",
        "* Single Decision Tree (depth 7)\n",
        "* Medium Random Forest (100 trees of depth 3)\n",
        "* KNearestNeighbors (5 neighbors)\n",
        "* Logistic Regression\n",
        "\n",
        "Note that all these algorithms by default support **multiclass labeling**. Nevertheless, we want you to compare this approach with **OneVSRest** and **OneVSOne** approaches applied to these algorithms. More precisely, for every pair (algorithm, approach) you are to perform a 5-fold cross-validation on the data and output the validation score and the computation time in the **table** form. Please note that you also have to choose the metric to optimize during CV (e.g. accuracy, balanced accuracy) on your own. \n",
        "\n",
        "After that, you are to answer the following questions:\n",
        "* Which metric did you choose to optimize during cross-validation and why? Explain\n",
        "* For which algorithms the usage of OneVSRest/OneVSOne approach provides significantly better performance without a significant increase in computation time?"
      ],
      "id": "flying-region"
    },
    {
      "cell_type": "code",
      "execution_count": 19,
      "metadata": {
        "colab": {
          "base_uri": "https://localhost:8080/"
        },
        "id": "authentic-slope",
        "outputId": "f442a565-41ca-42d0-d6f0-7c9349393971"
      },
      "outputs": [
        {
          "output_type": "stream",
          "name": "stdout",
          "text": [
            "Cross Validation Scores\n",
            "            Logistic  Random Forest  K Nearest Neighbors  Decision Tree\n",
            "Multiclass  0.521151       0.477282             0.551071       0.445040\n",
            "OneVsRest   0.535635       0.576349             0.575159       0.385298\n",
            "OneVsOne    0.671667       0.582857             0.554921       0.436925\n",
            "Training Duration\n",
            "            Logistic  Random Forest  K Nearest Neighbors  Decision Tree\n",
            "Multiclass  0.028783       0.921527             0.036645       0.218233\n",
            "OneVsRest   0.145352       5.358442             0.159233       1.039987\n",
            "OneVsOne    0.110087      13.926567             0.340941       2.230920\n"
          ]
        }
      ],
      "source": [
        "### BEGIN Solution (do not delete this comment)\n",
        "from sklearn.tree import DecisionTreeClassifier\n",
        "from sklearn.neighbors import KNeighborsClassifier\n",
        "from sklearn.linear_model import LogisticRegression\n",
        "from sklearn.ensemble import RandomForestClassifier\n",
        "from sklearn.multiclass import OneVsOneClassifier, OneVsRestClassifier\n",
        "from time import time\n",
        "dtree = DecisionTreeClassifier(max_depth=7)\n",
        "rf = RandomForestClassifier(n_estimators=100, max_depth=3)\n",
        "kneighbors = KNeighborsClassifier(5)\n",
        "lr = LogisticRegression()\n",
        "\n",
        "val_scores = []\n",
        "times = []\n",
        "for clf, name in zip((dtree, rf, kneighbors, lr), ('Logistic',\t'Random Forest',\t'K Nearest Neighbors',\t'Decision Tree')):\n",
        "    start_time = time()\n",
        "    multi_score = cross_val_score(clf, X, y, cv=5, scoring='balanced_accuracy').mean()\n",
        "    end_multi_time = time()\n",
        "    ovr_score = cross_val_score(OneVsRestClassifier(clf), X, y, cv=5, scoring='balanced_accuracy').mean()\n",
        "    end_ovr_time = time()\n",
        "    ovo_score = cross_val_score(OneVsOneClassifier(clf), X, y, cv=5, scoring='balanced_accuracy').mean()\n",
        "    end_ovo_time = time()\n",
        "    val_scores.append([multi_score, ovr_score, ovo_score ])\n",
        "    times.append([end_multi_time - start_time, end_ovr_time - end_multi_time, end_ovo_time - end_ovr_time])\n",
        "\n",
        "val_df = pd.DataFrame(np.array(val_scores).T, index = ['Multiclass', 'OneVsRest', 'OneVsOne'], columns = ['Logistic',\t'Random Forest',\t'K Nearest Neighbors',\t'Decision Tree'] )\n",
        "time_df = pd.DataFrame(np.array(times).T, index = ['Multiclass', 'OneVsRest', 'OneVsOne'], columns = ['Logistic',\t'Random Forest',\t'K Nearest Neighbors',\t'Decision Tree'] )\n",
        "print('Cross Validation Scores')\n",
        "print(val_df)\n",
        "print('Training Duration')\n",
        "print(time_df)\n",
        "\n",
        "### END Solution (do not delete this comment)"
      ],
      "id": "authentic-slope"
    },
    {
      "cell_type": "markdown",
      "metadata": {
        "id": "married-preserve"
      },
      "source": [
        "**Which metric did you choose to optimize during cross validation and why? Explain**"
      ],
      "id": "married-preserve"
    },
    {
      "cell_type": "markdown",
      "metadata": {
        "id": "dutch-alfred"
      },
      "source": [
        "**Your text answer (do not delete this comment)**:\n",
        "\n",
        "I chose balanced accuracy. Firstly, classes are imbalanced, so we can't use usual accuracy, secondly there is no conceptual difference between different classes and we don't have to pay special attention to oen particular class, like for example in problems of diagnosis. So usage of positive targeted metrics, like f1 score, is not justified."
      ],
      "id": "dutch-alfred"
    },
    {
      "cell_type": "markdown",
      "metadata": {
        "id": "elect-jerusalem"
      },
      "source": [
        "**For which algorithms the usage of OneVSRest/OneVSOne approach provides significantly better performance without a significant increase in computation time?**\n"
      ],
      "id": "elect-jerusalem"
    },
    {
      "cell_type": "markdown",
      "metadata": {
        "id": "CH04Ord57RS4"
      },
      "source": [
        "**Your text answer (do not delete this comment)**:\n",
        "\n",
        "\n",
        "Logistic regression works finer with OneVsOne with approximately equal amount of time. It is also worth mention that Random Forest increased its perfomance using OneVs.. strategies compared to straight multiclass with cost of increased time."
      ],
      "id": "CH04Ord57RS4"
    },
    {
      "cell_type": "markdown",
      "metadata": {
        "id": "electric-matthew"
      },
      "source": [
        "# Task 3. Stacking (2 points)"
      ],
      "id": "electric-matthew"
    },
    {
      "cell_type": "markdown",
      "metadata": {
        "id": "third-liverpool"
      },
      "source": [
        "Stacking is an ensembling approach, which combines several algorithms (base models) to get better results. This is achieved by **a)** training the base models (any ML models) on the initial train data (or parts of the train data, see the paragraph below), **b)** training the meta-model (also an ML model) on the predictions of those base models.\n",
        "\n",
        "One of the main problems of stacking is overfitting. To avoid it, when evaluating the performance of the meta-model on the train set, the training data is divided into $ n $ folds, $ (n-1) $ of which are used for training the base models. The $ n $ -th fold is used for the overall prediction (calculating the meta-factor) in the following manner: the predictions on the $ n $ -th fold are made by the base models (already trained on the rest of the dataset), then these predictions on the $ n $ -th fold are fed as inputs to the meta-model.\n",
        "\n",
        "When evaluating the performance of the meta-model on the test set, there can be used various approaches$.^{[1]}$ For example, in order, to obtain meta-factors for the test data, the base classifiers can be retrained on the entire training set, since the problem of overfitting does not arise here. In other words, if we want to calculate the factors for the test set, we can safely use the training set to train the base classifiers (once again, as it is said in the paragraph above, if we want to calculate factors for the training set, then it is necessary to ensure that the classifier does not predict for those objects on which it has been trained).  \n",
        "\n",
        "You can read more details about stacking [blockpost](https://blog.statsbot.co/ensemble-learning-d1dcd548e936), [kaggle ensemble guide](https://mlwave.com/kaggle-ensembling-guide/).\n",
        "\n",
        "P.S. Stacking and Blending are two similar approaches to combining classifiers (ensembling). The difference is that Stacking uses out-of-fold predictions for the train set, and Blending uses a validation set to train the next layer ([source](quora.com/What-are-examples-of-blending-and-stacking-in-Machine-Learning)). Because they are so similar you can use any of them. \n",
        "\n",
        "[1] http://www.machinelearning.ru/wiki/images/5/56/Guschin2015Stacking.pdf  "
      ],
      "id": "third-liverpool"
    },
    {
      "cell_type": "markdown",
      "metadata": {
        "id": "recognized-guest"
      },
      "source": [
        "**Your task will be:**\n",
        "\n",
        "* Complete the ```meta_classfier``` function\n",
        "* Choose 6 different base models (base models can be any models that you know, and can differ between each other by different hyperparameters, models of ml, features e.t.c) and train them.\n",
        "* Report individual accuracy on the test set for each of the models.\n",
        "* Train the metaclassifier (in this case, once again, it is just an ML model) on the original dataset's features, report score on test.\n",
        "* Train the metaclassifier on the base models using $n$-fold cross-validation, as described above. Report the training score of the meta-classifier on the $ n $-th fold. Retrain the base models on the whole training set. Report the test score (accuracy) of the meta-classifier in this case.\n",
        "* Does stacking help to gain a better score?"
      ],
      "id": "recognized-guest"
    },
    {
      "cell_type": "markdown",
      "metadata": {
        "id": "incident-ceremony"
      },
      "source": [
        "For this task we will use the dataset fetch_covertype from [sklearn](https://scikit-learn.org/stable/modules/generated/sklearn.datasets.fetch_covtype.html#sklearn.datasets.fetch_covtype). Split it train-test - 60/40.\n",
        "More details about this dataset you can find [here](https://archive.ics.uci.edu/ml/datasets/Covertype)"
      ],
      "id": "incident-ceremony"
    },
    {
      "cell_type": "code",
      "execution_count": 20,
      "metadata": {
        "id": "banner-input"
      },
      "outputs": [],
      "source": [
        "from sklearn import datasets\n",
        "fc = sklearn.datasets.fetch_covtype()"
      ],
      "id": "banner-input"
    },
    {
      "cell_type": "markdown",
      "metadata": {
        "id": "collected-flash"
      },
      "source": [
        "Write meta classifier function."
      ],
      "id": "collected-flash"
    },
    {
      "cell_type": "code",
      "execution_count": 21,
      "metadata": {
        "id": "brilliant-greensboro"
      },
      "outputs": [],
      "source": [
        "def meta_classifier(base_clfs, final_classifier, X_train, X_test, y_train, cv):\n",
        "    \"\"\"\n",
        "    Meta classifier prediction using stacking. \n",
        "    Input:\n",
        "    :param base_clfs: list,  base classifiers which will be stacked together.\n",
        "    :param final_classifier: estimator, a classifier which will be used to combine the base estimators. \n",
        "    :param X_train: numpy array or pandas table, train set.\n",
        "    :param X_test: numpy array or pandas table, target for train set.\n",
        "    :param X_train: numpy array or pandas table, test set.\n",
        "    :param cv: number of cross-validation folds.\n",
        "    \n",
        "    Output:\n",
        "    :param y_pred: numpy array or pandas table, prediction of meta classifier using stacking on test set.\n",
        "    :param final_classifier(optional): estimator, trained final_calssifier.\n",
        "    \n",
        "    \n",
        "    More details https://scikit-learn.org/stable/modules/generated/sklearn.ensemble.StackingClassifier.html\n",
        "    \n",
        "    \"\"\"\n",
        "    ### BEGIN Solution (do not delete this comment)\n",
        "    X_base, X_meta, y_base, y_meta = train_test_split(X_train, y_train, test_size = 1 / cv, shuffle = True)\n",
        "    for clf in base_clfs:\n",
        "        clf.fit(X_base, y_base)\n",
        "    X_base_meta = np.hstack([clf.predict(X_meta).reshape(-1, 1) for clf in base_clfs])\n",
        "    final_classifier.fit(X_base_meta, y_meta)\n",
        "    train_score = accuracy_score(y_meta, final_classifier.predict(X_base_meta))\n",
        "    X_test_meta = np.hstack([clf.predict(X_test).reshape(-1, 1) for clf in base_clfs])\n",
        "    return final_classifier.predict(X_test_meta), train_score, final_classifier\n",
        "\n",
        "    ### END Solution (do not delete this comment)\n"
      ],
      "id": "brilliant-greensboro"
    },
    {
      "cell_type": "markdown",
      "metadata": {
        "id": "vfZmdicwORxq"
      },
      "source": [
        "### Subproblem 3.1 (1 point)"
      ],
      "id": "vfZmdicwORxq"
    },
    {
      "cell_type": "markdown",
      "metadata": {
        "id": "incredible-wichita"
      },
      "source": [
        "**3.1.1) Chose 6 different base models (base models can be any models that you know,and can differ with each other by different hyperparameters,  models of ml, features e.t.c) and train them.**"
      ],
      "id": "incredible-wichita"
    },
    {
      "cell_type": "code",
      "execution_count": 22,
      "metadata": {
        "colab": {
          "base_uri": "https://localhost:8080/"
        },
        "id": "cleared-supply",
        "outputId": "029c07fc-8131-4c2e-a8c3-95cee2c124c5"
      },
      "outputs": [
        {
          "output_type": "execute_result",
          "data": {
            "text/plain": [
              "LogisticRegression(C=0.1, penalty='l1', solver='saga')"
            ]
          },
          "metadata": {},
          "execution_count": 22
        }
      ],
      "source": [
        "### BEGIN Solution (do not delete this comment)\n",
        "from sklearn.naive_bayes import GaussianNB\n",
        "base_1 = LogisticRegression()\n",
        "base_2 = RandomForestClassifier(n_estimators = 50, min_samples_split = 5)\n",
        "base_3 = RandomForestClassifier(n_estimators = 60, min_samples_split = 10)\n",
        "base_4 = DecisionTreeClassifier()\n",
        "base_5 = GaussianNB()\n",
        "base_6 = LogisticRegression(penalty = 'l1', C = 0.1, solver = 'saga')\n",
        "\n",
        "X, y = fc['data'], fc['target']\n",
        "X_train, X_test, y_train, y_test = train_test_split(X, y, test_size = 0.4)\n",
        "\n",
        "base_1.fit(X_train, y_train)\n",
        "base_2.fit(X_train, y_train)\n",
        "base_3.fit(X_train, y_train)\n",
        "base_4.fit(X_train, y_train)\n",
        "base_5.fit(X_train, y_train)\n",
        "base_6.fit(X_train, y_train)\n",
        "### END Solution (do not delete this comment)"
      ],
      "id": "cleared-supply"
    },
    {
      "cell_type": "markdown",
      "metadata": {
        "id": "streaming-crowd"
      },
      "source": [
        "**3.1.2) Report individual scores on test set. As a score use accuracy.**"
      ],
      "id": "streaming-crowd"
    },
    {
      "cell_type": "code",
      "execution_count": 23,
      "metadata": {
        "colab": {
          "base_uri": "https://localhost:8080/"
        },
        "id": "standing-breakdown",
        "outputId": "ed6b4d50-77a2-431c-f7b6-563f6340f2fe"
      },
      "outputs": [
        {
          "output_type": "stream",
          "name": "stdout",
          "text": [
            "For clf base_1 accuracy is 0.6195606807082463\n",
            "For clf base_2 accuracy is 0.9443170327660765\n",
            "For clf base_3 accuracy is 0.9399324455153719\n",
            "For clf base_4 accuracy is 0.9304145779996127\n",
            "For clf base_5 accuracy is 0.46179299068436563\n",
            "For clf base_6 accuracy is 0.6858157096448011\n"
          ]
        }
      ],
      "source": [
        "### BEGIN Solution (do not delete this comment)\n",
        "from sklearn.metrics import accuracy_score\n",
        "for clf, name in zip((base_1, base_2, base_3, base_4, base_5, base_6), ('base_1', 'base_2', 'base_3', 'base_4', 'base_5', 'base_6')):\n",
        "    y_pred = clf.predict(X_test)\n",
        "    print(f'For clf {name} accuracy is {accuracy_score(y_test, y_pred)}')\n",
        "### END Solution (do not delete this comment)"
      ],
      "id": "standing-breakdown"
    },
    {
      "cell_type": "markdown",
      "metadata": {
        "id": "8CsZdyGPOj6E"
      },
      "source": [
        "### Subproblem 3.2 (1 point)"
      ],
      "id": "8CsZdyGPOj6E"
    },
    {
      "cell_type": "markdown",
      "metadata": {
        "id": "adolescent-street"
      },
      "source": [
        "**3.2.1) Train metaclassifier (in this case, once again, it is just an ML model) on original dataset's features. And report score on test.**"
      ],
      "id": "adolescent-street"
    },
    {
      "cell_type": "code",
      "execution_count": 24,
      "metadata": {
        "colab": {
          "base_uri": "https://localhost:8080/"
        },
        "id": "lesbian-fields",
        "outputId": "2f39f4fd-53af-44cc-ccba-811ca3de1448"
      },
      "outputs": [
        {
          "output_type": "stream",
          "name": "stdout",
          "text": [
            "Meta classifier as base gives 0.6195606807082463 accuracy\n"
          ]
        }
      ],
      "source": [
        "### BEGIN Solution (do not delete this comment)\n",
        "final_classifier = LogisticRegression()\n",
        "final_classifier.fit(X_train, y_train)\n",
        "y_pred = final_classifier.predict(X_test)\n",
        "print(f'Meta classifier as base gives {accuracy_score(y_test, y_pred)} accuracy')\n",
        "### END Solution (do not delete this comment)"
      ],
      "id": "lesbian-fields"
    },
    {
      "cell_type": "markdown",
      "metadata": {
        "id": "horizontal-wallace"
      },
      "source": [
        "**3.2.2) Train the metaclassifier on the base models using $n$-fold cross-validation, as described above. Report the training score of the meta-classifier on the $ n $-th fold. Retrain the base models on the whole training set. Report the test score (accuracy) of the meta-classifier in this case.**"
      ],
      "id": "horizontal-wallace"
    },
    {
      "cell_type": "code",
      "execution_count": 25,
      "metadata": {
        "colab": {
          "base_uri": "https://localhost:8080/"
        },
        "id": "renewable-concrete",
        "outputId": "b2c9f2d4-b615-4a62-e8ab-b07fcb475f51"
      },
      "outputs": [
        {
          "output_type": "stream",
          "name": "stdout",
          "text": [
            "Score on nth fold 0.9220671929502479 test score is 0.921899270669736\n"
          ]
        }
      ],
      "source": [
        "### BEGIN Solution (do not delete this comment)\n",
        "\n",
        "base_clfs = [base_1, base_2, base_3, base_4, base_5, base_6]\n",
        "final_classifier = LogisticRegression()\n",
        "y_pred, nth_train_score, final_classifier = meta_classifier(base_clfs, final_classifier, X_train, X_test, y_train, cv=8)\n",
        "print(f'Score on nth fold {nth_train_score} test score is {accuracy_score(y_test,y_pred)}')\n",
        "### END Solution (do not delete this comment)"
      ],
      "id": "renewable-concrete"
    },
    {
      "cell_type": "markdown",
      "metadata": {
        "id": "printable-premium"
      },
      "source": [
        "**3.2.3) Report score(accuracy) on test.**"
      ],
      "id": "printable-premium"
    },
    {
      "cell_type": "code",
      "execution_count": 26,
      "metadata": {
        "colab": {
          "base_uri": "https://localhost:8080/"
        },
        "id": "auburn-easter",
        "outputId": "611d48f5-52f5-4c3d-c062-b70bb6e10aa9"
      },
      "outputs": [
        {
          "output_type": "stream",
          "name": "stdout",
          "text": [
            "After retraining test score is 0.9159828747230051\n"
          ]
        }
      ],
      "source": [
        "### BEGIN Solution (do not delete this comment)\n",
        "# retrain on whole set\n",
        "base_1.fit(X_train, y_train)\n",
        "base_2.fit(X_train, y_train)\n",
        "base_3.fit(X_train, y_train)\n",
        "base_4.fit(X_train, y_train)\n",
        "base_5.fit(X_train, y_train)\n",
        "base_6.fit(X_train, y_train)\n",
        "base_clfs = [base_1, base_2, base_3, base_4, base_5, base_6]\n",
        "\n",
        "X_train_meta = np.hstack([base_clf.predict(X_train).reshape(-1, 1) for base_clf in base_clfs])\n",
        "final_classifier = LogisticRegression()\n",
        "final_classifier.fit(X_train_meta, y_train)\n",
        "\n",
        "X_test_meta = np.hstack([base_clf.predict(X_test).reshape(-1, 1) for base_clf in base_clfs])\n",
        "y_pred = final_classifier.predict(X_test_meta)\n",
        "print(f'After retraining test score is {accuracy_score(y_test,y_pred)}')\n",
        "### END Solution (do not delete this comment)"
      ],
      "id": "auburn-easter"
    },
    {
      "cell_type": "markdown",
      "metadata": {
        "id": "premier-scout"
      },
      "source": [
        "**3.2.4) Does stacking helped to gain a better score?**"
      ],
      "id": "premier-scout"
    },
    {
      "cell_type": "markdown",
      "metadata": {
        "id": "vSV5hJFR7RS-"
      },
      "source": [
        "**Your text answer (do not delete this comment)**:\n",
        "\n",
        "Stacking with that particular choice of base and meta models did not help to gain better scores. Some of base models outperform it. However there is significant increase in quality in comparison between meta classifier working as base classifier on original features and meta classifier working on predictions of base estimators. Also it was possible that there will be decrease in test quality after retraining on the whole set because of overfitting. "
      ],
      "id": "vSV5hJFR7RS-"
    },
    {
      "cell_type": "code",
      "source": [
        ""
      ],
      "metadata": {
        "id": "o-f0jCauRN2m"
      },
      "id": "o-f0jCauRN2m",
      "execution_count": null,
      "outputs": []
    }
  ],
  "metadata": {
    "colab": {
      "collapsed_sections": [],
      "name": "ML2022HW02_part1.ipynb",
      "provenance": []
    },
    "kernelspec": {
      "display_name": "Python 3",
      "language": "python",
      "name": "python3"
    },
    "language_info": {
      "codemirror_mode": {
        "name": "ipython",
        "version": 3
      },
      "file_extension": ".py",
      "mimetype": "text/x-python",
      "name": "python",
      "nbconvert_exporter": "python",
      "pygments_lexer": "ipython3",
      "version": "3.7.9"
    }
  },
  "nbformat": 4,
  "nbformat_minor": 5
}